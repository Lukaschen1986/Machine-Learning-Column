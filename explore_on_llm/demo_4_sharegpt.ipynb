{
 "cells": [
  {
   "cell_type": "code",
   "execution_count": null,
   "id": "5a135c0c",
   "metadata": {},
   "outputs": [
    {
     "name": "stdout",
     "output_type": "stream",
     "text": [
      "Looking in indexes: https://pypi.tuna.tsinghua.edu.cn/simple, https://pypi.ngc.nvidia.com\n",
      "Requirement already satisfied: modelscope in c:\\files\\anaconda3\\lib\\site-packages (1.25.0)\n",
      "Requirement already satisfied: addict in c:\\files\\anaconda3\\lib\\site-packages (2.4.0)\n",
      "Requirement already satisfied: requests>=2.25 in c:\\files\\anaconda3\\lib\\site-packages (from modelscope) (2.32.3)\n",
      "Requirement already satisfied: tqdm>=4.64.0 in c:\\files\\anaconda3\\lib\\site-packages (from modelscope) (4.66.5)\n",
      "Requirement already satisfied: urllib3>=1.26 in c:\\files\\anaconda3\\lib\\site-packages (from modelscope) (2.2.1)\n",
      "Requirement already satisfied: charset-normalizer<4,>=2 in c:\\files\\anaconda3\\lib\\site-packages (from requests>=2.25->modelscope) (2.0.4)\n",
      "Requirement already satisfied: idna<4,>=2.5 in c:\\files\\anaconda3\\lib\\site-packages (from requests>=2.25->modelscope) (3.4)\n",
      "Requirement already satisfied: certifi>=2017.4.17 in c:\\files\\anaconda3\\lib\\site-packages (from requests>=2.25->modelscope) (2023.7.22)\n",
      "Requirement already satisfied: colorama in c:\\files\\anaconda3\\lib\\site-packages (from tqdm>=4.64.0->modelscope) (0.4.6)\n",
      "Looking in indexes: https://pypi.tuna.tsinghua.edu.cn/simple, https://pypi.ngc.nvidia.com\n",
      "Requirement already satisfied: modelscope in c:\\files\\anaconda3\\lib\\site-packages (1.25.0)\n",
      "Requirement already satisfied: addict in c:\\files\\anaconda3\\lib\\site-packages (2.4.0)\n",
      "Requirement already satisfied: requests>=2.25 in c:\\files\\anaconda3\\lib\\site-packages (from modelscope) (2.32.3)\n",
      "Requirement already satisfied: tqdm>=4.64.0 in c:\\files\\anaconda3\\lib\\site-packages (from modelscope) (4.66.5)\n",
      "Requirement already satisfied: urllib3>=1.26 in c:\\files\\anaconda3\\lib\\site-packages (from modelscope) (2.2.1)\n",
      "Requirement already satisfied: charset-normalizer<4,>=2 in c:\\files\\anaconda3\\lib\\site-packages (from requests>=2.25->modelscope) (2.0.4)\n",
      "Requirement already satisfied: idna<4,>=2.5 in c:\\files\\anaconda3\\lib\\site-packages (from requests>=2.25->modelscope) (3.4)\n",
      "Requirement already satisfied: certifi>=2017.4.17 in c:\\files\\anaconda3\\lib\\site-packages (from requests>=2.25->modelscope) (2023.7.22)\n",
      "Requirement already satisfied: colorama in c:\\files\\anaconda3\\lib\\site-packages (from tqdm>=4.64.0->modelscope) (0.4.6)\n"
     ]
    }
   ],
   "source": [
    "# !pip install -i https://pypi.tuna.tsinghua.edu.cn/simple -U modelscope addict"
   ]
  },
  {
   "cell_type": "code",
   "execution_count": 18,
   "id": "a9dc62a2",
   "metadata": {},
   "outputs": [],
   "source": [
    "import os\n",
    "import sys\n",
    "import warnings; warnings.filterwarnings(\"ignore\")\n",
    "\n",
    "from pprint import pp\n",
    "from modelscope.msdatasets import MsDataset\n",
    "from datasets import (load_dataset, load_from_disk, Dataset)"
   ]
  },
  {
   "cell_type": "code",
   "execution_count": 8,
   "id": "8d5affef",
   "metadata": {},
   "outputs": [],
   "source": [
    "path_project = \"C:/my_project/MyGit/Machine-Learning-Column/hugging_face\"\n",
    "path_data = os.path.join(os.path.dirname(path_project), \"data\")\n",
    "path_model = \"F:/LLM\"\n",
    "path_output = os.path.join(path_model, \"output\")"
   ]
  },
  {
   "cell_type": "code",
   "execution_count": null,
   "id": "ceb04d87",
   "metadata": {},
   "outputs": [
    {
     "name": "stderr",
     "output_type": "stream",
     "text": [
      "2025-04-26 20:22:25,681 - modelscope - WARNING - Use trust_remote_code=True. Will invoke codes from C:/my_project/MyGit/Machine-Learning-Column\\data\\ShareGPT/ShareGPT_V3_unfiltered_cleaned_split.json. Please make sure that you can trust the external codes.\n",
      "2025-04-26 20:22:25,682 - modelscope - WARNING - Use trust_remote_code=True. Will invoke codes from json. Please make sure that you can trust the external codes.\n"
     ]
    },
    {
     "data": {
      "application/vnd.jupyter.widget-view+json": {
       "model_id": "0366381e6a6246128e55f4f5da3cbcc0",
       "version_major": 2,
       "version_minor": 0
      },
      "text/plain": [
       "Generating train split: 0 examples [00:00, ? examples/s]"
      ]
     },
     "metadata": {},
     "output_type": "display_data"
    }
   ],
   "source": [
    "# dataset =  MsDataset.load(os.path.join(path_data, \"ShareGPT/ShareGPT_V3_unfiltered_cleaned_split.json\"), subset_name=\"default\", split=\"train\")\n",
    "dataset = load_dataset(\n",
    "    path=\"json\",\n",
    "    data_files=os.path.join(path_data, \"ShareGPT/ShareGPT_V3_unfiltered_cleaned_split.json\"),\n",
    "    split=\"all\"\n",
    ")"
   ]
  },
  {
   "cell_type": "code",
   "execution_count": 19,
   "id": "3fb7a1ed",
   "metadata": {},
   "outputs": [
    {
     "data": {
      "application/vnd.jupyter.widget-view+json": {
       "model_id": "898459a48d104ba684b267d45660b446",
       "version_major": 2,
       "version_minor": 0
      },
      "text/plain": [
       "Generating train split: 0 examples [00:00, ? examples/s]"
      ]
     },
     "metadata": {},
     "output_type": "display_data"
    }
   ],
   "source": [
    "dataset = load_dataset(\n",
    "    path=\"json\",\n",
    "    data_files=os.path.join(path_data, \"ShareGPT/ShareGPT_V3_unfiltered_cleaned_split.json\"),\n",
    "    split=\"all\"\n",
    ")"
   ]
  },
  {
   "cell_type": "code",
   "execution_count": 22,
   "id": "33800014",
   "metadata": {},
   "outputs": [
    {
     "data": {
      "text/plain": [
       "{'id': 'i6IyJda_0',\n",
       " 'conversations': [{'from': 'human',\n",
       "   'markdown': None,\n",
       "   'text': None,\n",
       "   'value': 'How to tell if a customer segment is well segmented? In 3 bullet points.'},\n",
       "  {'from': 'gpt',\n",
       "   'markdown': None,\n",
       "   'text': None,\n",
       "   'value': '1. Homogeneity: The segment should consist of customers who share similar characteristics and behaviors.\\n2. Distinctiveness: The segment should be different from other segments in terms of their characteristics and behaviors.\\n3. Stability: The segment should remain relatively stable over time and not change drastically. The characteristics and behaviors of customers within the segment should not change significantly.'}]}"
      ]
     },
     "execution_count": 22,
     "metadata": {},
     "output_type": "execute_result"
    }
   ],
   "source": [
    "dataset[1]"
   ]
  }
 ],
 "metadata": {
  "kernelspec": {
   "display_name": "base",
   "language": "python",
   "name": "python3"
  },
  "language_info": {
   "codemirror_mode": {
    "name": "ipython",
    "version": 3
   },
   "file_extension": ".py",
   "mimetype": "text/x-python",
   "name": "python",
   "nbconvert_exporter": "python",
   "pygments_lexer": "ipython3",
   "version": "3.11.5"
  }
 },
 "nbformat": 4,
 "nbformat_minor": 5
}
