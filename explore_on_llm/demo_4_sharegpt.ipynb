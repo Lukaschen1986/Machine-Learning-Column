{
 "cells": [
  {
   "cell_type": "code",
   "execution_count": null,
   "id": "5a135c0c",
   "metadata": {},
   "outputs": [],
   "source": [
    "# !pip install -i https://pypi.tuna.tsinghua.edu.cn/simple -U --user transformers==4.45.0 trl==0.9.6\n",
    "# https://blog.csdn.net/flyfish1986/article/details/142382893"
   ]
  },
  {
   "cell_type": "code",
   "execution_count": 31,
   "id": "a9dc62a2",
   "metadata": {},
   "outputs": [],
   "source": [
    "import warnings; warnings.filterwarnings(\"ignore\")\n",
    "import os\n",
    "import sys\n",
    "import json\n",
    "import torch as th\n",
    "# import torch_npu as th_npu\n",
    "import transformers\n",
    "import trl\n",
    "\n",
    "from pprint import pp\n",
    "from tqdm import trange\n",
    "from transformers import DataCollatorForLanguageModeling\n",
    "from trl import (SFTConfig, SFTTrainer)"
   ]
  },
  {
   "cell_type": "code",
   "execution_count": 25,
   "id": "e1fc8789",
   "metadata": {},
   "outputs": [
    {
     "name": "stdout",
     "output_type": "stream",
     "text": [
      "device = cuda; devive_cnt = 1\n",
      "torch version = 2.5.1+cu121\n",
      "cuda version = 12.1\n",
      "transformers version = 4.45.0\n",
      "trl version = 0.9.6\n"
     ]
    }
   ],
   "source": [
    "device = th.device(\"cuda\" if th.cuda.is_available() else \"cpu\")\n",
    "# device = th.device(\"npu\" if th.npu.is_available() else \"cpu\")\n",
    "devive_cnt = th.cuda.device_count()\n",
    "# devive_cnt = th.npu.device_count()\n",
    "print(f\"device = {device}; devive_cnt = {devive_cnt}\")\n",
    "print(f\"torch version = {th.__version__}\")\n",
    "print(f\"cuda version = {th.version.cuda}\")\n",
    "print(f\"transformers version = {transformers.__version__}\")\n",
    "print(f\"trl version = {trl.__version__}\")"
   ]
  },
  {
   "cell_type": "code",
   "execution_count": 30,
   "id": "8d5affef",
   "metadata": {},
   "outputs": [],
   "source": [
    "path_project = \"C:/my_project/MyGit/Machine-Learning-Column\"\n",
    "path_data = os.path.join(path_project, \"data\")\n",
    "path_model = \"F:/LLM\"\n",
    "path_output = os.path.join(path_model, \"output\")"
   ]
  },
  {
   "cell_type": "code",
   "execution_count": null,
   "id": "79baa822",
   "metadata": {},
   "outputs": [],
   "source": [
    "list_sharegpt_samples = []"
   ]
  },
  {
   "cell_type": "code",
   "execution_count": null,
   "id": "e4b84fb1",
   "metadata": {},
   "outputs": [],
   "source": [
    "dict_conversations = {\n",
    "    \"conversations\": [\n",
    "        # user prompt\n",
    "        {\n",
    "            \"from\": \"human\",\n",
    "            \"value\": \"我想知道明天济南的天气。\"\n",
    "        },\n",
    "        # function call\n",
    "        {\n",
    "            \"from\": \"function_call\",\n",
    "            \"value\": \"{\\\"name\\\": \\\"get_weather_forecast\\\", \\\"arguments\\\": {\\\"location\\\": \\\"济南\\\", \\\"date\\\": \\\"明天\\\"}}\"\n",
    "        },\n",
    "        # function response\n",
    "        {\n",
    "            \"from\": \"observation\",\n",
    "            \"value\": \"{\\\"temperature_high\\\": 25, \\\"temperature_low\\\": 18, \\\"condition\\\": \\\"多云\\\", \\\"humidity\\\": 60}\"\n",
    "        },\n",
    "        # model response\n",
    "        {\n",
    "            \"from\": \"gpt\",\n",
    "            \"value\": \"明天济南的天气预报显示是多云，最高温度约为25摄氏度，最低温度约为18摄氏度，湿度为60%。\"\n",
    "        }\n",
    "    ],\n",
    "    # system prompt (optional)\n",
    "    \"system\": \"你是一位智能助手，能够帮助用户调用工具查询各种信息。\",\n",
    "    # tools schema (optional)\n",
    "    \"tools\": \"[{\\\"name\\\": \\\"get_weather_forecast\\\", \\\"description\\\": \\\"获取指定地点的天气预报\\\", \\\"parameters\\\": {\\\"type\\\": \\\"object\\\", \\\"properties\\\": {\\\"location\\\": {\\\"type\\\": \\\"string\\\", \\\"description\\\": \\\"要查询天气的地点\\\"}, \\\"date\\\": {\\\"type\\\": \\\"string\\\", \\\"description\\\": \\\"查询的日期\\\"}}, \\\"required\\\": [\\\"location\\\", \\\"date\\\"]}}]\"\n",
    "}\n"
   ]
  },
  {
   "cell_type": "code",
   "execution_count": null,
   "id": "29b0f51f",
   "metadata": {},
   "outputs": [],
   "source": [
    "for i in trange(len(df), desc=\"将数据集改写为 ShareGPT 格式\"):\n",
    "    dict_conversations = {...}\n",
    "    list_sharegpt_samples.append(dict_conversations)"
   ]
  },
  {
   "cell_type": "code",
   "execution_count": null,
   "id": "17002656",
   "metadata": {},
   "outputs": [],
   "source": [
    "with open(os.path.join(path_data, \"sharegpt_samples.jsonl\"), mode=\"w\", encoding=\"utf-8\") as f:\n",
    "    for line in list_sharegpt_samples:\n",
    "        f.write(json.dumps(line, ensure_ascii=False) + \"\\n\")"
   ]
  },
  {
   "cell_type": "code",
   "execution_count": 19,
   "id": "6e038184",
   "metadata": {},
   "outputs": [],
   "source": [
    "d = {\n",
    "    \"name\": \"get_weather_forecast\",\n",
    "    \"arguments\": {\n",
    "        \"location\": \"济南\",\n",
    "        \"date\": \"明天\"\n",
    "    }\n",
    "}"
   ]
  },
  {
   "cell_type": "code",
   "execution_count": null,
   "id": "09bd0022",
   "metadata": {},
   "outputs": [],
   "source": [
    "d = {\n",
    "    \"name\": \"get_weather_forecast\",\n",
    "    \"description\": \"获取指定地点的天气预报\",\n",
    "    \"parameters\": {\n",
    "        \"type\": \"object\",\n",
    "        \"properties\": {\n",
    "            \"location\": {\n",
    "                \"type\": \"string\",\n",
    "                \"description\": \"要查询天气的地点\"\n",
    "            },\n",
    "            \"date\": {\n",
    "                \"type\": \"string\",\n",
    "                \"description\": \"查询的日期\"\n",
    "            }\n",
    "        },\n",
    "        \"required\": [\"location\", \"date\"]\n",
    "    }\n",
    "}"
   ]
  },
  {
   "cell_type": "code",
   "execution_count": 22,
   "id": "949b8e90",
   "metadata": {},
   "outputs": [
    {
     "data": {
      "text/plain": [
       "'{\"name\": \"get_weather_forecast\", \"description\": \"获取指定地点的天气预报\", \"parameters\": {\"type\": \"object\", \"properties\": {\"location\": {\"type\": \"string\", \"description\": \"要查询天气的地点\"}, \"date\": {\"type\": \"string\", \"description\": \"查询的日期\"}}, \"required\": [\"location\", \"date\"]}}'"
      ]
     },
     "execution_count": 22,
     "metadata": {},
     "output_type": "execute_result"
    }
   ],
   "source": [
    "json.dumps(d, ensure_ascii=False)"
   ]
  }
 ],
 "metadata": {
  "kernelspec": {
   "display_name": "base",
   "language": "python",
   "name": "python3"
  },
  "language_info": {
   "codemirror_mode": {
    "name": "ipython",
    "version": 3
   },
   "file_extension": ".py",
   "mimetype": "text/x-python",
   "name": "python",
   "nbconvert_exporter": "python",
   "pygments_lexer": "ipython3",
   "version": "3.11.5"
  }
 },
 "nbformat": 4,
 "nbformat_minor": 5
}
