{
 "cells": [
  {
   "cell_type": "markdown",
   "metadata": {},
   "source": [
    "https://github.com/openai/swarm  \n",
    "https://www.deepseek.com/  \n",
    "https://bigmodel.cn/console/overview  "
   ]
  },
  {
   "cell_type": "code",
   "execution_count": 1,
   "metadata": {},
   "outputs": [],
   "source": [
    "import os\n",
    "import sys\n",
    "import warnings; warnings.filterwarnings(\"ignore\")\n",
    "import json\n",
    "import requests\n",
    "import torch as th\n",
    "\n",
    "from pprint import pp\n",
    "from dotenv import load_dotenv\n",
    "from openai import OpenAI\n",
    "from swarm import (Swarm, Agent)\n",
    "from IPython.display import (Markdown, display)"
   ]
  },
  {
   "cell_type": "code",
   "execution_count": 2,
   "metadata": {},
   "outputs": [
    {
     "name": "stdout",
     "output_type": "stream",
     "text": [
      "device = cuda; devive_cnt = 1\n",
      "torch = 2.5.1+cu121\n",
      "cuda = 12.1\n"
     ]
    }
   ],
   "source": [
    "if sys.platform == \"darwin\":\n",
    "    device = th.device(\"mps\")\n",
    "else:\n",
    "    device = th.device(\"cuda\" if th.cuda.is_available() else \"cpu\")\n",
    "    \n",
    "devive_cnt = th.cuda.device_count()\n",
    "print(f\"device = {device}; devive_cnt = {devive_cnt}\")\n",
    "print(f\"torch = {th.__version__}\")\n",
    "print(f\"cuda = {th.version.cuda}\")"
   ]
  },
  {
   "cell_type": "code",
   "execution_count": 3,
   "metadata": {},
   "outputs": [],
   "source": [
    "path_project = \"C:/my_project/MyGit/Machine-Learning-Column/hugging_face\"\n",
    "path_data = os.path.join(os.path.dirname(path_project), \"data\")\n",
    "path_output = os.path.join(os.path.dirname(path_project), \"output\")\n",
    "\n",
    "if sys.platform == \"darwin\":\n",
    "    path_model = \"/Users/lukasi33/project/LLM\"\n",
    "else:\n",
    "    path_model = \"F:/LLM\""
   ]
  },
  {
   "cell_type": "markdown",
   "metadata": {},
   "source": [
    "## step-1: 载入 API KEY"
   ]
  },
  {
   "cell_type": "code",
   "execution_count": 4,
   "metadata": {},
   "outputs": [],
   "source": [
    "load_dotenv(dotenv_path=\"explore.env\")\n",
    "deepseek_key = os.getenv(\"DEEPSEEK_KEY\")\n",
    "baidu_key = os.getenv(\"BAIDU_KEY\")\n",
    "zhipu_key = os.getenv(\"ZHIPU_KEY\")"
   ]
  },
  {
   "cell_type": "markdown",
   "metadata": {},
   "source": [
    "## step-2: 实例化客户端"
   ]
  },
  {
   "cell_type": "code",
   "execution_count": 77,
   "metadata": {},
   "outputs": [],
   "source": [
    "# 调用模型 API\n",
    "# client = OpenAI(\n",
    "#     api_key=deepseek_key,\n",
    "#     base_url=\"https://api.deepseek.com\",\n",
    "#     timeout=60\n",
    "#     )\n",
    "\n",
    "client = OpenAI(\n",
    "    api_key=zhipu_key,\n",
    "    base_url=\"https://open.bigmodel.cn/api/paas/v4\",\n",
    "    timeout=60\n",
    "    )"
   ]
  },
  {
   "cell_type": "code",
   "execution_count": 24,
   "metadata": {},
   "outputs": [],
   "source": [
    "# 本地 Ollama\n",
    "client = OpenAI(\n",
    "    base_url=\"http://127.0.0.1:11434/v1\",\n",
    "    api_key=\"EMPTY\",\n",
    "    timeout=3000\n",
    "    )"
   ]
  },
  {
   "cell_type": "code",
   "execution_count": 25,
   "metadata": {},
   "outputs": [],
   "source": [
    "swarm_client = Swarm(client)"
   ]
  },
  {
   "cell_type": "markdown",
   "metadata": {},
   "source": [
    "## step-3: Agent 推理"
   ]
  },
  {
   "cell_type": "code",
   "execution_count": 7,
   "metadata": {},
   "outputs": [],
   "source": [
    "# online\n",
    "# checkpoint = \"deepseek-chat\"  # v3\n",
    "# checkpoint = \"deepseek-reasoner\"  # r1\n",
    "# checkpoint = \"glm-4-plus\"\n",
    "\n",
    "# offline\n",
    "# checkpoint = \"deepseek-r1:14b\"\n",
    "# checkpoint = \"qwen2.5:7b\"\n",
    "# checkpoint = \"qwen2.5:14b\"\n",
    "checkpoint = \"qwen2.5:32b\"\n",
    "# checkpoint = \"glm4\"\n",
    "# checkpoint = \"llama3.1:8b\"\n",
    "# checkpoint = \"llama3.2:3b\""
   ]
  },
  {
   "cell_type": "code",
   "execution_count": 8,
   "metadata": {},
   "outputs": [],
   "source": [
    "agent = Agent(\n",
    "    name=\"Agent\",\n",
    "    model=checkpoint,\n",
    "    instructions=\"You are a helpful assistant on business travel.\"\n",
    ")"
   ]
  },
  {
   "cell_type": "code",
   "execution_count": 9,
   "metadata": {},
   "outputs": [],
   "source": [
    "system_prompt = (\n",
    "    \"你叫小慧助手，是由Lukas开发的差旅智能客服。\"\n",
    "    \"你的身份是一名差旅秘书，\"\n",
    "    \"你的任务是为用户提供基础对话、差旅知识问答、酒店推荐服务。\"\n",
    "    \"当问及你的模型参数时，标准回答是属于公司保密信息，要强调模型设计的高效，能够提供高质量的服务。\"\n",
    "    \"You are a helpful assistant on business travel.\"\n",
    ")"
   ]
  },
  {
   "cell_type": "code",
   "execution_count": 10,
   "metadata": {},
   "outputs": [],
   "source": [
    "user_prompt = \"你好呀~\""
   ]
  },
  {
   "cell_type": "code",
   "execution_count": 11,
   "metadata": {},
   "outputs": [],
   "source": [
    "messages = [\n",
    "    {\"role\": \"system\", \"content\": system_prompt},\n",
    "    {\"role\": \"user\", \"content\": user_prompt}\n",
    "]"
   ]
  },
  {
   "cell_type": "code",
   "execution_count": 12,
   "metadata": {},
   "outputs": [],
   "source": [
    "response = swarm_client.run(\n",
    "    agent=agent,\n",
    "    messages=messages\n",
    ")"
   ]
  },
  {
   "cell_type": "code",
   "execution_count": 13,
   "metadata": {},
   "outputs": [
    {
     "name": "stdout",
     "output_type": "stream",
     "text": [
      "你好！有什么可以帮到你的吗？是需要差旅建议、酒店推荐还是想知道关于差旅的小贴士呢？\n"
     ]
    }
   ],
   "source": [
    "print(response.messages[-1][\"content\"])"
   ]
  },
  {
   "cell_type": "markdown",
   "metadata": {},
   "source": [
    "## step-4: Agent 调用工具"
   ]
  },
  {
   "cell_type": "code",
   "execution_count": 15,
   "metadata": {},
   "outputs": [],
   "source": [
    "cityName2districtId = {\n",
    "    \"北京\": \"110100\",\n",
    "    \"上海\": \"310100\",\n",
    "    \"广州\": \"440100\",\n",
    "    \"深圳\": \"440300\",\n",
    "    \"南京\": \"320100\",\n",
    "    \"杭州\": \"330100\"\n",
    "}"
   ]
  },
  {
   "cell_type": "code",
   "execution_count": 16,
   "metadata": {},
   "outputs": [],
   "source": [
    "def get_weather(cityName):\n",
    "    districtId = cityName2districtId.get(cityName)\n",
    "    url = f\"https://api.map.baidu.com/weather/v1/?district_id={districtId}&data_type=all&ak={baidu_key}\"\n",
    "    response = requests.get(url)\n",
    "    data = response.json()\n",
    "    result = data[\"result\"]\n",
    "    \n",
    "    result[\"location\"].pop(\"country\")\n",
    "    result[\"location\"].pop(\"province\")\n",
    "    result[\"location\"].pop(\"name\")\n",
    "    result[\"location\"].pop(\"id\")\n",
    "    \n",
    "    result[\"now\"].pop(\"feels_like\")\n",
    "    result[\"now\"].pop(\"rh\")\n",
    "    result[\"now\"].pop(\"uptime\")\n",
    "    result[\"now\"].pop(\"wind_class\")\n",
    "    result[\"now\"].pop(\"wind_dir\")\n",
    "    \n",
    "    for _dict in result[\"forecasts\"]:\n",
    "        _dict.pop(\"text_night\")\n",
    "        _dict.pop(\"wc_night\")\n",
    "        _dict.pop(\"wd_night\")\n",
    "        _dict.pop(\"wc_day\")\n",
    "        _dict.pop(\"wd_day\")\n",
    "    return json.dumps(result)"
   ]
  },
  {
   "cell_type": "code",
   "execution_count": 17,
   "metadata": {},
   "outputs": [
    {
     "data": {
      "text/plain": [
       "'{\"location\": {\"city\": \"\\\\u5357\\\\u4eac\\\\u5e02\"}, \"now\": {\"text\": \"\\\\u6674\", \"temp\": 10}, \"forecasts\": [{\"text_day\": \"\\\\u6674\", \"high\": 10, \"low\": 0, \"date\": \"2025-02-04\", \"week\": \"\\\\u661f\\\\u671f\\\\u4e8c\"}, {\"text_day\": \"\\\\u591a\\\\u4e91\", \"high\": 9, \"low\": -1, \"date\": \"2025-02-05\", \"week\": \"\\\\u661f\\\\u671f\\\\u4e09\"}, {\"text_day\": \"\\\\u591a\\\\u4e91\", \"high\": 8, \"low\": -1, \"date\": \"2025-02-06\", \"week\": \"\\\\u661f\\\\u671f\\\\u56db\"}, {\"text_day\": \"\\\\u591a\\\\u4e91\", \"high\": 2, \"low\": -5, \"date\": \"2025-02-07\", \"week\": \"\\\\u661f\\\\u671f\\\\u4e94\"}, {\"text_day\": \"\\\\u6674\", \"high\": 0, \"low\": -5, \"date\": \"2025-02-08\", \"week\": \"\\\\u661f\\\\u671f\\\\u516d\"}]}'"
      ]
     },
     "execution_count": 17,
     "metadata": {},
     "output_type": "execute_result"
    }
   ],
   "source": [
    "# test tool\n",
    "result = get_weather(cityName=\"南京\")\n",
    "result"
   ]
  },
  {
   "cell_type": "code",
   "execution_count": 18,
   "metadata": {},
   "outputs": [],
   "source": [
    "agent = Agent(\n",
    "    name=\"Master Agent\",\n",
    "    model=checkpoint,\n",
    "    instructions=\"You are a helpful assistant on business travel.\",\n",
    "    functions=[get_weather]\n",
    ")"
   ]
  },
  {
   "cell_type": "code",
   "execution_count": 19,
   "metadata": {},
   "outputs": [],
   "source": [
    "# 模拟场景-1\n",
    "user_prompt = \"帮我查下南京的天气\"\n",
    "\n",
    "messages = [\n",
    "    {\"role\": \"system\", \"content\": system_prompt},\n",
    "    {\"role\": \"user\", \"content\": user_prompt}\n",
    "]"
   ]
  },
  {
   "cell_type": "code",
   "execution_count": 26,
   "metadata": {},
   "outputs": [],
   "source": [
    "response = swarm_client.run(\n",
    "    agent=agent,\n",
    "    messages=messages\n",
    ")"
   ]
  },
  {
   "cell_type": "code",
   "execution_count": 27,
   "metadata": {},
   "outputs": [
    {
     "name": "stdout",
     "output_type": "stream",
     "text": [
      "南京的天气目前为阴。之后几天预计为多云，最高温度最低于10摄氏度。详细天 气情况如下：\n",
      "\n",
      "* 2025年2月4日：阴，最高温度10摄氏度，最低温度0摄氏度。\n",
      "* 2025年2月5日：多云，最高温度9摄氏度，最低温度-1摄氏度。\n",
      "* 2025年2月6日：多云，最高温度8摄氏度，最低温度-1摄氏度。\n",
      "* 2025年2月7日：多云，最高温度2摄氏度，最低温度-5摄氏度。\n",
      "* 2025年2月8日：阴，最高温度0摄氏度，最低温度-5摄氏度。\n"
     ]
    }
   ],
   "source": [
    "print(response.messages[-1][\"content\"])"
   ]
  },
  {
   "cell_type": "code",
   "execution_count": 69,
   "metadata": {},
   "outputs": [],
   "source": [
    "# 模拟场景-2\n",
    "departCityName = \"南京\"\n",
    "arriveCityName = \"深圳\"\n",
    "startDate = \"2025-02-02\"\n",
    "endDate = \"2025-02-10\"\n",
    "travelPurpose = \"深圳基地培训\"\n",
    "query = \"我明天要去深圳出差，帮我看下天气是否适合出差\"\n",
    "\n",
    "user_prompt = (\n",
    "    f\"出发城市：{departCityName}\\n\"\n",
    "    f\"到达城市：{arriveCityName}\\n\"\n",
    "    f\"出差时间：{startDate}至{endDate}\\n\"\n",
    "    f\"出差目的：{travelPurpose}\\n\"\n",
    "    f\"需求备注：{query}\"\n",
    ")"
   ]
  },
  {
   "cell_type": "code",
   "execution_count": 70,
   "metadata": {},
   "outputs": [],
   "source": [
    "messages = [\n",
    "    {\"role\": \"system\", \"content\": system_prompt},\n",
    "    {\"role\": \"user\", \"content\": user_prompt}\n",
    "]"
   ]
  },
  {
   "cell_type": "code",
   "execution_count": 71,
   "metadata": {},
   "outputs": [],
   "source": [
    "response = swarm_client.run(\n",
    "    agent=agent,\n",
    "    messages=messages\n",
    ")"
   ]
  },
  {
   "cell_type": "code",
   "execution_count": 72,
   "metadata": {},
   "outputs": [
    {
     "name": "stdout",
     "output_type": "stream",
     "text": [
      "根据最新的天气预报，深圳未来几天的天气情况如下：\n",
      "\n",
      "- 2025年2月2日（星期日）：白天阴，夜间小雨，气温13-22℃，风力3-4级。\n",
      "- 2025年2月3日（星期一）：白天小雨，夜间多云，气温11-14℃，风力3-4级。\n",
      "- 2025年2月4日（星期二）：白天多云，夜间多云，气温11-18℃，风力小于3级。\n",
      "- 2025年2月5日（星期三）：白天多云，夜间多云，气温11-19℃，风力小于3级。\n",
      "- 2025年2月6日（星期四）：白天多云，夜间小雨，气温13-20℃，风力小于3级。\n",
      "\n",
      "根据这些信息，虽然有几天下雨，但整体气温适宜，风力也不大，应该不会对您的出差造成太大影响。建议您携带一些雨具以防不时之需，并注意根据天气变化适当调整着装。祝您出差顺利！\n"
     ]
    }
   ],
   "source": [
    "print(response.messages[-1][\"content\"])"
   ]
  },
  {
   "cell_type": "markdown",
   "metadata": {},
   "source": [
    "## step-5: Multi-Agent"
   ]
  },
  {
   "cell_type": "code",
   "execution_count": 159,
   "metadata": {},
   "outputs": [],
   "source": [
    "# context_variables\n",
    "# departCityName = \"南京\"\n",
    "# arriveCityName = \"深圳\"\n",
    "# startDate = \"2025-02-05\"\n",
    "# endDate = \"2025-02-10\"\n",
    "# travelPurpose = \"深圳基地培训\"\n",
    "# customer_context = (\n",
    "#     f\"出发城市：{departCityName}，\"\n",
    "#     f\"到达城市：{arriveCityName}，\"\n",
    "#     f\"出差时间：{startDate}至{endDate}，\"\n",
    "#     f\"出差目的：{travelPurpose}\"\n",
    "# )\n",
    "\n",
    "# context_variables = {\n",
    "#     \"customer_context\": customer_context\n",
    "# }"
   ]
  },
  {
   "cell_type": "code",
   "execution_count": 14,
   "metadata": {},
   "outputs": [],
   "source": [
    "# 日常对话助手\n",
    "dialog_agent = Agent(\n",
    "    name=\"日常对话助手\",\n",
    "    model=checkpoint,\n",
    "    instructions=(\n",
    "        \"你的任务是与用户进行日常对话，你要始终以专业差旅秘书的身份为用户提供引导和建议。\"\n",
    "        \"字数控制在100字以内。\"\n",
    "        \"不要与用户分享你的思维过程！不要擅自替用户做出不合理的假设！\"\n",
    "    )\n",
    ")\n",
    "\n",
    "def transfer_to_dialog_agent():\n",
    "    return dialog_agent"
   ]
  },
  {
   "cell_type": "code",
   "execution_count": 15,
   "metadata": {},
   "outputs": [],
   "source": [
    "# 天气预报助手\n",
    "# https://lbsyun.baidu.com/faq/api?title=webapi/weather/base\n",
    "cityName2districtId = {\n",
    "    \"北京\": \"110100\",\n",
    "    \"上海\": \"310100\",\n",
    "    \"广州\": \"440100\",\n",
    "    \"深圳\": \"440300\",\n",
    "    \"南京\": \"320100\",\n",
    "    \"杭州\": \"330100\"\n",
    "}\n",
    "\n",
    "def get_weather(cityName):\n",
    "    \"\"\"\n",
    "    cityName: 城市名称，如“北京”、“上海”\n",
    "    \"\"\"\n",
    "    districtId = cityName2districtId.get(cityName)\n",
    "    url = f\"https://api.map.baidu.com/weather/v1/?district_id={districtId}&data_type=all&ak={baidu_key}\"\n",
    "    response = requests.get(url)\n",
    "    data = response.json()\n",
    "    result = data[\"result\"]\n",
    "    \n",
    "    result[\"location\"].pop(\"country\")\n",
    "    result[\"location\"].pop(\"province\")\n",
    "    result[\"location\"].pop(\"name\")\n",
    "    result[\"location\"].pop(\"id\")\n",
    "    \n",
    "    result[\"now\"].pop(\"feels_like\")\n",
    "    result[\"now\"].pop(\"rh\")\n",
    "    result[\"now\"].pop(\"uptime\")\n",
    "    result[\"now\"].pop(\"wind_class\")\n",
    "    result[\"now\"].pop(\"wind_dir\")\n",
    "    \n",
    "    for _dict in result[\"forecasts\"]:\n",
    "        _dict.pop(\"text_night\")\n",
    "        _dict.pop(\"wc_night\")\n",
    "        _dict.pop(\"wd_night\")\n",
    "        _dict.pop(\"wc_day\")\n",
    "        _dict.pop(\"wd_day\")\n",
    "    return json.dumps(result)\n",
    "\n",
    "# weather_agent = Agent(\n",
    "#     name=\"天气预报助手\",\n",
    "#     model=checkpoint,\n",
    "#     instructions=(\n",
    "#         \"你的任务是调用工具帮用户查询指定城市的天气预报，\"\n",
    "#         \"一旦你准备好查询天气时，直接调用工具执行查询。\"\n",
    "#         \"不要与用户分享你的思维过程！不要擅自替用户做出不合理的假设！\"\n",
    "#         ),\n",
    "#     functions=[get_weather]\n",
    "# )\n",
    "\n",
    "# def transfer_to_weather_agent():\n",
    "#     return weather_agent"
   ]
  },
  {
   "cell_type": "code",
   "execution_count": 16,
   "metadata": {},
   "outputs": [],
   "source": [
    "# 查询地点距离助手\n",
    "# https://lbsyun.baidu.com/faq/api?title=webapi/place-suggestion-api\n",
    "# https://lbsyun.baidu.com/faq/api?title=webapi/webservice-direction/dirve\n",
    "def get_distance(city, from_location, end_location):\n",
    "    \"\"\"\n",
    "    city: 城市名称，如“南京”、“杭州”\n",
    "    from_location: 出发地点，如“全季酒店”\n",
    "    end_location: 到达地点，如“南研所”\n",
    "    \"\"\"\n",
    "    url_a = f\"https://api.map.baidu.com/place/v2/suggestion?query={from_location}&region={city}&city_limit=true&output=json&ak={baidu_key}\"\n",
    "    response_a = requests.get(url_a)\n",
    "    data_a = response_a.json()\n",
    "    origin = (data_a[\"result\"][0][\"location\"][\"lat\"], data_a[\"result\"][0][\"location\"][\"lng\"])\n",
    "    \n",
    "    url_b = f\"https://api.map.baidu.com/place/v2/suggestion?query={end_location}&region={city}&city_limit=true&output=json&ak={baidu_key}\"\n",
    "    response_b = requests.get(url_b)\n",
    "    data_b = response_b.json()\n",
    "    destination = (data_b[\"result\"][0][\"location\"][\"lat\"], data_b[\"result\"][0][\"location\"][\"lng\"])\n",
    "    \n",
    "    # url = f\"https://api.map.baidu.com/direction/v2/driving?origin={origin[0]},{origin[1]}&destination={destination[0]},{destination[1]}&tactics=2&ak={baidu_key}\"\n",
    "    url = f\"https://api.map.baidu.com/direction/v2/driving?origin={origin[0]},{origin[1]}&destination={destination[0]},{destination[1]}&ak={baidu_key}\"\n",
    "    response = requests.get(url)\n",
    "    data = response.json()\n",
    "    distance = data[\"result\"][\"routes\"][0][\"distance\"]\n",
    "    duration = data[\"result\"][\"routes\"][0][\"duration\"]\n",
    "    result = {\"distance\": distance, \"duration\": duration}\n",
    "    return json.dumps(result)\n",
    "\n",
    "# distance_agent = Agent(\n",
    "#     name=\"查询地点距离助手\",\n",
    "#     model=checkpoint,\n",
    "#     instructions=(\n",
    "#         \"你的任务是调用工具帮用户查询两个地点之间的驾车距离与用时。\"\n",
    "#         \"不要与用户分享你的思维过程！不要擅自替用户做出不合理的假设！\"\n",
    "#         # \"距离（distance）的单位是米，转换为公里，\"\n",
    "#         # \"用时（duration）的单位是秒，转换为分钟。\"\n",
    "#     ),\n",
    "#     functions=[get_distance]\n",
    "# )\n",
    "\n",
    "# def transfer_to_distance_agent():\n",
    "#     return distance_agent"
   ]
  },
  {
   "cell_type": "code",
   "execution_count": 31,
   "metadata": {},
   "outputs": [
    {
     "data": {
      "text/plain": [
       "'{\"distance\": 1591, \"duration\": 326}'"
      ]
     },
     "execution_count": 31,
     "metadata": {},
     "output_type": "execute_result"
    }
   ],
   "source": [
    "get_distance(city=\"南京\", from_location=\"南研所\", end_location=\"丰盛五季酒店\")"
   ]
  },
  {
   "cell_type": "code",
   "execution_count": 17,
   "metadata": {},
   "outputs": [],
   "source": [
    "# 周边搜助手\n",
    "# https://lbsyun.baidu.com/faq/api?title=webapi/guide/webservice-placeapi/circle\n",
    "def get_surround(city, location, query):\n",
    "    \"\"\"\n",
    "    city: 城市名称，如“南京”、“杭州”\n",
    "    location: 地点，如“全季酒店”、“坂田基地”\n",
    "    query: 周边类型，如“美食”、“健身中心”\n",
    "    \"\"\"\n",
    "    url_1 = f\"https://api.map.baidu.com/place/v2/suggestion?query={location}&region={city}&city_limit=true&output=json&ak={baidu_key}\"\n",
    "    response_1 = requests.get(url_1)\n",
    "    data_1 = response_1.json()\n",
    "    origin = (data_1[\"result\"][0][\"location\"][\"lat\"], data_1[\"result\"][0][\"location\"][\"lng\"])\n",
    "    \n",
    "    url_2 = (\n",
    "        f\"https://api.map.baidu.com/place/v2/search?query={query}&location={origin[0]},{origin[1]}&radius=1000&output=json\"\n",
    "        f\"&scope=2&sort_name:distance|sort_rule:1&page_size=10&ak={baidu_key}\"\n",
    "    )\n",
    "    response_2 = requests.get(url_2)\n",
    "    data_2 = response_2.json()\n",
    "    \n",
    "    results = data_2[\"results\"]\n",
    "    response = []\n",
    "    for _dict in results:\n",
    "        d = {\n",
    "            \"name\": _dict.get(\"name\"),\n",
    "            \"address\": _dict.get(\"address\"),\n",
    "            \"telephone\": _dict.get(\"telephone\"),\n",
    "            \"distance\": _dict.get(\"detail_info\").get(\"distance\"),\n",
    "            \"overall_rating\": _dict.get(\"detail_info\").get(\"overall_rating\"),\n",
    "            \"shop_hours\": _dict.get(\"detail_info\").get(\"shop_hours\")\n",
    "        }\n",
    "        response.append(d)\n",
    "    return json.dumps(response)"
   ]
  },
  {
   "cell_type": "code",
   "execution_count": null,
   "metadata": {},
   "outputs": [],
   "source": [
    "response = get_surround(city=\"深圳\", location=\"坂田基地\", query=\"美食\")\n",
    "response"
   ]
  },
  {
   "cell_type": "code",
   "execution_count": 79,
   "metadata": {},
   "outputs": [],
   "source": [
    "# knowledge_agent\n",
    "# https://blog.csdn.net/walkskyer/article/details/137808429\n",
    "# def get_knowledge(question):\n",
    "#     \"\"\"\n",
    "#     question: 用户的问题，如“我的住宿标准是多少？”\n",
    "#     \"\"\"\n",
    "#     return \"查询知识库回答问题\"\n",
    "    \n",
    "# knowledge_agent = Agent(\n",
    "#     name=\"差旅知识问答智能体（knowledge_agent）\",\n",
    "#     model=checkpoint,\n",
    "#     instructions=(\n",
    "#         \"你的任务是调用工具帮用户回答差旅业务知识。\"\n",
    "#         \"不要与用户分享你的思维过程！不要擅自替用户做出不合理的假设！\"\n",
    "#     ),\n",
    "#     functions=[get_knowledge]\n",
    "# )\n",
    "\n",
    "# def transfer_to_knowledge_agent():\n",
    "#     return knowledge_agent"
   ]
  },
  {
   "cell_type": "code",
   "execution_count": 80,
   "metadata": {},
   "outputs": [],
   "source": [
    "# recommend_agent\n",
    "# def get_recommend_hotel(*agrs, **kwargs):\n",
    "#     \"\"\"\n",
    "#     *agrs, **kwargs\n",
    "#     \"\"\"\n",
    "#     # 调召回接口\n",
    "#     # 调排序接口\n",
    "#     response = {}\n",
    "#     return json.dumps(response)\n",
    "\n",
    "# recommend_agent = Agent(\n",
    "#     name=\"酒店推荐智能体（recommend_agent）\",\n",
    "#     model=checkpoint,\n",
    "#     instructions=(\n",
    "#         \"你的任务是调用工具帮用户推荐合适的酒店，并给出推荐的理由。\"\n",
    "#         \"不要与用户分享你的思维过程！不要擅自替用户做出不合理的假设！\"\n",
    "#     ),\n",
    "#     functions=[get_recommend_hotel]\n",
    "# )\n",
    "\n",
    "# def transfer_to_recommend_agent():\n",
    "#     return recommend_agent"
   ]
  },
  {
   "cell_type": "code",
   "execution_count": 18,
   "metadata": {},
   "outputs": [],
   "source": [
    "# triage_agent\n",
    "# def triage_instructions(context_variables):\n",
    "#     customer_context = context_variables.get(\"customer_context\")\n",
    "#     instructions = (\n",
    "#         \"任务详情：\\n\"\n",
    "#         \"你的任务是对用户的请求进行意图识别，并调用工具将请求转移到正确的意图。\"\n",
    "#         \"一旦你准备好将请求转移到正确的意图时，调用工具进行转移。\"\n",
    "#         \"你不需要知道具体的细节，只需了解意图的类别，类别是：日常对话、查询天气、查询地标距离。\"\n",
    "#         \"当你需要更多信息以识别意图时，直接提出问题，而不需要解释你提问的原因。\\n\"\n",
    "#         \"注意事项：\\n\"\n",
    "#         \"1、不要与用户分享你的思维过程\\n\"\n",
    "#         \"2、不要擅自替用户做出不合理的假设\\n\"\n",
    "#         \"3、当用户的意图不在预设的范围内时，请你以差旅秘书的身份为用户提供恰当的引导和帮助\\n\"\n",
    "#         \"用户本次出差的背景信息如下：\\n\"\n",
    "#         f\"{customer_context}。\"\n",
    "#     )\n",
    "#     return instructions\n",
    "\n",
    "instructions = (\n",
    "    \"任务详情：\\n\"\n",
    "    \"你的任务是对用户的请求进行意图识别，并调用工具将请求转移到正确的意图。\"\n",
    "    \"一旦你准备好将请求转移到正确的意图时，调用工具进行转移。\"\n",
    "    \"你不需要知道具体的细节，只需了解意图的类别，类别是：日常对话、查询天气预报、查询地点间距离、查询周边信息。\"\n",
    "    \"当你需要更多信息以识别意图时，直接提出问题，而不需要解释你提问的原因。\\n\"\n",
    "    \"注意事项：\\n\"\n",
    "    \"1、不要与用户分享你的思维过程\\n\"\n",
    "    \"2、不要擅自替用户做出不合理的假设\\n\"\n",
    "    \"3、当用户的意图不在预设的范围内时，请你以差旅秘书的身份为用户提供恰当的引导和帮助\"\n",
    ")\n",
    "\n",
    "triage_agent = Agent(\n",
    "    name=\"意图识别助手\",\n",
    "    model=checkpoint,\n",
    "    instructions=instructions,\n",
    "    functions=[transfer_to_dialog_agent, get_weather, get_distance, get_surround],\n",
    "    parallel_tool_calls=True\n",
    ")"
   ]
  },
  {
   "cell_type": "code",
   "execution_count": 19,
   "metadata": {},
   "outputs": [],
   "source": [
    "system_prompt = (\n",
    "    \"你叫小慧助手，是由Lukas开发的差旅智能客服。\"\n",
    "    \"你的身份是一名差旅秘书，\"\n",
    "    \"你的任务是为用户提供差旅服务，如：查询天气预报、查询地点间距离、查询周边信息。\"\n",
    "    \"当问及你的模型参数时，标准回答是属于公司保密信息，要强调模型设计的高效，能够提供高质量的服务。\"\n",
    "    \"You are a helpful assistant on business travel.\"\n",
    ")"
   ]
  },
  {
   "cell_type": "code",
   "execution_count": 20,
   "metadata": {},
   "outputs": [],
   "source": [
    "departCityName = \"南京\"\n",
    "arriveCityName = \"深圳\"\n",
    "startDate = \"2025-02-05\"\n",
    "endDate = \"2025-02-10\"\n",
    "travelPurpose = \"参加公司培训\"\n",
    "user_context = (\n",
    "    \"------\\n\"\n",
    "    \"出差背景信息供参考：\\n\"\n",
    "    f\"  出发城市：{departCityName}\\n\"\n",
    "    f\"  到达城市：{arriveCityName}\\n\"\n",
    "    f\"  出发日期：{startDate}\\n\"\n",
    "    f\"  返回日期：{endDate}\\n\"\n",
    "    f\"  出差目的：{travelPurpose}\"\n",
    ")\n",
    "\n",
    "# user_prompt = \"你好\"\n",
    "# user_prompt = \"你是谁呀\"\n",
    "# user_prompt = \"你是什么模型？\"\n",
    "# user_prompt = \"南京的天气\"\n",
    "user_prompt = \"帮我查下深圳的天气\"\n",
    "# user_prompt = \"未来天气是否适合出差？\"\n",
    "# user_prompt = \"北京的天气\"\n",
    "# user_prompt = \"明天\"\n",
    "# user_prompt = \"深圳的天气\"\n",
    "# user_prompt = \"我的住宿标准是多少？\"\n",
    "# user_prompt = \"帮我推荐个酒店\"\n",
    "# user_prompt = \"吴彦祖是谁？\"\n",
    "# user_prompt = \"我今天心情不好\"\n",
    "# user_prompt = \"和女朋友吵架了怎么办\"\n",
    "# user_prompt = \"从南京安朴酒店到华为南研所有多远？\"\n",
    "# user_prompt = \"从华为南研所到夫子庙有多远？\"\n",
    "# user_prompt = \"给我介绍下南京安朴酒店\"\n",
    "# user_prompt = \"这个酒店离华为南研所多远？\"\n",
    "# user_prompt = \"帮我查下出发当天的天气情况\"\n",
    "# user_prompt = \"我回来那天的天气情况\"\n",
    "# user_prompt = \"深圳有哪些特产？\"\n",
    "# user_prompt = \"从坂田基地到罗湖口岸有多远，要多久？\"\n",
    "# user_prompt = \"深圳坂田基地附近有哪些好吃的粤菜？\"\n",
    "# user_prompt = \"深圳安托山附近有哪些酒店，给我一些推荐？\"\n",
    "user_prompt += \"\\n\" + user_context"
   ]
  },
  {
   "cell_type": "code",
   "execution_count": 21,
   "metadata": {},
   "outputs": [
    {
     "name": "stdout",
     "output_type": "stream",
     "text": [
      "帮我查下深圳的天气\n",
      "------\n",
      "出差背景信息供参考：\n",
      "  出发城市：南京\n",
      "  到达城市：深圳\n",
      "  出发日期：2025-02-05\n",
      "  返回日期：2025-02-10\n",
      "  出差目的：参加公司培训\n"
     ]
    }
   ],
   "source": [
    "print(user_prompt)"
   ]
  },
  {
   "cell_type": "code",
   "execution_count": 22,
   "metadata": {},
   "outputs": [],
   "source": [
    "messages = [\n",
    "    {\"role\": \"system\", \"content\": system_prompt},\n",
    "    {\"role\": \"user\", \"content\": user_prompt}\n",
    "]"
   ]
  },
  {
   "cell_type": "code",
   "execution_count": null,
   "metadata": {},
   "outputs": [
    {
     "name": "stdout",
     "output_type": "stream",
     "text": [
      "{'delim': 'start'}\n",
      "{'content': '', 'function_call': None, 'refusal': None, 'role': 'assistant', 'tool_calls': [{'index': 0, 'id': 'call_gguqzflq', 'function': {'arguments': '{\"cityName\":\"深圳\"}', 'name': 'get_weather'}, 'type': 'function'}], 'sender': '意图识别助手'}\n",
      "{'content': '', 'function_call': None, 'refusal': None, 'role': 'assistant', 'tool_calls': None, 'sender': '意图识别助手'}\n",
      "{'delim': 'end'}\n",
      "{'delim': 'start'}\n",
      "{'content': '深圳今天的天气是晴朗，气温为13℃。接下来几天的天气预报如下：\\n- 2月4日（星期二）：多云，最高温度17℃，最低温度11℃。\\n- 2月5日（星期三）：多云，最高温度20℃，最低温度11℃。\\n- 2月6日（星期四）：阴天，最高温度20℃，最低温度13℃。\\n- 2月7日（星期五）：小雨，最高温度20℃，最低温度10℃。\\n- 2月8日（星期六）：阴天，最高温度16℃，最低温度9℃。\\n\\n请注意带适当的衣物，并留意当天的天气变化。祝您出差顺利！', 'function_call': None, 'refusal': None, 'role': 'assistant', 'tool_calls': None, 'sender': '意图识别助手'}\n",
      "{'delim': 'end'}\n",
      "{'response': Response(messages=[{'content': '', 'sender': '意图识别助手', 'role': 'assistant', 'function_call': None, 'tool_calls': [{'function': {'arguments': '{\"cityName\":\"深圳\"}', 'name': 'get_weather'}, 'id': 'call_gguqzflq', 'type': 'function'}]}, {'role': 'tool', 'tool_call_id': 'call_gguqzflq', 'tool_name': 'get_weather', 'content': '{\"location\": {\"city\": \"\\\\u6df1\\\\u5733\\\\u5e02\"}, \"now\": {\"text\": \"\\\\u6674\", \"temp\": 13}, \"forecasts\": [{\"text_day\": \"\\\\u591a\\\\u4e91\", \"high\": 17, \"low\": 11, \"date\": \"2025-02-04\", \"week\": \"\\\\u661f\\\\u671f\\\\u4e8c\"}, {\"text_day\": \"\\\\u591a\\\\u4e91\", \"high\": 20, \"low\": 11, \"date\": \"2025-02-05\", \"week\": \"\\\\u661f\\\\u671f\\\\u4e09\"}, {\"text_day\": \"\\\\u9634\", \"high\": 20, \"low\": 13, \"date\": \"2025-02-06\", \"week\": \"\\\\u661f\\\\u671f\\\\u56db\"}, {\"text_day\": \"\\\\u5c0f\\\\u96e8\", \"high\": 20, \"low\": 10, \"date\": \"2025-02-07\", \"week\": \"\\\\u661f\\\\u671f\\\\u4e94\"}, {\"text_day\": \"\\\\u9634\", \"high\": 16, \"low\": 9, \"date\": \"2025-02-08\", \"week\": \"\\\\u661f\\\\u671f\\\\u516d\"}]}'}, {'content': '深圳今天的天气是晴朗，气温为13℃。接下来几天的天气预报如下：\\n- 2月4日（星期二）：多云，最高温度17℃，最低温度11℃。\\n- 2月5日（星期三）：多云，最高温度20℃，最低温度11℃。\\n- 2月6日（星期四）：阴天，最高温度20℃，最低温度13℃。\\n- 2月7日（星期五）：小雨，最高温度20℃，最低温度10℃。\\n- 2月8日（星期六）：阴天，最高温度16℃，最低温度9℃。\\n\\n请注意带适当的衣物，并留意当天的天气变化。祝您出差顺利！', 'sender': '意图识别助手', 'role': 'assistant', 'function_call': None, 'tool_calls': None}], agent=Agent(name='意图识别助手', model='qwen2.5:32b', instructions='任务详情：\\n你的任务是对用户的请求进行意图识别，并调用工具将请求转移到正确的意图。一旦你准备好将请求转移到正确的意图时，调用工具进行转移。你不需要知道具体的细节，只需了解意图的类别，类别是：日常对话、查询天气预报、查询地点间距离、查询周边信息。当你需要更多信息以识别意图时，直接提出问题，而不需要解释你提问的原因。\\n注意事项：\\n1、不要与用户分享你的思维过程\\n2、不要擅自替用户做出不合理的假设\\n3、当用户的意图不在预设的范围内时，请你以差旅秘书的身份为用户提供恰当的引导和帮助', functions=[<function transfer_to_dialog_agent at 0x0000023A39C742C0>, <function get_weather at 0x0000023A39C75620>, <function get_distance at 0x0000023A144D5E40>, <function get_surround at 0x0000023A3A07A520>], tool_choice=None, parallel_tool_calls=True), context_variables={})}\n"
     ]
    }
   ],
   "source": [
    "# response = swarm_client.run(\n",
    "#     agent=triage_agent,\n",
    "#     messages=messages,\n",
    "#     context_variables=context_variables,\n",
    "#     stream=False\n",
    "# )\n",
    "\n",
    "response = swarm_client.run(\n",
    "    agent=triage_agent,\n",
    "    messages=messages,\n",
    "    stream=True\n",
    ")\n",
    "for res in response:\n",
    "    print(res)"
   ]
  },
  {
   "cell_type": "code",
   "execution_count": null,
   "metadata": {},
   "outputs": [],
   "source": [
    "print(response.messages[-1][\"content\"])"
   ]
  }
 ],
 "metadata": {
  "kernelspec": {
   "display_name": "base",
   "language": "python",
   "name": "python3"
  },
  "language_info": {
   "codemirror_mode": {
    "name": "ipython",
    "version": 3
   },
   "file_extension": ".py",
   "mimetype": "text/x-python",
   "name": "python",
   "nbconvert_exporter": "python",
   "pygments_lexer": "ipython3",
   "version": "3.11.5"
  }
 },
 "nbformat": 4,
 "nbformat_minor": 2
}
