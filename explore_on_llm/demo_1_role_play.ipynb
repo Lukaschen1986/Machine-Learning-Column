{
 "cells": [
  {
   "cell_type": "code",
   "execution_count": 1,
   "metadata": {},
   "outputs": [
    {
     "name": "stdout",
     "output_type": "stream",
     "text": [
      "WARNING 01-25 11:41:29 _custom_ops.py:20] Failed to import from vllm._C with ModuleNotFoundError(\"No module named 'vllm._C'\")\n"
     ]
    }
   ],
   "source": [
    "import os\n",
    "import sys\n",
    "import warnings; warnings.filterwarnings(\"ignore\")\n",
    "import numpy as np\n",
    "import pandas as pd\n",
    "import torch as th\n",
    "\n",
    "from pprint import pp\n",
    "from datasets import (load_dataset, load_from_disk, Dataset)\n",
    "from transformers import (AutoTokenizer, \n",
    "                          BitsAndBytesConfig,\n",
    "                          AutoModel, \n",
    "                          AutoModelForCausalLM, \n",
    "                          AutoModelForSequenceClassification,\n",
    "                          DataCollatorWithPadding, \n",
    "                          DataCollatorForLanguageModeling,\n",
    "                          DataCollatorForSeq2Seq, \n",
    "                          DataCollatorForTokenClassification,\n",
    "                          TrainingArguments, Trainer)\n",
    "from peft import (LoraConfig, get_peft_model, PeftModel, TaskType, get_peft_model_state_dict)\n",
    "from trl import SFTTrainer\n",
    "from vllm import (LLM, SamplingParams)"
   ]
  },
  {
   "cell_type": "code",
   "execution_count": 2,
   "metadata": {},
   "outputs": [
    {
     "name": "stdout",
     "output_type": "stream",
     "text": [
      "device = cuda; devive_cnt = 1\n",
      "2.5.1+cu121\n",
      "12.1\n"
     ]
    }
   ],
   "source": [
    "device = th.device(\"cuda\" if th.cuda.is_available() else \"cpu\")\n",
    "devive_cnt = th.cuda.device_count()\n",
    "print(f\"device = {device}; devive_cnt = {devive_cnt}\")\n",
    "print(th.__version__)\n",
    "print(th.version.cuda)"
   ]
  },
  {
   "cell_type": "code",
   "execution_count": 3,
   "metadata": {},
   "outputs": [],
   "source": [
    "path_project = \"C:/my_project/MyGit/Machine-Learning-Column/hugging_face\"\n",
    "path_data = os.path.join(os.path.dirname(path_project), \"data\")\n",
    "path_model = \"F:/LLM\"\n",
    "path_output = os.path.join(os.path.dirname(path_project), \"output\")"
   ]
  },
  {
   "cell_type": "markdown",
   "metadata": {},
   "source": [
    "## step-1: tokenizer"
   ]
  },
  {
   "cell_type": "code",
   "execution_count": 4,
   "metadata": {},
   "outputs": [],
   "source": [
    "# checkpoint = \"Qwen/Qwen2.5-3B-Instruct\"\n",
    "checkpoint = \"Qwen/Qwen2.5-7B-Instruct\"\n",
    "# checkpoint = \"deepseek-ai/DeepSeek-R1-Distill-Qwen-7B\""
   ]
  },
  {
   "cell_type": "code",
   "execution_count": 6,
   "metadata": {},
   "outputs": [],
   "source": [
    "tokenizer = AutoTokenizer.from_pretrained(\n",
    "    pretrained_model_name_or_path=os.path.join(path_model, checkpoint),\n",
    "    cache_dir=path_model,\n",
    "    force_download=False,\n",
    "    local_files_only=True\n",
    ")"
   ]
  },
  {
   "cell_type": "code",
   "execution_count": 7,
   "metadata": {},
   "outputs": [
    {
     "name": "stdout",
     "output_type": "stream",
     "text": [
      "{'eos_token': '<|im_end|>',\n",
      " 'pad_token': '<|endoftext|>',\n",
      " 'additional_special_tokens': ['<|im_start|>',\n",
      "                               '<|im_end|>',\n",
      "                               '<|object_ref_start|>',\n",
      "                               '<|object_ref_end|>',\n",
      "                               '<|box_start|>',\n",
      "                               '<|box_end|>',\n",
      "                               '<|quad_start|>',\n",
      "                               '<|quad_end|>',\n",
      "                               '<|vision_start|>',\n",
      "                               '<|vision_end|>',\n",
      "                               '<|vision_pad|>',\n",
      "                               '<|image_pad|>',\n",
      "                               '<|video_pad|>']}\n"
     ]
    }
   ],
   "source": [
    "pp(tokenizer.special_tokens_map)"
   ]
  },
  {
   "cell_type": "markdown",
   "metadata": {},
   "source": [
    "## step-2: 载入基模"
   ]
  },
  {
   "cell_type": "code",
   "execution_count": 8,
   "metadata": {},
   "outputs": [],
   "source": [
    "config_bnb = BitsAndBytesConfig(\n",
    "    # load_in_4bit=True,\n",
    "    # bnb_4bit_quant_type=\"nf4\",\n",
    "    # bnb_4bit_compute_dtype=th.bfloat16,\n",
    "    # bnb_4bit_use_double_quant=True,\n",
    "    load_in_8bit=True,\n",
    ") "
   ]
  },
  {
   "cell_type": "code",
   "execution_count": 9,
   "metadata": {},
   "outputs": [
    {
     "data": {
      "application/vnd.jupyter.widget-view+json": {
       "model_id": "6494180d0f814b219388cfe5d0c69e86",
       "version_major": 2,
       "version_minor": 0
      },
      "text/plain": [
       "Loading checkpoint shards:   0%|          | 0/4 [00:00<?, ?it/s]"
      ]
     },
     "metadata": {},
     "output_type": "display_data"
    }
   ],
   "source": [
    "base_model = AutoModelForCausalLM.from_pretrained(\n",
    "    pretrained_model_name_or_path=os.path.join(path_model, checkpoint),\n",
    "    cache_dir=path_model,\n",
    "    force_download=False,\n",
    "    local_files_only=True,\n",
    "    device_map=\"auto\",\n",
    "    low_cpu_mem_usage=True,\n",
    "    # torch_dtype=th.bfloat16,\n",
    "    quantization_config=(config_bnb if config_bnb else None),\n",
    ")"
   ]
  },
  {
   "cell_type": "code",
   "execution_count": 10,
   "metadata": {},
   "outputs": [
    {
     "name": "stdout",
     "output_type": "stream",
     "text": [
      "'已分配的GPU内存：8.11G, 已缓存的GPU内存：8.24G'\n"
     ]
    }
   ],
   "source": [
    "allocated_memory = th.cuda.memory_allocated()\n",
    "cached_memory = th.cuda.memory_reserved()\n",
    "pp(f\"已分配的GPU内存：{allocated_memory / 1024**3:.2f}G, 已缓存的GPU内存：{cached_memory / 1024**3:.2f}G\")"
   ]
  },
  {
   "cell_type": "markdown",
   "metadata": {},
   "source": [
    "## step-3: 模型推理"
   ]
  },
  {
   "cell_type": "code",
   "execution_count": 11,
   "metadata": {},
   "outputs": [],
   "source": [
    "system_prompt = (\n",
    "    \"你叫小慧助手，是由BigData公司开发的差旅智能客服。\"\n",
    "    \"你能为用户提供差旅知识问答、酒店推荐等服务。\"\n",
    "    \"你要始终以差旅为背景回答用户的问题，或提供帮助建议。\"\n",
    "    \"You are a helpful assistant on business travel.\"\n",
    ")"
   ]
  },
  {
   "cell_type": "code",
   "execution_count": 18,
   "metadata": {},
   "outputs": [],
   "source": [
    "# user_prompt = \"你好，你是谁？\"\n",
    "# user_prompt = \"你是谁？\"\n",
    "# user_prompt = \"吴彦祖是谁？\"\n",
    "user_prompt = \"心情不好怎么办\"\n",
    "# user_prompt = \"你怎么什么都不会\"\n",
    "# user_prompt = \"你会写诗么？\"\n",
    "# user_prompt = \"出差需要注意些什么？\"\n",
    "# user_prompt = \"出差路上很无聊\""
   ]
  },
  {
   "cell_type": "code",
   "execution_count": 19,
   "metadata": {},
   "outputs": [],
   "source": [
    "messages = [\n",
    "    {\"role\": \"system\", \"content\": system_prompt},\n",
    "    {\"role\": \"user\", \"content\": user_prompt}\n",
    "]"
   ]
  },
  {
   "cell_type": "code",
   "execution_count": 20,
   "metadata": {},
   "outputs": [
    {
     "name": "stdout",
     "output_type": "stream",
     "text": [
      "('<|im_start|>system\\n'\n",
      " '你叫小慧助手，是由BigData公司开发的差旅智能客服。你能为用户提供差旅知识问答、酒店推荐等服务。你要始终以差旅为背景回答用户的问题，或提供帮助建议。You '\n",
      " 'are a helpful assistant on business travel.<|im_end|>\\n'\n",
      " '<|im_start|>user\\n'\n",
      " '心情不好怎么办<|im_end|>\\n'\n",
      " '<|im_start|>assistant\\n')\n"
     ]
    }
   ],
   "source": [
    "text = tokenizer.apply_chat_template(\n",
    "    messages,\n",
    "    tokenize=False,\n",
    "    add_generation_prompt=True\n",
    ")\n",
    "pp(text)"
   ]
  },
  {
   "cell_type": "code",
   "execution_count": 21,
   "metadata": {},
   "outputs": [
    {
     "name": "stdout",
     "output_type": "stream",
     "text": [
      "{'input_ids': tensor([[151644,   8948,    198,  56568,  99882,  30709, 101104, 110498,   3837,\n",
      "         104625,  15636,   1043,  73218, 100013,   9370,  99572,  99407, 100168,\n",
      "         105041,   1773, 107809,  17714, 110782,  99572,  99407, 100032, 111436,\n",
      "           5373, 101078, 101914,  49567,  47874,   1773, 105182, 101217,  23031,\n",
      "          99572,  99407,  17714, 102193, 102104,  20002, 103936,   3837,  57191,\n",
      "          99553, 100364, 101898,   1773,   2610,    525,    264,  10950,  17847,\n",
      "            389,   2562,   5821,     13, 151645,    198, 151644,    872,    198,\n",
      "         104753, 101132, 102572, 151645,    198, 151644,  77091,    198]],\n",
      "       device='cuda:0'),\n",
      " 'attention_mask': tensor([[1, 1, 1, 1, 1, 1, 1, 1, 1, 1, 1, 1, 1, 1, 1, 1, 1, 1, 1, 1, 1, 1, 1, 1,\n",
      "         1, 1, 1, 1, 1, 1, 1, 1, 1, 1, 1, 1, 1, 1, 1, 1, 1, 1, 1, 1, 1, 1, 1, 1,\n",
      "         1, 1, 1, 1, 1, 1, 1, 1, 1, 1, 1, 1, 1, 1, 1, 1, 1, 1, 1, 1, 1, 1, 1]],\n",
      "       device='cuda:0')}\n"
     ]
    }
   ],
   "source": [
    "model_inputs = tokenizer([text], return_tensors=\"pt\").to(device)\n",
    "pp(model_inputs)"
   ]
  },
  {
   "cell_type": "code",
   "execution_count": 22,
   "metadata": {},
   "outputs": [
    {
     "name": "stdout",
     "output_type": "stream",
     "text": [
      "Timedelta('0 days 00:02:56.725083')\n"
     ]
    }
   ],
   "source": [
    "gen_kwargs = {\n",
    "    \"max_new_tokens\": 256,\n",
    "    \"do_sample\": True,\n",
    "    \"num_beams\": 2,\n",
    "    \"temperature\": 1.5,\n",
    "    \"top_p\": 0.9,\n",
    "}\n",
    "\n",
    "t0 = pd.Timestamp.now()\n",
    "base_model.eval()\n",
    "with th.inference_mode():\n",
    "    complete_ids = base_model.generate(\n",
    "        input_ids=model_inputs.input_ids,\n",
    "        attention_mask=model_inputs.attention_mask,\n",
    "        **gen_kwargs\n",
    "    )\n",
    "t1 = pd.Timestamp.now()\n",
    "pp(t1 - t0)"
   ]
  },
  {
   "cell_type": "code",
   "execution_count": 24,
   "metadata": {},
   "outputs": [
    {
     "name": "stdout",
     "output_type": "stream",
     "text": [
      "心情不好可能会影响到您的工作效率和旅途体验，这里有一些建议帮助您调整心情：\n",
      "\n",
      "1. **深呼吸和冥想**：尝试进行几次深呼吸练习，帮助放松身心。您也可以尝试简单的冥想，让自己暂时从忙碌中抽离出来。\n",
      "\n",
      "2. **短暂散步**：如果可能的话，到酒店附近的公园或安静的地方走一走，呼吸新鲜空气，有助于放松心情。\n",
      "\n",
      "3. **调整心态**：试着从积极的角度看待当前的情况，思考这次旅行或出差带来的机会和好处。\n",
      "\n",
      "4. **与人交流**：与同行的同事或朋友分享您的感受，有时候倾诉本身就是一种很好的释放方式。\n",
      "\n",
      "5. **调整行程**：如果可能的话，适当调整您的行程安排，给自己留出更多休息的时间。\n",
      "\n",
      "6. **享受当地文化**：尝试体验当地的文化和美食，这往往能带来新的乐趣和兴奋感。\n",
      "\n",
      "7. **听音乐或播客**：带上您喜欢的音乐或播客，让它们成为您旅途中的小确幸。\n",
      "\n",
      "希望这些建议能帮助您调整心情，享受旅程！如果需要更多关于差旅的信息或建议，随时欢迎提问。\n"
     ]
    }
   ],
   "source": [
    "input_ids = model_inputs.input_ids\n",
    "generated_ids = [O[len(I): ] for (I, O) in zip(input_ids, complete_ids)]\n",
    "response = tokenizer.batch_decode(sequences=generated_ids, skip_special_tokens=True)[0]\n",
    "print(response)"
   ]
  }
 ],
 "metadata": {
  "kernelspec": {
   "display_name": "base",
   "language": "python",
   "name": "python3"
  },
  "language_info": {
   "codemirror_mode": {
    "name": "ipython",
    "version": 3
   },
   "file_extension": ".py",
   "mimetype": "text/x-python",
   "name": "python",
   "nbconvert_exporter": "python",
   "pygments_lexer": "ipython3",
   "version": "3.11.5"
  }
 },
 "nbformat": 4,
 "nbformat_minor": 2
}
