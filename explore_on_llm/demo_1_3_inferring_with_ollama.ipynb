{
 "cells": [
  {
   "cell_type": "markdown",
   "metadata": {},
   "source": [
    "https://ollama.com/  \n",
    "https://github.com/ollama/ollama?tab=readme-ov-file  "
   ]
  },
  {
   "cell_type": "markdown",
   "metadata": {},
   "source": [
    "1 - ollama 安装   \n",
    "- https://github.com/ollama/ollama?tab=readme-ov-file\n",
    "- https://github.com/ollama/ollama/blob/main/docs/linux.md  \n",
    "- https://blog.csdn.net/u010197332/article/details/137604798?spm=1001.2014.3001.5506  \n",
    "\n",
    "2 - ollama 配置大模型目录（Windows）  \n",
    "- 打开 Windows 系统设置，来到【关于】，在右边找到【高级系统设置】，然后会出现一个【系统属性】窗口  \n",
    "- 在上面的标签里选择【高级】，再点击下方的【环境变量】  \n",
    "- 这时弹出一个【环境变量】窗口，点击【系统变量】下的新建，然后又弹出一个窗口  \n",
    "- 变量名：OLLAMA_MODELS  \n",
    "- 变量值：F:\\LLM\\ollama  \n",
    "\n",
    "3 - ollama 配置大模型目录（Linux）  \n",
    "- vim ~/.bashrc  \n",
    "- export OLLAMA_MODELS=/home/Ollama/ollama_cache  \n",
    "- cp -r /usr/share/ollama/.ollama/models /home/Ollama/ollama_cache  \n",
    "\n",
    "4 - ollama 模型微调  \n",
    "- https://blog.csdn.net/spiderwower/article/details/138755776?ops_request_misc=%257B%2522request%255Fid%2522%253A%25226fa4e7737d516cd7af7ea785e76a75a1%2522%252C%2522scm%2522%253A%252220140713.130102334..%2522%257D&request_id=6fa4e7737d516cd7af7ea785e76a75a1&biz_id=0&utm_medium=distribute.pc_search_result.none-task-blog-2~all~top_positive~default-1-138755776-null-null.142^v101^pc_search_result_base5&utm_term=ollama%20%E5%BE%AE%E8%B0%83&spm=1018.2226.3001.4187\n",
    "\n",
    "4 - ollama 常见命令  \n",
    "- ollama --version   \n",
    "- ollama serve  \n",
    "- ollama create /path/to/Modelfile  \n",
    "- ollama show my_model  \n",
    "- ollama run my_model  \n",
    "- ollama list  \n",
    "- ollama ps  \n",
    "- ollama cp my_model new_model  \n",
    "- ollama rm my_model  \n",
    "- ollama --help  \n",
    "- ollama run --help  "
   ]
  },
  {
   "cell_type": "code",
   "execution_count": 9,
   "metadata": {},
   "outputs": [],
   "source": [
    "import os\n",
    "import sys\n",
    "import warnings; warnings.filterwarnings(\"ignore\")\n",
    "import json\n",
    "import requests\n",
    "import numpy as np\n",
    "import pandas as pd\n",
    "import torch as th\n",
    "import ollama\n",
    "\n",
    "from pprint import pp\n",
    "from IPython.display import (Markdown, display)\n",
    "from dotenv import load_dotenv\n",
    "from datasets import (load_dataset, load_from_disk, Dataset)\n",
    "from transformers import (AutoTokenizer, \n",
    "                          BitsAndBytesConfig,\n",
    "                          AutoModel, \n",
    "                          AutoModelForCausalLM, \n",
    "                          AutoModelForSequenceClassification,\n",
    "                          DataCollatorWithPadding, \n",
    "                          DataCollatorForLanguageModeling,\n",
    "                          DataCollatorForSeq2Seq, \n",
    "                          DataCollatorForTokenClassification,\n",
    "                          TrainingArguments, Trainer,\n",
    "                          pipeline)\n",
    "from peft import (LoraConfig, get_peft_model, PeftModel, TaskType, get_peft_model_state_dict)\n",
    "from trl import SFTTrainer\n",
    "from openai import OpenAI\n",
    "from ollama import Client"
   ]
  },
  {
   "cell_type": "code",
   "execution_count": 10,
   "metadata": {},
   "outputs": [
    {
     "name": "stdout",
     "output_type": "stream",
     "text": [
      "device = cuda; devive_cnt = 1\n",
      "torch = 2.5.1+cu121\n",
      "cuda = 12.1\n"
     ]
    }
   ],
   "source": [
    "if sys.platform == \"darwin\":\n",
    "    device = th.device(\"mps\")\n",
    "else:\n",
    "    device = th.device(\"cuda\" if th.cuda.is_available() else \"cpu\")\n",
    "    \n",
    "devive_cnt = th.cuda.device_count()\n",
    "print(f\"device = {device}; devive_cnt = {devive_cnt}\")\n",
    "print(f\"torch = {th.__version__}\")\n",
    "print(f\"cuda = {th.version.cuda}\")"
   ]
  },
  {
   "cell_type": "code",
   "execution_count": 11,
   "metadata": {},
   "outputs": [],
   "source": [
    "path_project = \"C:/my_project/MyGit/Machine-Learning-Column/hugging_face\"\n",
    "path_data = os.path.join(os.path.dirname(path_project), \"data\")\n",
    "path_output = os.path.join(os.path.dirname(path_project), \"output\")\n",
    "\n",
    "if sys.platform == \"darwin\":\n",
    "    path_model = \"/Users/lukasi33/project/LLM\"\n",
    "else:\n",
    "    path_model = \"F:/LLM\""
   ]
  },
  {
   "cell_type": "markdown",
   "metadata": {},
   "source": [
    "## step-1: 载入 API KEY"
   ]
  },
  {
   "cell_type": "code",
   "execution_count": 53,
   "metadata": {},
   "outputs": [],
   "source": [
    "load_dotenv(dotenv_path=\"explore.env\")\n",
    "baidu_key = os.getenv(\"BAIDU_KEY\")"
   ]
  },
  {
   "cell_type": "markdown",
   "metadata": {},
   "source": [
    "## step-2: 实例化客户端"
   ]
  },
  {
   "cell_type": "code",
   "execution_count": 25,
   "metadata": {},
   "outputs": [],
   "source": [
    "client = Client(\n",
    "    host=\"http://127.0.0.1:11434\",\n",
    "    timeout=10\n",
    ")"
   ]
  },
  {
   "cell_type": "markdown",
   "metadata": {},
   "source": [
    "## step-3: 模型推理"
   ]
  },
  {
   "cell_type": "code",
   "execution_count": 31,
   "metadata": {},
   "outputs": [],
   "source": [
    "checkpoint = \"qwen2.5:7b\""
   ]
  },
  {
   "cell_type": "code",
   "execution_count": 32,
   "metadata": {},
   "outputs": [],
   "source": [
    "system_prompt = (\n",
    "    \"你叫小慧助手，是由Lukas开发的差旅智能客服。\"\n",
    "    \"你的身份是一名差旅秘书，\"\n",
    "    \"你的任务是为用户提供基础对话、差旅知识问答、酒店推荐服务。\"\n",
    "    \"当问及你的模型参数时，标准回答是属于公司保密信息，要强调模型设计的高效，能够提供高质量的服务。\"\n",
    "    \"You are a helpful assistant on business travel.\"\n",
    ")"
   ]
  },
  {
   "cell_type": "code",
   "execution_count": 33,
   "metadata": {},
   "outputs": [],
   "source": [
    "user_prompt = \"你好呀~\""
   ]
  },
  {
   "cell_type": "code",
   "execution_count": 34,
   "metadata": {},
   "outputs": [],
   "source": [
    "messages = [\n",
    "    {\"role\": \"system\", \"content\": system_prompt},\n",
    "    {\"role\": \"user\", \"content\": user_prompt}\n",
    "]"
   ]
  },
  {
   "cell_type": "code",
   "execution_count": 44,
   "metadata": {},
   "outputs": [],
   "source": [
    "gen_kwargs = {\n",
    "    \"max_new_tokens\": 512,\n",
    "    \"do_sample\": True,\n",
    "    \"num_beams\": 2,\n",
    "    \"temperature\": 1.5,\n",
    "    \"top_p\": 0.9,\n",
    "}\n",
    "\n",
    "response = client.chat(\n",
    "    model=checkpoint,\n",
    "    messages=messages,\n",
    "    options=gen_kwargs,\n",
    "    stream=False\n",
    ")"
   ]
  },
  {
   "cell_type": "code",
   "execution_count": 45,
   "metadata": {},
   "outputs": [
    {
     "name": "stdout",
     "output_type": "stream",
     "text": [
      "{'model': 'qwen2.5:7b',\n",
      " 'created_at': '2025-01-29T13:32:25.3973661Z',\n",
      " 'message': {'role': 'assistant',\n",
      "             'content': '你好！很高兴为您服务。有什么关于差旅的问题或者需要帮助的吗？无论是酒店预订、行程规划还是其他相关事宜，都欢迎您来询问。'},\n",
      " 'done_reason': 'stop',\n",
      " 'done': True,\n",
      " 'total_duration': 1078046400,\n",
      " 'load_duration': 21736700,\n",
      " 'prompt_eval_count': 94,\n",
      " 'prompt_eval_duration': 3000000,\n",
      " 'eval_count': 35,\n",
      " 'eval_duration': 1046000000}\n"
     ]
    }
   ],
   "source": [
    "pp(response)"
   ]
  },
  {
   "cell_type": "code",
   "execution_count": 46,
   "metadata": {},
   "outputs": [
    {
     "data": {
      "text/markdown": [
       "你好！很高兴为您服务。有什么关于差旅的问题或者需要帮助的吗？无论是酒店预订、行程规划还是其他相关事宜，都欢迎您来询问。"
      ],
      "text/plain": [
       "<IPython.core.display.Markdown object>"
      ]
     },
     "metadata": {},
     "output_type": "display_data"
    }
   ],
   "source": [
    "display(Markdown(response[\"message\"][\"content\"]))"
   ]
  },
  {
   "cell_type": "code",
   "execution_count": null,
   "metadata": {},
   "outputs": [],
   "source": [
    "# stream\n",
    "response = client.chat(\n",
    "    model=checkpoint,\n",
    "    messages=messages,\n",
    "    options=gen_kwargs,\n",
    "    stream=True\n",
    ")\n",
    "for res in response:\n",
    "    print(res[\"message\"][\"content\"])"
   ]
  },
  {
   "cell_type": "markdown",
   "metadata": {},
   "source": [
    "## step-4: 工具调用"
   ]
  },
  {
   "cell_type": "code",
   "execution_count": 50,
   "metadata": {},
   "outputs": [],
   "source": [
    "cityName2districtId = {\n",
    "    \"南京\": \"320100\",\n",
    "    \"深圳\": \"440300\"\n",
    "}"
   ]
  },
  {
   "cell_type": "code",
   "execution_count": 54,
   "metadata": {},
   "outputs": [],
   "source": [
    "def get_weather(cityName):\n",
    "    districtId = cityName2districtId.get(cityName)\n",
    "    url = f\"https://api.map.baidu.com/weather/v1/?district_id={districtId}&data_type=all&ak={baidu_key}\"\n",
    "    response = requests.get(url)\n",
    "    data = response.json()\n",
    "    return json.dumps(data)"
   ]
  },
  {
   "cell_type": "code",
   "execution_count": 55,
   "metadata": {},
   "outputs": [
    {
     "data": {
      "text/plain": [
       "'{\"status\": 0, \"result\": {\"location\": {\"country\": \"\\\\u4e2d\\\\u56fd\", \"province\": \"\\\\u6c5f\\\\u82cf\\\\u7701\", \"city\": \"\\\\u5357\\\\u4eac\\\\u5e02\", \"name\": \"\\\\u5357\\\\u4eac\", \"id\": \"320100\"}, \"now\": {\"text\": \"\\\\u6674\", \"temp\": 4, \"feels_like\": 2, \"rh\": 36, \"wind_class\": \"2\\\\u7ea7\", \"wind_dir\": \"\\\\u4e1c\\\\u5357\\\\u98ce\", \"uptime\": \"20250129213000\"}, \"forecasts\": [{\"text_day\": \"\\\\u6674\", \"text_night\": \"\\\\u6674\", \"high\": 9, \"low\": 1, \"wc_day\": \"<3\\\\u7ea7\", \"wd_day\": \"\\\\u4e1c\\\\u5357\\\\u98ce\", \"wc_night\": \"<3\\\\u7ea7\", \"wd_night\": \"\\\\u4e1c\\\\u5357\\\\u98ce\", \"date\": \"2025-01-29\", \"week\": \"\\\\u661f\\\\u671f\\\\u4e09\"}, {\"text_day\": \"\\\\u591a\\\\u4e91\", \"text_night\": \"\\\\u9634\", \"high\": 15, \"low\": 2, \"wc_day\": \"3~4\\\\u7ea7\", \"wd_day\": \"\\\\u4e1c\\\\u5357\\\\u98ce\", \"wc_night\": \"<3\\\\u7ea7\", \"wd_night\": \"\\\\u4e1c\\\\u98ce\", \"date\": \"2025-01-30\", \"week\": \"\\\\u661f\\\\u671f\\\\u56db\"}, {\"text_day\": \"\\\\u5c0f\\\\u96e8\", \"text_night\": \"\\\\u4e2d\\\\u96e8\", \"high\": 9, \"low\": 5, \"wc_day\": \"3~4\\\\u7ea7\", \"wd_day\": \"\\\\u5317\\\\u98ce\", \"wc_night\": \"3~4\\\\u7ea7\", \"wd_night\": \"\\\\u5317\\\\u98ce\", \"date\": \"2025-01-31\", \"week\": \"\\\\u661f\\\\u671f\\\\u4e94\"}, {\"text_day\": \"\\\\u5c0f\\\\u96e8\", \"text_night\": \"\\\\u5c0f\\\\u96e8\", \"high\": 9, \"low\": 3, \"wc_day\": \"4~5\\\\u7ea7\", \"wd_day\": \"\\\\u5317\\\\u98ce\", \"wc_night\": \"<3\\\\u7ea7\", \"wd_night\": \"\\\\u4e1c\\\\u5317\\\\u98ce\", \"date\": \"2025-02-01\", \"week\": \"\\\\u661f\\\\u671f\\\\u516d\"}, {\"text_day\": \"\\\\u5c0f\\\\u96e8\", \"text_night\": \"\\\\u9634\", \"high\": 7, \"low\": 1, \"wc_day\": \"<3\\\\u7ea7\", \"wd_day\": \"\\\\u5317\\\\u98ce\", \"wc_night\": \"<3\\\\u7ea7\", \"wd_night\": \"\\\\u897f\\\\u5317\\\\u98ce\", \"date\": \"2025-02-02\", \"week\": \"\\\\u661f\\\\u671f\\\\u65e5\"}]}, \"message\": \"success\"}'"
      ]
     },
     "execution_count": 55,
     "metadata": {},
     "output_type": "execute_result"
    }
   ],
   "source": [
    "# test tool\n",
    "data = get_weather(cityName=\"南京\")\n",
    "data"
   ]
  },
  {
   "cell_type": "code",
   "execution_count": 56,
   "metadata": {},
   "outputs": [],
   "source": [
    "get_weather_tool = {\n",
    "    \"name\": \"get_weather\",\n",
    "    \"description\": \"根据输入的城市名称，查询天气\",\n",
    "    \"parameters\": {\n",
    "        \"type\": \"object\",\n",
    "        \"properties\": {\n",
    "            \"cityName\": {\n",
    "                \"type\": \"string\",\n",
    "                \"description\": \"城市名称\"\n",
    "            }\n",
    "        },\n",
    "        \"required\": [\"cityName\"]\n",
    "    }\n",
    "}"
   ]
  },
  {
   "cell_type": "code",
   "execution_count": 57,
   "metadata": {},
   "outputs": [],
   "source": [
    "tools = [\n",
    "    {\n",
    "        \"type\": \"function\",\n",
    "        \"function\": get_weather_tool\n",
    "    }\n",
    "]"
   ]
  },
  {
   "cell_type": "code",
   "execution_count": 58,
   "metadata": {},
   "outputs": [],
   "source": [
    "tool_dict = {\n",
    "    \"get_weather\": get_weather\n",
    "}"
   ]
  },
  {
   "cell_type": "code",
   "execution_count": 59,
   "metadata": {},
   "outputs": [],
   "source": [
    "user_prompt = \"帮我查下南京的天气\"\n",
    "\n",
    "messages = [\n",
    "    {\"role\": \"system\", \"content\": system_prompt},\n",
    "    {\"role\": \"user\", \"content\": user_prompt}\n",
    "]"
   ]
  },
  {
   "cell_type": "code",
   "execution_count": 60,
   "metadata": {},
   "outputs": [],
   "source": [
    "response = client.chat(\n",
    "    model=checkpoint,\n",
    "    messages=messages,\n",
    "    options=gen_kwargs,\n",
    "    stream=False,\n",
    "    tools=tools\n",
    ")"
   ]
  },
  {
   "cell_type": "code",
   "execution_count": 64,
   "metadata": {},
   "outputs": [
    {
     "data": {
      "text/plain": [
       "{'role': 'assistant',\n",
       " 'content': '',\n",
       " 'tool_calls': [{'function': {'name': 'get_weather',\n",
       "    'arguments': {'cityName': '南京'}}}]}"
      ]
     },
     "execution_count": 64,
     "metadata": {},
     "output_type": "execute_result"
    }
   ],
   "source": [
    "# assistant response\n",
    "assistant_response = response[\"message\"]\n",
    "assistant_response"
   ]
  },
  {
   "cell_type": "code",
   "execution_count": 65,
   "metadata": {},
   "outputs": [],
   "source": [
    "messages.append(assistant_response)"
   ]
  },
  {
   "cell_type": "code",
   "execution_count": 68,
   "metadata": {},
   "outputs": [
    {
     "data": {
      "text/plain": [
       "'{\"status\": 0, \"result\": {\"location\": {\"country\": \"\\\\u4e2d\\\\u56fd\", \"province\": \"\\\\u6c5f\\\\u82cf\\\\u7701\", \"city\": \"\\\\u5357\\\\u4eac\\\\u5e02\", \"name\": \"\\\\u5357\\\\u4eac\", \"id\": \"320100\"}, \"now\": {\"text\": \"\\\\u6674\", \"temp\": 4, \"feels_like\": 2, \"rh\": 36, \"wind_class\": \"2\\\\u7ea7\", \"wind_dir\": \"\\\\u4e1c\\\\u5357\\\\u98ce\", \"uptime\": \"20250129213500\"}, \"forecasts\": [{\"text_day\": \"\\\\u6674\", \"text_night\": \"\\\\u6674\", \"high\": 9, \"low\": 1, \"wc_day\": \"<3\\\\u7ea7\", \"wd_day\": \"\\\\u4e1c\\\\u5357\\\\u98ce\", \"wc_night\": \"<3\\\\u7ea7\", \"wd_night\": \"\\\\u4e1c\\\\u5357\\\\u98ce\", \"date\": \"2025-01-29\", \"week\": \"\\\\u661f\\\\u671f\\\\u4e09\"}, {\"text_day\": \"\\\\u591a\\\\u4e91\", \"text_night\": \"\\\\u9634\", \"high\": 15, \"low\": 2, \"wc_day\": \"3~4\\\\u7ea7\", \"wd_day\": \"\\\\u4e1c\\\\u5357\\\\u98ce\", \"wc_night\": \"<3\\\\u7ea7\", \"wd_night\": \"\\\\u4e1c\\\\u98ce\", \"date\": \"2025-01-30\", \"week\": \"\\\\u661f\\\\u671f\\\\u56db\"}, {\"text_day\": \"\\\\u5c0f\\\\u96e8\", \"text_night\": \"\\\\u4e2d\\\\u96e8\", \"high\": 9, \"low\": 5, \"wc_day\": \"3~4\\\\u7ea7\", \"wd_day\": \"\\\\u5317\\\\u98ce\", \"wc_night\": \"3~4\\\\u7ea7\", \"wd_night\": \"\\\\u5317\\\\u98ce\", \"date\": \"2025-01-31\", \"week\": \"\\\\u661f\\\\u671f\\\\u4e94\"}, {\"text_day\": \"\\\\u5c0f\\\\u96e8\", \"text_night\": \"\\\\u5c0f\\\\u96e8\", \"high\": 9, \"low\": 3, \"wc_day\": \"4~5\\\\u7ea7\", \"wd_day\": \"\\\\u5317\\\\u98ce\", \"wc_night\": \"<3\\\\u7ea7\", \"wd_night\": \"\\\\u4e1c\\\\u5317\\\\u98ce\", \"date\": \"2025-02-01\", \"week\": \"\\\\u661f\\\\u671f\\\\u516d\"}, {\"text_day\": \"\\\\u5c0f\\\\u96e8\", \"text_night\": \"\\\\u9634\", \"high\": 7, \"low\": 1, \"wc_day\": \"<3\\\\u7ea7\", \"wd_day\": \"\\\\u5317\\\\u98ce\", \"wc_night\": \"<3\\\\u7ea7\", \"wd_night\": \"\\\\u897f\\\\u5317\\\\u98ce\", \"date\": \"2025-02-02\", \"week\": \"\\\\u661f\\\\u671f\\\\u65e5\"}]}, \"message\": \"success\"}'"
      ]
     },
     "execution_count": 68,
     "metadata": {},
     "output_type": "execute_result"
    }
   ],
   "source": [
    "# tool response\n",
    "tool_name = assistant_response[\"tool_calls\"][0][\"function\"][\"name\"]\n",
    "tool_to_call = tool_dict.get(tool_name)\n",
    "tool_args = assistant_response[\"tool_calls\"][0][\"function\"][\"arguments\"]\n",
    "\n",
    "tool_response = tool_to_call(**tool_args)\n",
    "tool_response"
   ]
  },
  {
   "cell_type": "code",
   "execution_count": 69,
   "metadata": {},
   "outputs": [],
   "source": [
    "messages.append(\n",
    "    {\n",
    "        \"role\": \"tool\",\n",
    "        \"content\": tool_response\n",
    "    }\n",
    ")"
   ]
  },
  {
   "cell_type": "code",
   "execution_count": 70,
   "metadata": {},
   "outputs": [
    {
     "data": {
      "text/plain": [
       "[{'role': 'system',\n",
       "  'content': '你叫小慧助手，是由Lukas开发的差旅智能客服。你的身份是一名差旅秘书，你的任务是为用户提供基础对话、差旅知识问答、酒店推荐服务。当问及你的模型参数时，标准回答是属于公司保密信息，要强调模型设计的高效，能够提供高质量的服务。You are a helpful assistant on business travel.'},\n",
       " {'role': 'user', 'content': '帮我查下南京的天气'},\n",
       " {'role': 'assistant',\n",
       "  'content': '',\n",
       "  'tool_calls': [{'function': {'name': 'get_weather',\n",
       "     'arguments': {'cityName': '南京'}}}]},\n",
       " {'role': 'tool',\n",
       "  'content': '{\"status\": 0, \"result\": {\"location\": {\"country\": \"\\\\u4e2d\\\\u56fd\", \"province\": \"\\\\u6c5f\\\\u82cf\\\\u7701\", \"city\": \"\\\\u5357\\\\u4eac\\\\u5e02\", \"name\": \"\\\\u5357\\\\u4eac\", \"id\": \"320100\"}, \"now\": {\"text\": \"\\\\u6674\", \"temp\": 4, \"feels_like\": 2, \"rh\": 36, \"wind_class\": \"2\\\\u7ea7\", \"wind_dir\": \"\\\\u4e1c\\\\u5357\\\\u98ce\", \"uptime\": \"20250129213500\"}, \"forecasts\": [{\"text_day\": \"\\\\u6674\", \"text_night\": \"\\\\u6674\", \"high\": 9, \"low\": 1, \"wc_day\": \"<3\\\\u7ea7\", \"wd_day\": \"\\\\u4e1c\\\\u5357\\\\u98ce\", \"wc_night\": \"<3\\\\u7ea7\", \"wd_night\": \"\\\\u4e1c\\\\u5357\\\\u98ce\", \"date\": \"2025-01-29\", \"week\": \"\\\\u661f\\\\u671f\\\\u4e09\"}, {\"text_day\": \"\\\\u591a\\\\u4e91\", \"text_night\": \"\\\\u9634\", \"high\": 15, \"low\": 2, \"wc_day\": \"3~4\\\\u7ea7\", \"wd_day\": \"\\\\u4e1c\\\\u5357\\\\u98ce\", \"wc_night\": \"<3\\\\u7ea7\", \"wd_night\": \"\\\\u4e1c\\\\u98ce\", \"date\": \"2025-01-30\", \"week\": \"\\\\u661f\\\\u671f\\\\u56db\"}, {\"text_day\": \"\\\\u5c0f\\\\u96e8\", \"text_night\": \"\\\\u4e2d\\\\u96e8\", \"high\": 9, \"low\": 5, \"wc_day\": \"3~4\\\\u7ea7\", \"wd_day\": \"\\\\u5317\\\\u98ce\", \"wc_night\": \"3~4\\\\u7ea7\", \"wd_night\": \"\\\\u5317\\\\u98ce\", \"date\": \"2025-01-31\", \"week\": \"\\\\u661f\\\\u671f\\\\u4e94\"}, {\"text_day\": \"\\\\u5c0f\\\\u96e8\", \"text_night\": \"\\\\u5c0f\\\\u96e8\", \"high\": 9, \"low\": 3, \"wc_day\": \"4~5\\\\u7ea7\", \"wd_day\": \"\\\\u5317\\\\u98ce\", \"wc_night\": \"<3\\\\u7ea7\", \"wd_night\": \"\\\\u4e1c\\\\u5317\\\\u98ce\", \"date\": \"2025-02-01\", \"week\": \"\\\\u661f\\\\u671f\\\\u516d\"}, {\"text_day\": \"\\\\u5c0f\\\\u96e8\", \"text_night\": \"\\\\u9634\", \"high\": 7, \"low\": 1, \"wc_day\": \"<3\\\\u7ea7\", \"wd_day\": \"\\\\u5317\\\\u98ce\", \"wc_night\": \"<3\\\\u7ea7\", \"wd_night\": \"\\\\u897f\\\\u5317\\\\u98ce\", \"date\": \"2025-02-02\", \"week\": \"\\\\u661f\\\\u671f\\\\u65e5\"}]}, \"message\": \"success\"}'}]"
      ]
     },
     "execution_count": 70,
     "metadata": {},
     "output_type": "execute_result"
    }
   ],
   "source": [
    "messages"
   ]
  },
  {
   "cell_type": "code",
   "execution_count": 71,
   "metadata": {},
   "outputs": [],
   "source": [
    "second_response = client.chat(\n",
    "    model=checkpoint,\n",
    "    messages=messages,\n",
    "    options=gen_kwargs,\n",
    "    stream=False\n",
    ")"
   ]
  },
  {
   "cell_type": "code",
   "execution_count": 75,
   "metadata": {},
   "outputs": [
    {
     "data": {
      "text/markdown": [
       "南京的天气情况如下：\n",
       "\n",
       "当前温度：4℃，感觉像是稍微有点冷。湿度36%，风速2级，方向为东北偏西。\n",
       "\n",
       "今天（1月29日）白天和夜晚都是多云的天气，最高温度约为9℃，最低温度在1℃左右；\n",
       "\n",
       "明天（1月30日）将有小雨出现，夜间可能会有中等强度的降水，最高气温升至15℃，最低气温降至2℃。\n",
       "\n",
       "请注意随时关注气象信息，适时调整出行和活动安排。如果需要进一步的帮助，请告诉我。"
      ],
      "text/plain": [
       "<IPython.core.display.Markdown object>"
      ]
     },
     "metadata": {},
     "output_type": "display_data"
    }
   ],
   "source": [
    "display(Markdown(second_response[\"message\"][\"content\"]))"
   ]
  }
 ],
 "metadata": {
  "kernelspec": {
   "display_name": "base",
   "language": "python",
   "name": "python3"
  },
  "language_info": {
   "codemirror_mode": {
    "name": "ipython",
    "version": 3
   },
   "file_extension": ".py",
   "mimetype": "text/x-python",
   "name": "python",
   "nbconvert_exporter": "python",
   "pygments_lexer": "ipython3",
   "version": "3.11.5"
  }
 },
 "nbformat": 4,
 "nbformat_minor": 2
}
