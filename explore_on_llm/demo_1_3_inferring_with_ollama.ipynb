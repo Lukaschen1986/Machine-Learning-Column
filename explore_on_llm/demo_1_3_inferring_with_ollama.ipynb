{
 "cells": [
  {
   "cell_type": "markdown",
   "metadata": {},
   "source": [
    "https://ollama.com/  \n",
    "https://github.com/ollama/ollama?tab=readme-ov-file  "
   ]
  },
  {
   "cell_type": "markdown",
   "metadata": {},
   "source": [
    "1 - ollama 安装   \n",
    "- https://github.com/ollama/ollama?tab=readme-ov-file\n",
    "- https://github.com/ollama/ollama/blob/main/docs/linux.md  \n",
    "- https://blog.csdn.net/u010197332/article/details/137604798?spm=1001.2014.3001.5506  \n",
    "\n",
    "2 - ollama 配置大模型目录（Windows）  \n",
    "- 打开 Windows 系统设置，来到【关于】，在右边找到【高级系统设置】，然后会出现一个【系统属性】窗口  \n",
    "- 在上面的标签里选择【高级】，再点击下方的【环境变量】  \n",
    "- 这时弹出一个【环境变量】窗口，点击【系统变量】下的新建，然后又弹出一个窗口  \n",
    "- 变量名：OLLAMA_MODELS  \n",
    "- 变量值：F:\\LLM\\ollama  \n",
    "\n",
    "3 - ollama 配置大模型目录（Linux）  \n",
    "- vim ~/.bashrc  \n",
    "- export OLLAMA_MODELS=/home/Ollama/ollama_cache  \n",
    "- cp -r /usr/share/ollama/.ollama/models /home/Ollama/ollama_cache  \n",
    "\n",
    "4 - ollama 模型微调  \n",
    "- https://blog.csdn.net/spiderwower/article/details/138755776?ops_request_misc=%257B%2522request%255Fid%2522%253A%25226fa4e7737d516cd7af7ea785e76a75a1%2522%252C%2522scm%2522%253A%252220140713.130102334..%2522%257D&request_id=6fa4e7737d516cd7af7ea785e76a75a1&biz_id=0&utm_medium=distribute.pc_search_result.none-task-blog-2~all~top_positive~default-1-138755776-null-null.142^v101^pc_search_result_base5&utm_term=ollama%20%E5%BE%AE%E8%B0%83&spm=1018.2226.3001.4187\n",
    "\n",
    "4 - ollama 常见命令  \n",
    "- ollama --version   \n",
    "- ollama serve  \n",
    "- ollama create /path/to/Modelfile  \n",
    "- ollama show my_model  \n",
    "- ollama run my_model  \n",
    "- ollama list  \n",
    "- ollama ps  \n",
    "- ollama cp my_model new_model  \n",
    "- ollama rm my_model  \n",
    "- ollama --help  \n",
    "- ollama run --help  "
   ]
  },
  {
   "cell_type": "code",
   "execution_count": 1,
   "metadata": {},
   "outputs": [],
   "source": [
    "import os\n",
    "import sys\n",
    "import warnings; warnings.filterwarnings(\"ignore\")\n",
    "import json\n",
    "import requests\n",
    "import torch as th\n",
    "\n",
    "from pprint import pp\n",
    "from IPython.display import (Markdown, display)\n",
    "from dotenv import load_dotenv\n",
    "from openai import OpenAI\n",
    "from ollama import Client"
   ]
  },
  {
   "cell_type": "code",
   "execution_count": 2,
   "metadata": {},
   "outputs": [
    {
     "name": "stdout",
     "output_type": "stream",
     "text": [
      "device = cuda; devive_cnt = 1\n",
      "torch = 2.5.1+cu121\n",
      "cuda = 12.1\n"
     ]
    }
   ],
   "source": [
    "if sys.platform == \"darwin\":\n",
    "    device = th.device(\"mps\")\n",
    "else:\n",
    "    device = th.device(\"cuda\" if th.cuda.is_available() else \"cpu\")\n",
    "    \n",
    "devive_cnt = th.cuda.device_count()\n",
    "print(f\"device = {device}; devive_cnt = {devive_cnt}\")\n",
    "print(f\"torch = {th.__version__}\")\n",
    "print(f\"cuda = {th.version.cuda}\")"
   ]
  },
  {
   "cell_type": "code",
   "execution_count": 3,
   "metadata": {},
   "outputs": [],
   "source": [
    "path_project = \"C:/my_project/MyGit/Machine-Learning-Column/hugging_face\"\n",
    "path_data = os.path.join(os.path.dirname(path_project), \"data\")\n",
    "path_output = os.path.join(os.path.dirname(path_project), \"output\")\n",
    "\n",
    "if sys.platform == \"darwin\":\n",
    "    path_model = \"/Users/lukasi33/project/LLM\"\n",
    "else:\n",
    "    path_model = \"F:/LLM\""
   ]
  },
  {
   "cell_type": "markdown",
   "metadata": {},
   "source": [
    "## step-1: 载入 API KEY"
   ]
  },
  {
   "cell_type": "code",
   "execution_count": 4,
   "metadata": {},
   "outputs": [],
   "source": [
    "load_dotenv(dotenv_path=\"explore.env\")\n",
    "baidu_key = os.getenv(\"BAIDU_KEY\")"
   ]
  },
  {
   "cell_type": "markdown",
   "metadata": {},
   "source": [
    "## step-2: 实例化客户端"
   ]
  },
  {
   "cell_type": "code",
   "execution_count": 13,
   "metadata": {},
   "outputs": [],
   "source": [
    "# 方法-1：Ollama\n",
    "# client = Client(\n",
    "#     host=\"http://127.0.0.1:11434\",\n",
    "#     timeout=60\n",
    "# )"
   ]
  },
  {
   "cell_type": "code",
   "execution_count": 6,
   "metadata": {},
   "outputs": [],
   "source": [
    "# 方法-2：OpenAI\n",
    "client = OpenAI(\n",
    "    base_url=\"http://127.0.0.1:11434/v1\",\n",
    "    api_key=\"EMPTY\",\n",
    "    timeout=60\n",
    "    )"
   ]
  },
  {
   "cell_type": "markdown",
   "metadata": {},
   "source": [
    "## step-3: 模型推理"
   ]
  },
  {
   "cell_type": "code",
   "execution_count": 7,
   "metadata": {},
   "outputs": [],
   "source": [
    "checkpoint = \"qwen2.5:7b\""
   ]
  },
  {
   "cell_type": "code",
   "execution_count": 8,
   "metadata": {},
   "outputs": [],
   "source": [
    "system_prompt = (\n",
    "    \"你叫小慧助手，是由Lukas开发的差旅智能客服。\"\n",
    "    \"你的身份是一名差旅秘书，\"\n",
    "    \"你的任务是为用户提供基础对话、差旅知识问答、酒店推荐服务。\"\n",
    "    \"当问及你的模型参数时，标准回答是属于公司保密信息，要强调模型设计的高效，能够提供高质量的服务。\"\n",
    "    \"You are a helpful assistant on business travel.\"\n",
    ")"
   ]
  },
  {
   "cell_type": "code",
   "execution_count": 9,
   "metadata": {},
   "outputs": [],
   "source": [
    "user_prompt = \"你好呀~\""
   ]
  },
  {
   "cell_type": "code",
   "execution_count": 10,
   "metadata": {},
   "outputs": [],
   "source": [
    "messages = [\n",
    "    {\"role\": \"system\", \"content\": system_prompt},\n",
    "    {\"role\": \"user\", \"content\": user_prompt}\n",
    "]"
   ]
  },
  {
   "cell_type": "code",
   "execution_count": null,
   "metadata": {},
   "outputs": [],
   "source": [
    "gen_kwargs = {\n",
    "    # \"max_new_tokens\": 512,\n",
    "    # \"do_sample\": True,\n",
    "    # \"num_beams\": 2,\n",
    "    \"temperature\": 1.5,\n",
    "    \"top_p\": 0.9,\n",
    "}\n",
    "\n",
    "# Ollama\n",
    "# response = client.chat(\n",
    "#     model=checkpoint,\n",
    "#     messages=messages,\n",
    "#     options=gen_kwargs,\n",
    "#     stream=False\n",
    "# )\n",
    "\n",
    "# OpenAI\n",
    "response = client.chat.completions.create(\n",
    "    model=checkpoint,\n",
    "    messages=messages,\n",
    "    stream=False,\n",
    "    **gen_kwargs\n",
    ")"
   ]
  },
  {
   "cell_type": "code",
   "execution_count": 37,
   "metadata": {},
   "outputs": [
    {
     "name": "stdout",
     "output_type": "stream",
     "text": [
      "ChatCompletion(id='chatcmpl-488', choices=[Choice(finish_reason='tool_calls', index=0, logprobs=None, message=ChatCompletionMessage(content='', refusal=None, role='assistant', audio=None, function_call=None, tool_calls=[ChatCompletionMessageToolCall(id='call_uxubapdr', function=Function(arguments='{\"cityName\":\"南京\"}', name='get_weather'), type='function', index=0)]))], created=1738240296, model='qwen2.5:7b', object='chat.completion', service_tier=None, system_fingerprint='fp_ollama', usage=CompletionUsage(completion_tokens=21, prompt_tokens=226, total_tokens=247, completion_tokens_details=None, prompt_tokens_details=None))\n"
     ]
    }
   ],
   "source": [
    "pp(response)"
   ]
  },
  {
   "cell_type": "code",
   "execution_count": 18,
   "metadata": {},
   "outputs": [
    {
     "data": {
      "text/markdown": [
       "您好！很高兴为您服务。有任何差旅方面的问题都可以随时问我哦。"
      ],
      "text/plain": [
       "<IPython.core.display.Markdown object>"
      ]
     },
     "metadata": {},
     "output_type": "display_data"
    }
   ],
   "source": [
    "# Ollama\n",
    "# display(Markdown(response[\"message\"][\"content\"]))\n",
    "# OpenAI\n",
    "display(Markdown(response.choices[0].message.content))"
   ]
  },
  {
   "cell_type": "code",
   "execution_count": null,
   "metadata": {},
   "outputs": [],
   "source": [
    "# stream\n",
    "response = client.chat.completions.create(\n",
    "    model=checkpoint,\n",
    "    messages=messages,\n",
    "    stream=True,\n",
    "    **gen_kwargs\n",
    ")\n",
    "\n",
    "for res in response:\n",
    "    print(res.choices[0].delta.content)"
   ]
  },
  {
   "cell_type": "markdown",
   "metadata": {},
   "source": [
    "## step-4: 工具调用"
   ]
  },
  {
   "cell_type": "code",
   "execution_count": 20,
   "metadata": {},
   "outputs": [],
   "source": [
    "cityName2districtId = {\n",
    "    \"南京\": \"320100\",\n",
    "    \"深圳\": \"440300\"\n",
    "}"
   ]
  },
  {
   "cell_type": "code",
   "execution_count": 21,
   "metadata": {},
   "outputs": [],
   "source": [
    "def get_weather(cityName):\n",
    "    districtId = cityName2districtId.get(cityName)\n",
    "    url = f\"https://api.map.baidu.com/weather/v1/?district_id={districtId}&data_type=all&ak={baidu_key}\"\n",
    "    response = requests.get(url)\n",
    "    data = response.json()\n",
    "    return json.dumps(data)"
   ]
  },
  {
   "cell_type": "code",
   "execution_count": 22,
   "metadata": {},
   "outputs": [
    {
     "data": {
      "text/plain": [
       "'{\"status\": 0, \"result\": {\"location\": {\"country\": \"\\\\u4e2d\\\\u56fd\", \"province\": \"\\\\u6c5f\\\\u82cf\\\\u7701\", \"city\": \"\\\\u5357\\\\u4eac\\\\u5e02\", \"name\": \"\\\\u5357\\\\u4eac\", \"id\": \"320100\"}, \"now\": {\"text\": \"\\\\u6674\", \"temp\": 9, \"feels_like\": 8, \"rh\": 43, \"wind_class\": \"2\\\\u7ea7\", \"wind_dir\": \"\\\\u4e1c\\\\u98ce\", \"uptime\": \"20250130202000\"}, \"forecasts\": [{\"text_day\": \"\\\\u591a\\\\u4e91\", \"text_night\": \"\\\\u9634\", \"high\": 15, \"low\": 6, \"wc_day\": \"3~4\\\\u7ea7\", \"wd_day\": \"\\\\u4e1c\\\\u5357\\\\u98ce\", \"wc_night\": \"3~4\\\\u7ea7\", \"wd_night\": \"\\\\u4e1c\\\\u98ce\", \"date\": \"2025-01-30\", \"week\": \"\\\\u661f\\\\u671f\\\\u56db\"}, {\"text_day\": \"\\\\u4e2d\\\\u96e8\", \"text_night\": \"\\\\u4e2d\\\\u96e8\", \"high\": 9, \"low\": 7, \"wc_day\": \"3~4\\\\u7ea7\", \"wd_day\": \"\\\\u4e1c\\\\u5317\\\\u98ce\", \"wc_night\": \"3~4\\\\u7ea7\", \"wd_night\": \"\\\\u5317\\\\u98ce\", \"date\": \"2025-01-31\", \"week\": \"\\\\u661f\\\\u671f\\\\u4e94\"}, {\"text_day\": \"\\\\u5c0f\\\\u96e8\", \"text_night\": \"\\\\u5c0f\\\\u96e8\", \"high\": 9, \"low\": 4, \"wc_day\": \"4~5\\\\u7ea7\", \"wd_day\": \"\\\\u5317\\\\u98ce\", \"wc_night\": \"3~4\\\\u7ea7\", \"wd_night\": \"\\\\u4e1c\\\\u5317\\\\u98ce\", \"date\": \"2025-02-01\", \"week\": \"\\\\u661f\\\\u671f\\\\u516d\"}, {\"text_day\": \"\\\\u9634\", \"text_night\": \"\\\\u9634\", \"high\": 9, \"low\": 3, \"wc_day\": \"4~5\\\\u7ea7\", \"wd_day\": \"\\\\u5317\\\\u98ce\", \"wc_night\": \"3~4\\\\u7ea7\", \"wd_night\": \"\\\\u897f\\\\u5317\\\\u98ce\", \"date\": \"2025-02-02\", \"week\": \"\\\\u661f\\\\u671f\\\\u65e5\"}, {\"text_day\": \"\\\\u591a\\\\u4e91\", \"text_night\": \"\\\\u591a\\\\u4e91\", \"high\": 8, \"low\": -1, \"wc_day\": \"3~4\\\\u7ea7\", \"wd_day\": \"\\\\u5317\\\\u98ce\", \"wc_night\": \"3~4\\\\u7ea7\", \"wd_night\": \"\\\\u5317\\\\u98ce\", \"date\": \"2025-02-03\", \"week\": \"\\\\u661f\\\\u671f\\\\u4e00\"}]}, \"message\": \"success\"}'"
      ]
     },
     "execution_count": 22,
     "metadata": {},
     "output_type": "execute_result"
    }
   ],
   "source": [
    "# test tool\n",
    "data = get_weather(cityName=\"南京\")\n",
    "data"
   ]
  },
  {
   "cell_type": "code",
   "execution_count": 23,
   "metadata": {},
   "outputs": [],
   "source": [
    "get_weather_tool = {\n",
    "    \"name\": \"get_weather\",\n",
    "    \"description\": \"根据输入的城市名称，查询天气\",\n",
    "    \"parameters\": {\n",
    "        \"type\": \"object\",\n",
    "        \"properties\": {\n",
    "            \"cityName\": {\n",
    "                \"type\": \"string\",\n",
    "                \"description\": \"城市名称\"\n",
    "            }\n",
    "        },\n",
    "        \"required\": [\"cityName\"]\n",
    "    }\n",
    "}"
   ]
  },
  {
   "cell_type": "code",
   "execution_count": 24,
   "metadata": {},
   "outputs": [],
   "source": [
    "tools = [\n",
    "    {\n",
    "        \"type\": \"function\",\n",
    "        \"function\": get_weather_tool\n",
    "    }\n",
    "]"
   ]
  },
  {
   "cell_type": "code",
   "execution_count": 25,
   "metadata": {},
   "outputs": [],
   "source": [
    "tool_dict = {\n",
    "    \"get_weather\": get_weather\n",
    "}"
   ]
  },
  {
   "cell_type": "code",
   "execution_count": 26,
   "metadata": {},
   "outputs": [],
   "source": [
    "user_prompt = \"帮我查下南京的天气\"\n",
    "\n",
    "messages = [\n",
    "    {\"role\": \"system\", \"content\": system_prompt},\n",
    "    {\"role\": \"user\", \"content\": user_prompt}\n",
    "]"
   ]
  },
  {
   "cell_type": "code",
   "execution_count": 27,
   "metadata": {},
   "outputs": [],
   "source": [
    "# response = client.chat(\n",
    "#     model=checkpoint,\n",
    "#     messages=messages,\n",
    "#     options=gen_kwargs,\n",
    "#     stream=False,\n",
    "#     tools=tools\n",
    "# )\n",
    "\n",
    "response = client.chat.completions.create(\n",
    "    model=checkpoint,\n",
    "    messages=messages,\n",
    "    stream=False,\n",
    "    tools=tools,\n",
    "    **gen_kwargs\n",
    ")"
   ]
  },
  {
   "cell_type": "code",
   "execution_count": 28,
   "metadata": {},
   "outputs": [
    {
     "data": {
      "text/plain": [
       "{'content': '',\n",
       " 'refusal': None,\n",
       " 'role': 'assistant',\n",
       " 'audio': None,\n",
       " 'function_call': None,\n",
       " 'tool_calls': [{'id': 'call_uxubapdr',\n",
       "   'function': {'arguments': '{\"cityName\":\"南京\"}', 'name': 'get_weather'},\n",
       "   'type': 'function',\n",
       "   'index': 0}]}"
      ]
     },
     "execution_count": 28,
     "metadata": {},
     "output_type": "execute_result"
    }
   ],
   "source": [
    "# assistant response\n",
    "# assistant_response = response[\"message\"]\n",
    "\n",
    "assistant_response = response.choices[0].message\n",
    "assistant_response.model_dump()\n"
   ]
  },
  {
   "cell_type": "code",
   "execution_count": 29,
   "metadata": {},
   "outputs": [],
   "source": [
    "messages.append(assistant_response)"
   ]
  },
  {
   "cell_type": "code",
   "execution_count": null,
   "metadata": {},
   "outputs": [
    {
     "data": {
      "text/plain": [
       "'{\"status\": 0, \"result\": {\"location\": {\"country\": \"\\\\u4e2d\\\\u56fd\", \"province\": \"\\\\u6c5f\\\\u82cf\\\\u7701\", \"city\": \"\\\\u5357\\\\u4eac\\\\u5e02\", \"name\": \"\\\\u5357\\\\u4eac\", \"id\": \"320100\"}, \"now\": {\"text\": \"\\\\u6674\", \"temp\": 9, \"feels_like\": 8, \"rh\": 43, \"wind_class\": \"2\\\\u7ea7\", \"wind_dir\": \"\\\\u4e1c\\\\u98ce\", \"uptime\": \"20250130202500\"}, \"forecasts\": [{\"text_day\": \"\\\\u591a\\\\u4e91\", \"text_night\": \"\\\\u9634\", \"high\": 15, \"low\": 6, \"wc_day\": \"3~4\\\\u7ea7\", \"wd_day\": \"\\\\u4e1c\\\\u5357\\\\u98ce\", \"wc_night\": \"3~4\\\\u7ea7\", \"wd_night\": \"\\\\u4e1c\\\\u98ce\", \"date\": \"2025-01-30\", \"week\": \"\\\\u661f\\\\u671f\\\\u56db\"}, {\"text_day\": \"\\\\u4e2d\\\\u96e8\", \"text_night\": \"\\\\u4e2d\\\\u96e8\", \"high\": 9, \"low\": 7, \"wc_day\": \"3~4\\\\u7ea7\", \"wd_day\": \"\\\\u4e1c\\\\u5317\\\\u98ce\", \"wc_night\": \"3~4\\\\u7ea7\", \"wd_night\": \"\\\\u5317\\\\u98ce\", \"date\": \"2025-01-31\", \"week\": \"\\\\u661f\\\\u671f\\\\u4e94\"}, {\"text_day\": \"\\\\u5c0f\\\\u96e8\", \"text_night\": \"\\\\u5c0f\\\\u96e8\", \"high\": 9, \"low\": 4, \"wc_day\": \"4~5\\\\u7ea7\", \"wd_day\": \"\\\\u5317\\\\u98ce\", \"wc_night\": \"3~4\\\\u7ea7\", \"wd_night\": \"\\\\u4e1c\\\\u5317\\\\u98ce\", \"date\": \"2025-02-01\", \"week\": \"\\\\u661f\\\\u671f\\\\u516d\"}, {\"text_day\": \"\\\\u9634\", \"text_night\": \"\\\\u9634\", \"high\": 9, \"low\": 3, \"wc_day\": \"4~5\\\\u7ea7\", \"wd_day\": \"\\\\u5317\\\\u98ce\", \"wc_night\": \"3~4\\\\u7ea7\", \"wd_night\": \"\\\\u897f\\\\u5317\\\\u98ce\", \"date\": \"2025-02-02\", \"week\": \"\\\\u661f\\\\u671f\\\\u65e5\"}, {\"text_day\": \"\\\\u591a\\\\u4e91\", \"text_night\": \"\\\\u591a\\\\u4e91\", \"high\": 8, \"low\": -1, \"wc_day\": \"3~4\\\\u7ea7\", \"wd_day\": \"\\\\u5317\\\\u98ce\", \"wc_night\": \"3~4\\\\u7ea7\", \"wd_night\": \"\\\\u5317\\\\u98ce\", \"date\": \"2025-02-03\", \"week\": \"\\\\u661f\\\\u671f\\\\u4e00\"}]}, \"message\": \"success\"}'"
      ]
     },
     "execution_count": 30,
     "metadata": {},
     "output_type": "execute_result"
    }
   ],
   "source": [
    "# tool response\n",
    "# tool_name = assistant_response[\"tool_calls\"][0][\"function\"][\"name\"]\n",
    "# tool_to_call = tool_dict.get(tool_name)\n",
    "# tool_args = assistant_response[\"tool_calls\"][0][\"function\"][\"arguments\"]\n",
    "\n",
    "tool_name = assistant_response.tool_calls[0].function.name\n",
    "tool_to_call = tool_dict.get(tool_name)\n",
    "tool_args = json.loads(assistant_response.tool_calls[0].function.arguments)\n",
    "\n",
    "tool_response = tool_to_call(**tool_args)\n",
    "tool_response"
   ]
  },
  {
   "cell_type": "code",
   "execution_count": 31,
   "metadata": {},
   "outputs": [],
   "source": [
    "messages.append(\n",
    "    {\n",
    "        \"role\": \"tool\",\n",
    "        \"content\": tool_response,\n",
    "        \"tool_call_id\": assistant_response.tool_calls[0].id\n",
    "    }\n",
    ")"
   ]
  },
  {
   "cell_type": "code",
   "execution_count": 32,
   "metadata": {},
   "outputs": [
    {
     "data": {
      "text/plain": [
       "[{'role': 'system',\n",
       "  'content': '你叫小慧助手，是由Lukas开发的差旅智能客服。你的身份是一名差旅秘书，你的任务是为用户提供基础对话、差旅知识问答、酒店推荐服务。当问及你的模型参数时，标准回答是属于公司保密信息，要强调模型设计的高效，能够提供高质量的服务。You are a helpful assistant on business travel.'},\n",
       " {'role': 'user', 'content': '帮我查下南京的天气'},\n",
       " ChatCompletionMessage(content='', refusal=None, role='assistant', audio=None, function_call=None, tool_calls=[ChatCompletionMessageToolCall(id='call_uxubapdr', function=Function(arguments='{\"cityName\":\"南京\"}', name='get_weather'), type='function', index=0)]),\n",
       " {'role': 'tool',\n",
       "  'content': '{\"status\": 0, \"result\": {\"location\": {\"country\": \"\\\\u4e2d\\\\u56fd\", \"province\": \"\\\\u6c5f\\\\u82cf\\\\u7701\", \"city\": \"\\\\u5357\\\\u4eac\\\\u5e02\", \"name\": \"\\\\u5357\\\\u4eac\", \"id\": \"320100\"}, \"now\": {\"text\": \"\\\\u6674\", \"temp\": 9, \"feels_like\": 8, \"rh\": 43, \"wind_class\": \"2\\\\u7ea7\", \"wind_dir\": \"\\\\u4e1c\\\\u98ce\", \"uptime\": \"20250130202500\"}, \"forecasts\": [{\"text_day\": \"\\\\u591a\\\\u4e91\", \"text_night\": \"\\\\u9634\", \"high\": 15, \"low\": 6, \"wc_day\": \"3~4\\\\u7ea7\", \"wd_day\": \"\\\\u4e1c\\\\u5357\\\\u98ce\", \"wc_night\": \"3~4\\\\u7ea7\", \"wd_night\": \"\\\\u4e1c\\\\u98ce\", \"date\": \"2025-01-30\", \"week\": \"\\\\u661f\\\\u671f\\\\u56db\"}, {\"text_day\": \"\\\\u4e2d\\\\u96e8\", \"text_night\": \"\\\\u4e2d\\\\u96e8\", \"high\": 9, \"low\": 7, \"wc_day\": \"3~4\\\\u7ea7\", \"wd_day\": \"\\\\u4e1c\\\\u5317\\\\u98ce\", \"wc_night\": \"3~4\\\\u7ea7\", \"wd_night\": \"\\\\u5317\\\\u98ce\", \"date\": \"2025-01-31\", \"week\": \"\\\\u661f\\\\u671f\\\\u4e94\"}, {\"text_day\": \"\\\\u5c0f\\\\u96e8\", \"text_night\": \"\\\\u5c0f\\\\u96e8\", \"high\": 9, \"low\": 4, \"wc_day\": \"4~5\\\\u7ea7\", \"wd_day\": \"\\\\u5317\\\\u98ce\", \"wc_night\": \"3~4\\\\u7ea7\", \"wd_night\": \"\\\\u4e1c\\\\u5317\\\\u98ce\", \"date\": \"2025-02-01\", \"week\": \"\\\\u661f\\\\u671f\\\\u516d\"}, {\"text_day\": \"\\\\u9634\", \"text_night\": \"\\\\u9634\", \"high\": 9, \"low\": 3, \"wc_day\": \"4~5\\\\u7ea7\", \"wd_day\": \"\\\\u5317\\\\u98ce\", \"wc_night\": \"3~4\\\\u7ea7\", \"wd_night\": \"\\\\u897f\\\\u5317\\\\u98ce\", \"date\": \"2025-02-02\", \"week\": \"\\\\u661f\\\\u671f\\\\u65e5\"}, {\"text_day\": \"\\\\u591a\\\\u4e91\", \"text_night\": \"\\\\u591a\\\\u4e91\", \"high\": 8, \"low\": -1, \"wc_day\": \"3~4\\\\u7ea7\", \"wd_day\": \"\\\\u5317\\\\u98ce\", \"wc_night\": \"3~4\\\\u7ea7\", \"wd_night\": \"\\\\u5317\\\\u98ce\", \"date\": \"2025-02-03\", \"week\": \"\\\\u661f\\\\u671f\\\\u4e00\"}]}, \"message\": \"success\"}'}]"
      ]
     },
     "execution_count": 32,
     "metadata": {},
     "output_type": "execute_result"
    }
   ],
   "source": [
    "messages"
   ]
  },
  {
   "cell_type": "code",
   "execution_count": 33,
   "metadata": {},
   "outputs": [],
   "source": [
    "second_response = client.chat.completions.create(\n",
    "    model=checkpoint,\n",
    "    messages=messages,\n",
    "    stream=False,\n",
    "    **gen_kwargs\n",
    ")"
   ]
  },
  {
   "cell_type": "code",
   "execution_count": 35,
   "metadata": {},
   "outputs": [
    {
     "data": {
      "text/markdown": [
       "当前南京的天气是多云，温度约为9°C。白天最高温度预计为15°C，夜晚最低温度约为6°C。风速在3到4级之间，白天主要来自东北西方向，晚上转为东北方向。\n",
       "\n",
       "未来几天的天气预报如下：\n",
       "- 2025年1月31日（周二），白天多云，夜晚晴朗，气温6至9°C。\n",
       "- 2月1日（周三），全天晴朗，气温4至9°C。\n",
       "- 2月2日（周四），全天多云转晴，气温3至9°C。\n",
       "- 2月3日（周五），全天多云，气温-1至8°C。\n",
       "\n",
       "请注意保暖和适时调整衣物。"
      ],
      "text/plain": [
       "<IPython.core.display.Markdown object>"
      ]
     },
     "metadata": {},
     "output_type": "display_data"
    }
   ],
   "source": [
    "display(Markdown(second_response.choices[0].message.content))"
   ]
  }
 ],
 "metadata": {
  "kernelspec": {
   "display_name": "base",
   "language": "python",
   "name": "python3"
  },
  "language_info": {
   "codemirror_mode": {
    "name": "ipython",
    "version": 3
   },
   "file_extension": ".py",
   "mimetype": "text/x-python",
   "name": "python",
   "nbconvert_exporter": "python",
   "pygments_lexer": "ipython3",
   "version": "3.11.5"
  }
 },
 "nbformat": 4,
 "nbformat_minor": 2
}
