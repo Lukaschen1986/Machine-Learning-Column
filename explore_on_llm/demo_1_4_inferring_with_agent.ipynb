{
 "cells": [
  {
   "cell_type": "markdown",
   "metadata": {},
   "source": [
    "https://github.com/openai/swarm  "
   ]
  },
  {
   "cell_type": "code",
   "execution_count": 1,
   "metadata": {},
   "outputs": [],
   "source": [
    "import os\n",
    "import sys\n",
    "import warnings; warnings.filterwarnings(\"ignore\")\n",
    "import json\n",
    "import requests\n",
    "import torch as th\n",
    "\n",
    "from pprint import pp\n",
    "from dotenv import load_dotenv\n",
    "from openai import OpenAI\n",
    "from swarm import (Swarm, Agent)\n",
    "from IPython.display import (Markdown, display)"
   ]
  },
  {
   "cell_type": "code",
   "execution_count": 2,
   "metadata": {},
   "outputs": [
    {
     "name": "stdout",
     "output_type": "stream",
     "text": [
      "device = cuda; devive_cnt = 1\n",
      "torch = 2.5.1+cu121\n",
      "cuda = 12.1\n"
     ]
    }
   ],
   "source": [
    "if sys.platform == \"darwin\":\n",
    "    device = th.device(\"mps\")\n",
    "else:\n",
    "    device = th.device(\"cuda\" if th.cuda.is_available() else \"cpu\")\n",
    "    \n",
    "devive_cnt = th.cuda.device_count()\n",
    "print(f\"device = {device}; devive_cnt = {devive_cnt}\")\n",
    "print(f\"torch = {th.__version__}\")\n",
    "print(f\"cuda = {th.version.cuda}\")"
   ]
  },
  {
   "cell_type": "code",
   "execution_count": 3,
   "metadata": {},
   "outputs": [],
   "source": [
    "path_project = \"C:/my_project/MyGit/Machine-Learning-Column/hugging_face\"\n",
    "path_data = os.path.join(os.path.dirname(path_project), \"data\")\n",
    "path_output = os.path.join(os.path.dirname(path_project), \"output\")\n",
    "\n",
    "if sys.platform == \"darwin\":\n",
    "    path_model = \"/Users/lukasi33/project/LLM\"\n",
    "else:\n",
    "    path_model = \"F:/LLM\""
   ]
  },
  {
   "cell_type": "markdown",
   "metadata": {},
   "source": [
    "## step-1: 载入 API KEY"
   ]
  },
  {
   "cell_type": "code",
   "execution_count": 4,
   "metadata": {},
   "outputs": [],
   "source": [
    "load_dotenv(dotenv_path=\"explore.env\")\n",
    "deepseek_key = os.getenv(\"DEEPSEEK_KEY\")\n",
    "baidu_key = os.getenv(\"BAIDU_KEY\")"
   ]
  },
  {
   "cell_type": "markdown",
   "metadata": {},
   "source": [
    "## step-2: 实例化客户端"
   ]
  },
  {
   "cell_type": "code",
   "execution_count": 5,
   "metadata": {},
   "outputs": [],
   "source": [
    "# 调用模型 API\n",
    "# client = OpenAI(\n",
    "#     api_key=deepseek_key,\n",
    "#     base_url=\"https://api.deepseek.com/\"\n",
    "#     )"
   ]
  },
  {
   "cell_type": "code",
   "execution_count": 5,
   "metadata": {},
   "outputs": [],
   "source": [
    "# 本地 Ollama\n",
    "client = OpenAI(\n",
    "    base_url=\"http://127.0.0.1:11434/v1\",\n",
    "    api_key=\"EMPTY\",\n",
    "    timeout=60\n",
    "    )"
   ]
  },
  {
   "cell_type": "code",
   "execution_count": 6,
   "metadata": {},
   "outputs": [],
   "source": [
    "swarm_client = Swarm(client)"
   ]
  },
  {
   "cell_type": "markdown",
   "metadata": {},
   "source": [
    "## step-3: Agent 推理"
   ]
  },
  {
   "cell_type": "code",
   "execution_count": 7,
   "metadata": {},
   "outputs": [],
   "source": [
    "# checkpoint = \"deepseek-chat\"  # v3\n",
    "# checkpoint = \"deepseek-reasoner\"  # r1\n",
    "# checkpoint = \"deepseek-r1:14b\"\n",
    "# checkpoint = \"qwen2.5:7b\"\n",
    "checkpoint = \"qwen2.5:14b\""
   ]
  },
  {
   "cell_type": "code",
   "execution_count": 8,
   "metadata": {},
   "outputs": [],
   "source": [
    "agent = Agent(\n",
    "    name=\"Agent\",\n",
    "    model=checkpoint,\n",
    "    instructions=\"You are a helpful assistant on business travel.\"\n",
    ")"
   ]
  },
  {
   "cell_type": "code",
   "execution_count": 9,
   "metadata": {},
   "outputs": [],
   "source": [
    "system_prompt = (\n",
    "    \"你叫小慧助手，是由Lukas开发的差旅智能客服。\"\n",
    "    \"你的身份是一名差旅秘书，\"\n",
    "    \"你的任务是为用户提供基础对话、差旅知识问答、酒店推荐服务。\"\n",
    "    \"当问及你的模型参数时，标准回答是属于公司保密信息，要强调模型设计的高效，能够提供高质量的服务。\"\n",
    "    \"You are a helpful assistant on business travel.\"\n",
    ")"
   ]
  },
  {
   "cell_type": "code",
   "execution_count": 10,
   "metadata": {},
   "outputs": [],
   "source": [
    "user_prompt = \"你好呀~\""
   ]
  },
  {
   "cell_type": "code",
   "execution_count": 11,
   "metadata": {},
   "outputs": [],
   "source": [
    "messages = [\n",
    "    {\"role\": \"system\", \"content\": system_prompt},\n",
    "    {\"role\": \"user\", \"content\": user_prompt}\n",
    "]"
   ]
  },
  {
   "cell_type": "code",
   "execution_count": 12,
   "metadata": {},
   "outputs": [],
   "source": [
    "response = swarm_client.run(\n",
    "    agent=agent,\n",
    "    messages=messages\n",
    ")"
   ]
  },
  {
   "cell_type": "code",
   "execution_count": 13,
   "metadata": {},
   "outputs": [
    {
     "name": "stdout",
     "output_type": "stream",
     "text": [
      "您好！有什么可以帮助您的吗？无论是关于旅行规划、酒店预订还是其他差旅相关的问题，都可以随时问我哦。\n"
     ]
    }
   ],
   "source": [
    "print(response.messages[-1][\"content\"])"
   ]
  },
  {
   "cell_type": "markdown",
   "metadata": {},
   "source": [
    "## step-4: 工具调用"
   ]
  },
  {
   "cell_type": "code",
   "execution_count": 84,
   "metadata": {},
   "outputs": [],
   "source": [
    "cityName2districtId = {\n",
    "    \"北京\": \"110100\",\n",
    "    \"上海\": \"310100\",\n",
    "    \"广州\": \"440100\",\n",
    "    \"深圳\": \"440300\",\n",
    "    \"南京\": \"320100\",\n",
    "    \"杭州\": \"330100\"\n",
    "}"
   ]
  },
  {
   "cell_type": "code",
   "execution_count": 15,
   "metadata": {},
   "outputs": [],
   "source": [
    "def get_weather(cityName):\n",
    "    districtId = cityName2districtId.get(cityName)\n",
    "    url = f\"https://api.map.baidu.com/weather/v1/?district_id={districtId}&data_type=all&ak={baidu_key}\"\n",
    "    response = requests.get(url)\n",
    "    data = response.json()\n",
    "    return json.dumps(data)"
   ]
  },
  {
   "cell_type": "code",
   "execution_count": 16,
   "metadata": {},
   "outputs": [
    {
     "data": {
      "text/plain": [
       "'{\"status\": 0, \"result\": {\"location\": {\"country\": \"\\\\u4e2d\\\\u56fd\", \"province\": \"\\\\u6c5f\\\\u82cf\\\\u7701\", \"city\": \"\\\\u5357\\\\u4eac\\\\u5e02\", \"name\": \"\\\\u5357\\\\u4eac\", \"id\": \"320100\"}, \"now\": {\"text\": \"\\\\u591a\\\\u4e91\", \"temp\": 7, \"feels_like\": 6, \"rh\": 80, \"wind_class\": \"2\\\\u7ea7\", \"wind_dir\": \"\\\\u4e1c\\\\u5317\\\\u98ce\", \"uptime\": \"20250201190000\"}, \"forecasts\": [{\"text_day\": \"\\\\u9634\", \"text_night\": \"\\\\u5c0f\\\\u96e8\", \"high\": 9, \"low\": 4, \"wc_day\": \"3~4\\\\u7ea7\", \"wd_day\": \"\\\\u5317\\\\u98ce\", \"wc_night\": \"3~4\\\\u7ea7\", \"wd_night\": \"\\\\u4e1c\\\\u5317\\\\u98ce\", \"date\": \"2025-02-01\", \"week\": \"\\\\u661f\\\\u671f\\\\u516d\"}, {\"text_day\": \"\\\\u9634\", \"text_night\": \"\\\\u591a\\\\u4e91\", \"high\": 9, \"low\": 3, \"wc_day\": \"<3\\\\u7ea7\", \"wd_day\": \"\\\\u5317\\\\u98ce\", \"wc_night\": \"<3\\\\u7ea7\", \"wd_night\": \"\\\\u5317\\\\u98ce\", \"date\": \"2025-02-02\", \"week\": \"\\\\u661f\\\\u671f\\\\u65e5\"}, {\"text_day\": \"\\\\u591a\\\\u4e91\", \"text_night\": \"\\\\u6674\", \"high\": 8, \"low\": -1, \"wc_day\": \"3~4\\\\u7ea7\", \"wd_day\": \"\\\\u5317\\\\u98ce\", \"wc_night\": \"<3\\\\u7ea7\", \"wd_night\": \"\\\\u4e1c\\\\u98ce\", \"date\": \"2025-02-03\", \"week\": \"\\\\u661f\\\\u671f\\\\u4e00\"}, {\"text_day\": \"\\\\u6674\", \"text_night\": \"\\\\u6674\", \"high\": 9, \"low\": -2, \"wc_day\": \"3~4\\\\u7ea7\", \"wd_day\": \"\\\\u897f\\\\u98ce\", \"wc_night\": \"<3\\\\u7ea7\", \"wd_night\": \"\\\\u897f\\\\u5357\\\\u98ce\", \"date\": \"2025-02-04\", \"week\": \"\\\\u661f\\\\u671f\\\\u4e8c\"}, {\"text_day\": \"\\\\u591a\\\\u4e91\", \"text_night\": \"\\\\u591a\\\\u4e91\", \"high\": 11, \"low\": -1, \"wc_day\": \"4~5\\\\u7ea7\", \"wd_day\": \"\\\\u897f\\\\u5317\\\\u98ce\", \"wc_night\": \"3~4\\\\u7ea7\", \"wd_night\": \"\\\\u4e1c\\\\u5357\\\\u98ce\", \"date\": \"2025-02-05\", \"week\": \"\\\\u661f\\\\u671f\\\\u4e09\"}]}, \"message\": \"success\"}'"
      ]
     },
     "execution_count": 16,
     "metadata": {},
     "output_type": "execute_result"
    }
   ],
   "source": [
    "# test tool\n",
    "data = get_weather(cityName=\"南京\")\n",
    "data"
   ]
  },
  {
   "cell_type": "code",
   "execution_count": 17,
   "metadata": {},
   "outputs": [],
   "source": [
    "agent = Agent(\n",
    "    name=\"Master Agent\",\n",
    "    model=checkpoint,\n",
    "    instructions=\"You are a helpful assistant on business travel.\",\n",
    "    functions=[get_weather]\n",
    ")"
   ]
  },
  {
   "cell_type": "code",
   "execution_count": 18,
   "metadata": {},
   "outputs": [],
   "source": [
    "# 模拟场景-1\n",
    "user_prompt = \"帮我查下南京的天气\"\n",
    "\n",
    "messages = [\n",
    "    {\"role\": \"system\", \"content\": system_prompt},\n",
    "    {\"role\": \"user\", \"content\": user_prompt}\n",
    "]"
   ]
  },
  {
   "cell_type": "code",
   "execution_count": 19,
   "metadata": {},
   "outputs": [],
   "source": [
    "response = swarm_client.run(\n",
    "    agent=agent,\n",
    "    messages=messages\n",
    ")"
   ]
  },
  {
   "cell_type": "code",
   "execution_count": 20,
   "metadata": {},
   "outputs": [
    {
     "name": "stdout",
     "output_type": "stream",
     "text": [
      "南京今天的天气是多云，白天的温度为7℃。晚上预计有小雨夹雪，最低气温为4℃左右。明天天气持续阴天转晴冷，最高温度大约在9度。\n",
      "\n",
      "未来几天的具体情况如下：\n",
      "- 2025年2月1日（周五）白天有雨夹雪，夜间小到中雪，最低温4℃；\n",
      "- 2025年2月2日（周六）与一日类似，天气阴沉，最高温度可能达到9度。\n",
      "- 预计在2月3日至4日期间会经历一次冷空气带来的降温过程，会有雨夹雪转雪的天气变化。\n",
      "请根据预报及时调整外出着装和行程安排。\n"
     ]
    }
   ],
   "source": [
    "print(response.messages[-1][\"content\"])"
   ]
  },
  {
   "cell_type": "code",
   "execution_count": 28,
   "metadata": {},
   "outputs": [],
   "source": [
    "# 模拟场景-2\n",
    "departCityName = \"南京\"\n",
    "arriveCityName = \"深圳\"\n",
    "startDate = \"2025-02-02\"\n",
    "endDate = \"2025-02-10\"\n",
    "travelPurpose = \"深圳基地培训\"\n",
    "query = \"我明天要去深圳出差，帮我看下天气是否适合出差\"\n",
    "\n",
    "user_prompt = (\n",
    "    f\"出发城市：{departCityName}\\n\"\n",
    "    f\"到达城市：{arriveCityName}\\n\"\n",
    "    f\"出差时间：{startDate}至{endDate}\\n\"\n",
    "    f\"出差目的：{travelPurpose}\\n\"\n",
    "    f\"需求备注：{query}\"\n",
    ")"
   ]
  },
  {
   "cell_type": "code",
   "execution_count": 29,
   "metadata": {},
   "outputs": [],
   "source": [
    "messages = [\n",
    "    {\"role\": \"system\", \"content\": system_prompt},\n",
    "    {\"role\": \"user\", \"content\": user_prompt}\n",
    "]"
   ]
  },
  {
   "cell_type": "code",
   "execution_count": 30,
   "metadata": {},
   "outputs": [],
   "source": [
    "response = swarm_client.run(\n",
    "    agent=agent,\n",
    "    messages=messages\n",
    ")"
   ]
  },
  {
   "cell_type": "code",
   "execution_count": 31,
   "metadata": {},
   "outputs": [
    {
     "name": "stdout",
     "output_type": "stream",
     "text": [
      "根据天气预报，您计划出差期间（2月2日至2月10日）深圳的天气大部分时间是多云和小雨。其中：\n",
      "\n",
      "- 2月2日：白天为多云，晚上转为小雨；气温较低，最高温度约为22℃，最低温度为14℃。\n",
      "- 2月3日至2月5日：都是以多云为主，并且有一定概率下雨，早晚温差较大，平均在18到11摄氏度之间。\n",
      "\n",
      "看起来大部分时间天气适合出差。但请注意随身携带雨具，保持体温舒适。如果培训行程较为户外或重要，请适当考虑穿着与保暖措施以及防护用品准备。祝您在深圳愉快，并顺利完成任务！\n"
     ]
    }
   ],
   "source": [
    "print(response.messages[-1][\"content\"])"
   ]
  },
  {
   "cell_type": "markdown",
   "metadata": {},
   "source": [
    "## step-5: Multi-Agent"
   ]
  },
  {
   "cell_type": "code",
   "execution_count": 81,
   "metadata": {},
   "outputs": [],
   "source": [
    "def get_weather(cityName):\n",
    "    \"\"\"\n",
    "    cityName: 城市名称\n",
    "    \"\"\"\n",
    "    districtId = cityName2districtId.get(cityName)\n",
    "    url = f\"https://api.map.baidu.com/weather/v1/?district_id={districtId}&data_type=all&ak={baidu_key}\"\n",
    "    response = requests.get(url)\n",
    "    data = response.json()\n",
    "    return json.dumps(data)\n",
    "\n",
    "def get_distance(poiNameA, poiNameB):\n",
    "    return \"查询从A点到B点的距离与路线\"\n",
    "\n",
    "# def transfer_to_get_weather():\n",
    "#     return get_weather\n",
    "\n",
    "# def transfer_to_get_distance():\n",
    "#     return get_distance"
   ]
  },
  {
   "cell_type": "code",
   "execution_count": 82,
   "metadata": {},
   "outputs": [],
   "source": [
    "dialog_agent = Agent(\n",
    "    name=\"基本对话助手（dialog_agent）\",\n",
    "    model=checkpoint,\n",
    "    instructions=(\n",
    "        \"你的任务是与用户进行基本的对话问答，包括：<闲聊>、<查询天气>、<查询距离或路线>。\"\n",
    "        \"当用户的意图是<闲聊>时，不用调用工具，直接以差旅秘书的身份与用户聊天；\"\n",
    "        \"当用户的意图是<查询天气>时，调用<get_weather>工具，并为用户提供有价值的建议；\"\n",
    "        \"当用户的意图是<查询距离或路线>时，调用<get_distance>工具，并为用户提供有价值的建议。\"\n",
    "        \"注意事项：不要与用户分享你的思维过程！不要擅自替用户做出不合理的假设！\"\n",
    "    ),\n",
    "    functions=[get_weather, get_distance]\n",
    ")\n",
    "\n",
    "def transfer_to_dialog_agent():\n",
    "    return dialog_agent"
   ]
  },
  {
   "cell_type": "code",
   "execution_count": 11,
   "metadata": {},
   "outputs": [],
   "source": [
    "def get_enterprise_policy(query):\n",
    "    return \"根据用户query查询企业差旅政策与制度\"\n",
    "\n",
    "def get_hotel_info(hotelName):\n",
    "    return \"根据hotelName查询酒店设施与政策等信息\"\n",
    "\n",
    "def get_faq(query):\n",
    "    return \"根据用户query查询差旅业务FAQ信息\"\n",
    "\n",
    "# def transfer_to_get_enterprise_policy():\n",
    "#     return get_enterprise_policy\n",
    "\n",
    "# def transfer_to_get_hotel_info():\n",
    "#     return get_hotel_info\n",
    "\n",
    "# def transfer_to_get_faq():\n",
    "#     return get_faq"
   ]
  },
  {
   "cell_type": "code",
   "execution_count": 63,
   "metadata": {},
   "outputs": [],
   "source": [
    "knowledge_agent = Agent(\n",
    "    name=\"差旅知识问答助手（knowledge_agent）\",\n",
    "    model=checkpoint,\n",
    "    instructions=(\n",
    "        \"你的任务是为用户提供差旅领域的专业知识问答，包括：<企业差旅政策与制度>、<酒店设施与政策>、<差旅业务FAQ>。\"\n",
    "        \"当用户的意图是询问<企业差旅政策与制度>时，调用<get_enterprise_policy>工具，并为用户提供有价值的建议；\"\n",
    "        \"当用户的意图是询问<酒店设施与政策>时，调用<get_hotel_info>工具，并为用户提供有价值的建议；\"\n",
    "        \"当用户的意图是询问<差旅业务FAQ>时，如住宿问题、机票问题、打车问题等，调用<get_faq>工具，并为用户提供有价值的建议。\"\n",
    "        \"注意事项：不要与用户分享你的思维过程！不要擅自替用户做出不合理的假设！\"\n",
    "    ),\n",
    "    functions=[get_enterprise_policy, get_hotel_info, get_faq]\n",
    ")\n",
    "\n",
    "def transfer_to_knowledge_agent():\n",
    "    return knowledge_agent"
   ]
  },
  {
   "cell_type": "code",
   "execution_count": 13,
   "metadata": {},
   "outputs": [],
   "source": [
    "def get_recommend_hotel(query):\n",
    "    return \"根据用户query推荐酒店\"\n",
    "\n",
    "def get_similar_hotel(query):\n",
    "    return \"根据用户query找相似酒店\"\n",
    "\n",
    "# def transfer_to_get_recommend_hotel():\n",
    "#     return get_recommend_hotel\n",
    "\n",
    "# def transfer_to_get_similar_hotel():\n",
    "#     return get_similar_hotel"
   ]
  },
  {
   "cell_type": "code",
   "execution_count": 62,
   "metadata": {},
   "outputs": [],
   "source": [
    "recommend_agent = Agent(\n",
    "    name=\"酒店推荐助手（recommend_agent）\",\n",
    "    model=checkpoint,\n",
    "    instructions=(\n",
    "        \"你的任务是根据用户的请求为用户推荐合适的酒店，包括：<推荐酒店>、<找相似酒店>。\"\n",
    "        \"当用户的意图是为他<推荐酒店>时，调用<get_recommend_hotel>工具，并为用户总结推荐理由；\"\n",
    "        \"当用户的意图是以酒店<找相似酒店>时，调用<get_similar_hotel>工具，并为用户总结推荐理由。\"\n",
    "        \"注意事项：不要与用户分享你的思维过程！不要擅自替用户做出不合理的假设！\"\n",
    "    ),\n",
    "    functions=[get_recommend_hotel, get_similar_hotel]\n",
    ")\n",
    "\n",
    "def transfer_to_recommend_agent():\n",
    "    return recommend_agent"
   ]
  },
  {
   "cell_type": "code",
   "execution_count": 66,
   "metadata": {},
   "outputs": [],
   "source": [
    "master_agent = Agent(\n",
    "    name=\"意图识别助手\",\n",
    "    model=checkpoint,\n",
    "    instructions=(\n",
    "        \"你的任务是对用户的请求进行意图识别，并将用户的请求转移到正确的意图工具上。\"\n",
    "        \"用户的意图有三种：<基本对话>、<差旅知识问答>、<酒店推荐>。\"\n",
    "        \"<基本对话>包括：<闲聊>、<询问天气>、<查询距离或路线>;\"\n",
    "        \"<差旅知识问答>包括：<企业差旅政策与制度>、<酒店设施与政策>、<差旅业务FAQ>;\"\n",
    "        \"<酒店推荐>包括：<推荐酒店>、<找相似酒店>。\"\n",
    "        \"当你准备好将请求转移到对应的意图时，调用工具进行转移。\"\n",
    "        \"当用户的请求超出意图范围时，直接以差旅秘书的身份与用户聊天。\"\n",
    "        \"注意事项：不要与用户分享你的思维过程！不要擅自替用户做出不合理的假设！\"\n",
    "        ),\n",
    "    functions=[transfer_to_dialog_agent, transfer_to_dialog_agent, transfer_to_recommend_agent]\n",
    ")"
   ]
  },
  {
   "cell_type": "code",
   "execution_count": 49,
   "metadata": {},
   "outputs": [],
   "source": [
    "system_prompt = (\n",
    "    \"你叫小慧助手，是由Lukas开发的差旅智能客服。\"\n",
    "    \"你的身份是一名差旅秘书，\"\n",
    "    \"你的任务是为用户提供基本对话、差旅知识问答、酒店推荐服务。\"\n",
    "    \"当问及你的模型参数时，标准回答是属于公司保密信息，要强调模型设计的高效，能够提供高质量的服务。\"\n",
    "    \"You are a helpful assistant on business travel.\"\n",
    ")"
   ]
  },
  {
   "cell_type": "code",
   "execution_count": 68,
   "metadata": {},
   "outputs": [],
   "source": [
    "departCityName = \"南京\"\n",
    "arriveCityName = \"深圳\"\n",
    "startDate = \"2025-02-02\"\n",
    "endDate = \"2025-02-10\"\n",
    "travelPurpose = \"深圳基地培训\"\n",
    "# query = \"你好\"\n",
    "# query = \"你是什么模型？\"\n",
    "# query = \"南京的天气\"\n",
    "# query = \"帮我查下上海的天气\"\n",
    "query = \"未来天气是否适合出差？\"\n",
    "# query = \"我的住宿标准是多少？\"\n",
    "# query = \"帮我推荐个酒店\"\n",
    "# query = \"吴彦祖是谁？\"\n",
    "# query = \"我今天心情不好\"\n",
    "# query = \"和女朋友吵架了怎么办\"\n",
    "\n",
    "user_prompt = (\n",
    "    f\"用户咨询信息：{query}\\n\"\n",
    "    f\"出差背景信息：\\n\"\n",
    "    f\"出发城市：{departCityName}\\n\"\n",
    "    f\"到达城市：{arriveCityName}\\n\"\n",
    "    f\"停留时间：{startDate}至{endDate}\\n\"\n",
    "    f\"出差目的：{travelPurpose}\\n\"\n",
    "    \n",
    ")"
   ]
  },
  {
   "cell_type": "code",
   "execution_count": 69,
   "metadata": {},
   "outputs": [],
   "source": [
    "messages = [\n",
    "    {\"role\": \"system\", \"content\": system_prompt},\n",
    "    {\"role\": \"user\", \"content\": user_prompt}\n",
    "]"
   ]
  },
  {
   "cell_type": "code",
   "execution_count": 87,
   "metadata": {},
   "outputs": [],
   "source": [
    "response = swarm_client.run(\n",
    "    agent=master_agent,\n",
    "    messages=messages\n",
    ")"
   ]
  },
  {
   "cell_type": "code",
   "execution_count": 88,
   "metadata": {},
   "outputs": [
    {
     "name": "stdout",
     "output_type": "stream",
     "text": [
      "今天深圳的天气是多云，白天最高温度为24℃，晚上最低气温降至16℃。未来几天都会保持这样的舒适天气，都是多云到少云，并且风力较小，请适时调整自己的着装哦！如果有计划出行的话，记得带上太阳镜以防紫外线。\n"
     ]
    }
   ],
   "source": [
    "print(response.messages[-1][\"content\"])"
   ]
  }
 ],
 "metadata": {
  "kernelspec": {
   "display_name": "base",
   "language": "python",
   "name": "python3"
  },
  "language_info": {
   "codemirror_mode": {
    "name": "ipython",
    "version": 3
   },
   "file_extension": ".py",
   "mimetype": "text/x-python",
   "name": "python",
   "nbconvert_exporter": "python",
   "pygments_lexer": "ipython3",
   "version": "3.11.5"
  }
 },
 "nbformat": 4,
 "nbformat_minor": 2
}
