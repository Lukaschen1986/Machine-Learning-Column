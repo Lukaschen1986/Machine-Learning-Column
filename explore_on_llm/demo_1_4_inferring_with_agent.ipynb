{
 "cells": [
  {
   "cell_type": "markdown",
   "metadata": {},
   "source": [
    "https://github.com/openai/swarm  "
   ]
  },
  {
   "cell_type": "code",
   "execution_count": 1,
   "metadata": {},
   "outputs": [],
   "source": [
    "import os\n",
    "import sys\n",
    "import warnings; warnings.filterwarnings(\"ignore\")\n",
    "import json\n",
    "import requests\n",
    "import torch as th\n",
    "\n",
    "from pprint import pp\n",
    "from dotenv import load_dotenv\n",
    "from openai import OpenAI\n",
    "from swarm import (Swarm, Agent)\n",
    "from IPython.display import (Markdown, display)"
   ]
  },
  {
   "cell_type": "code",
   "execution_count": 2,
   "metadata": {},
   "outputs": [
    {
     "name": "stdout",
     "output_type": "stream",
     "text": [
      "device = cuda; devive_cnt = 1\n",
      "torch = 2.5.1+cu121\n",
      "cuda = 12.1\n"
     ]
    }
   ],
   "source": [
    "if sys.platform == \"darwin\":\n",
    "    device = th.device(\"mps\")\n",
    "else:\n",
    "    device = th.device(\"cuda\" if th.cuda.is_available() else \"cpu\")\n",
    "    \n",
    "devive_cnt = th.cuda.device_count()\n",
    "print(f\"device = {device}; devive_cnt = {devive_cnt}\")\n",
    "print(f\"torch = {th.__version__}\")\n",
    "print(f\"cuda = {th.version.cuda}\")"
   ]
  },
  {
   "cell_type": "code",
   "execution_count": 3,
   "metadata": {},
   "outputs": [],
   "source": [
    "path_project = \"C:/my_project/MyGit/Machine-Learning-Column/hugging_face\"\n",
    "path_data = os.path.join(os.path.dirname(path_project), \"data\")\n",
    "path_output = os.path.join(os.path.dirname(path_project), \"output\")\n",
    "\n",
    "if sys.platform == \"darwin\":\n",
    "    path_model = \"/Users/lukasi33/project/LLM\"\n",
    "else:\n",
    "    path_model = \"F:/LLM\""
   ]
  },
  {
   "cell_type": "markdown",
   "metadata": {},
   "source": [
    "## step-1: 载入 API KEY"
   ]
  },
  {
   "cell_type": "code",
   "execution_count": 4,
   "metadata": {},
   "outputs": [],
   "source": [
    "load_dotenv(dotenv_path=\"explore.env\")\n",
    "deepseek_key = os.getenv(\"DEEPSEEK_KEY\")\n",
    "baidu_key = os.getenv(\"BAIDU_KEY\")"
   ]
  },
  {
   "cell_type": "markdown",
   "metadata": {},
   "source": [
    "## step-2: 实例化客户端"
   ]
  },
  {
   "cell_type": "code",
   "execution_count": 5,
   "metadata": {},
   "outputs": [],
   "source": [
    "# 调用模型 API\n",
    "# client = OpenAI(\n",
    "#     api_key=deepseek_key,\n",
    "#     base_url=\"https://api.deepseek.com/\"\n",
    "#     )"
   ]
  },
  {
   "cell_type": "code",
   "execution_count": 5,
   "metadata": {},
   "outputs": [],
   "source": [
    "# 本地 Ollama\n",
    "client = OpenAI(\n",
    "    base_url=\"http://127.0.0.1:11434/v1\",\n",
    "    api_key=\"EMPTY\",\n",
    "    timeout=60\n",
    "    )"
   ]
  },
  {
   "cell_type": "code",
   "execution_count": 6,
   "metadata": {},
   "outputs": [],
   "source": [
    "swarm_client = Swarm(client)"
   ]
  },
  {
   "cell_type": "markdown",
   "metadata": {},
   "source": [
    "## step-3: Agent 推理"
   ]
  },
  {
   "cell_type": "code",
   "execution_count": 7,
   "metadata": {},
   "outputs": [],
   "source": [
    "# checkpoint = \"deepseek-chat\"  # v3\n",
    "# checkpoint = \"deepseek-reasoner\"  # r1\n",
    "# checkpoint = \"deepseek-r1:14b\"\n",
    "# checkpoint = \"qwen2.5:7b\"\n",
    "checkpoint = \"qwen2.5:14b\""
   ]
  },
  {
   "cell_type": "code",
   "execution_count": 8,
   "metadata": {},
   "outputs": [],
   "source": [
    "agent = Agent(\n",
    "    name=\"Agent\",\n",
    "    model=checkpoint,\n",
    "    instructions=\"You are a helpful assistant on business travel.\"\n",
    ")"
   ]
  },
  {
   "cell_type": "code",
   "execution_count": 9,
   "metadata": {},
   "outputs": [],
   "source": [
    "system_prompt = (\n",
    "    \"你叫小慧助手，是由Lukas开发的差旅智能客服。\"\n",
    "    \"你的身份是一名差旅秘书，\"\n",
    "    \"你的任务是为用户提供基础对话、差旅知识问答、酒店推荐服务。\"\n",
    "    \"当问及你的模型参数时，标准回答是属于公司保密信息，要强调模型设计的高效，能够提供高质量的服务。\"\n",
    "    \"You are a helpful assistant on business travel.\"\n",
    ")"
   ]
  },
  {
   "cell_type": "code",
   "execution_count": 10,
   "metadata": {},
   "outputs": [],
   "source": [
    "user_prompt = \"你好呀~\""
   ]
  },
  {
   "cell_type": "code",
   "execution_count": 11,
   "metadata": {},
   "outputs": [],
   "source": [
    "messages = [\n",
    "    {\"role\": \"system\", \"content\": system_prompt},\n",
    "    {\"role\": \"user\", \"content\": user_prompt}\n",
    "]"
   ]
  },
  {
   "cell_type": "code",
   "execution_count": 12,
   "metadata": {},
   "outputs": [],
   "source": [
    "response = swarm_client.run(\n",
    "    agent=agent,\n",
    "    messages=messages\n",
    ")"
   ]
  },
  {
   "cell_type": "code",
   "execution_count": 13,
   "metadata": {},
   "outputs": [
    {
     "name": "stdout",
     "output_type": "stream",
     "text": [
      "您好！有什么可以帮助您的吗？无论是关于旅行规划、酒店预订还是其他差旅相关的问题，都可以随时问我哦。\n"
     ]
    }
   ],
   "source": [
    "print(response.messages[-1][\"content\"])"
   ]
  },
  {
   "cell_type": "markdown",
   "metadata": {},
   "source": [
    "## step-4: 工具调用"
   ]
  },
  {
   "cell_type": "code",
   "execution_count": 8,
   "metadata": {},
   "outputs": [],
   "source": [
    "cityName2districtId = {\n",
    "    \"北京\": \"110100\",\n",
    "    \"上海\": \"310100\",\n",
    "    \"广州\": \"440100\",\n",
    "    \"深圳\": \"440300\",\n",
    "    \"南京\": \"320100\",\n",
    "    \"杭州\": \"330100\"\n",
    "}"
   ]
  },
  {
   "cell_type": "code",
   "execution_count": 15,
   "metadata": {},
   "outputs": [],
   "source": [
    "def get_weather(cityName):\n",
    "    districtId = cityName2districtId.get(cityName)\n",
    "    url = f\"https://api.map.baidu.com/weather/v1/?district_id={districtId}&data_type=all&ak={baidu_key}\"\n",
    "    response = requests.get(url)\n",
    "    data = response.json()\n",
    "    return json.dumps(data)"
   ]
  },
  {
   "cell_type": "code",
   "execution_count": 16,
   "metadata": {},
   "outputs": [
    {
     "data": {
      "text/plain": [
       "'{\"status\": 0, \"result\": {\"location\": {\"country\": \"\\\\u4e2d\\\\u56fd\", \"province\": \"\\\\u6c5f\\\\u82cf\\\\u7701\", \"city\": \"\\\\u5357\\\\u4eac\\\\u5e02\", \"name\": \"\\\\u5357\\\\u4eac\", \"id\": \"320100\"}, \"now\": {\"text\": \"\\\\u591a\\\\u4e91\", \"temp\": 7, \"feels_like\": 6, \"rh\": 80, \"wind_class\": \"2\\\\u7ea7\", \"wind_dir\": \"\\\\u4e1c\\\\u5317\\\\u98ce\", \"uptime\": \"20250201190000\"}, \"forecasts\": [{\"text_day\": \"\\\\u9634\", \"text_night\": \"\\\\u5c0f\\\\u96e8\", \"high\": 9, \"low\": 4, \"wc_day\": \"3~4\\\\u7ea7\", \"wd_day\": \"\\\\u5317\\\\u98ce\", \"wc_night\": \"3~4\\\\u7ea7\", \"wd_night\": \"\\\\u4e1c\\\\u5317\\\\u98ce\", \"date\": \"2025-02-01\", \"week\": \"\\\\u661f\\\\u671f\\\\u516d\"}, {\"text_day\": \"\\\\u9634\", \"text_night\": \"\\\\u591a\\\\u4e91\", \"high\": 9, \"low\": 3, \"wc_day\": \"<3\\\\u7ea7\", \"wd_day\": \"\\\\u5317\\\\u98ce\", \"wc_night\": \"<3\\\\u7ea7\", \"wd_night\": \"\\\\u5317\\\\u98ce\", \"date\": \"2025-02-02\", \"week\": \"\\\\u661f\\\\u671f\\\\u65e5\"}, {\"text_day\": \"\\\\u591a\\\\u4e91\", \"text_night\": \"\\\\u6674\", \"high\": 8, \"low\": -1, \"wc_day\": \"3~4\\\\u7ea7\", \"wd_day\": \"\\\\u5317\\\\u98ce\", \"wc_night\": \"<3\\\\u7ea7\", \"wd_night\": \"\\\\u4e1c\\\\u98ce\", \"date\": \"2025-02-03\", \"week\": \"\\\\u661f\\\\u671f\\\\u4e00\"}, {\"text_day\": \"\\\\u6674\", \"text_night\": \"\\\\u6674\", \"high\": 9, \"low\": -2, \"wc_day\": \"3~4\\\\u7ea7\", \"wd_day\": \"\\\\u897f\\\\u98ce\", \"wc_night\": \"<3\\\\u7ea7\", \"wd_night\": \"\\\\u897f\\\\u5357\\\\u98ce\", \"date\": \"2025-02-04\", \"week\": \"\\\\u661f\\\\u671f\\\\u4e8c\"}, {\"text_day\": \"\\\\u591a\\\\u4e91\", \"text_night\": \"\\\\u591a\\\\u4e91\", \"high\": 11, \"low\": -1, \"wc_day\": \"4~5\\\\u7ea7\", \"wd_day\": \"\\\\u897f\\\\u5317\\\\u98ce\", \"wc_night\": \"3~4\\\\u7ea7\", \"wd_night\": \"\\\\u4e1c\\\\u5357\\\\u98ce\", \"date\": \"2025-02-05\", \"week\": \"\\\\u661f\\\\u671f\\\\u4e09\"}]}, \"message\": \"success\"}'"
      ]
     },
     "execution_count": 16,
     "metadata": {},
     "output_type": "execute_result"
    }
   ],
   "source": [
    "# test tool\n",
    "data = get_weather(cityName=\"南京\")\n",
    "data"
   ]
  },
  {
   "cell_type": "code",
   "execution_count": 17,
   "metadata": {},
   "outputs": [],
   "source": [
    "agent = Agent(\n",
    "    name=\"Master Agent\",\n",
    "    model=checkpoint,\n",
    "    instructions=\"You are a helpful assistant on business travel.\",\n",
    "    functions=[get_weather]\n",
    ")"
   ]
  },
  {
   "cell_type": "code",
   "execution_count": 18,
   "metadata": {},
   "outputs": [],
   "source": [
    "# 模拟场景-1\n",
    "user_prompt = \"帮我查下南京的天气\"\n",
    "\n",
    "messages = [\n",
    "    {\"role\": \"system\", \"content\": system_prompt},\n",
    "    {\"role\": \"user\", \"content\": user_prompt}\n",
    "]"
   ]
  },
  {
   "cell_type": "code",
   "execution_count": 19,
   "metadata": {},
   "outputs": [],
   "source": [
    "response = swarm_client.run(\n",
    "    agent=agent,\n",
    "    messages=messages\n",
    ")"
   ]
  },
  {
   "cell_type": "code",
   "execution_count": 20,
   "metadata": {},
   "outputs": [
    {
     "name": "stdout",
     "output_type": "stream",
     "text": [
      "南京今天的天气是多云，白天的温度为7℃。晚上预计有小雨夹雪，最低气温为4℃左右。明天天气持续阴天转晴冷，最高温度大约在9度。\n",
      "\n",
      "未来几天的具体情况如下：\n",
      "- 2025年2月1日（周五）白天有雨夹雪，夜间小到中雪，最低温4℃；\n",
      "- 2025年2月2日（周六）与一日类似，天气阴沉，最高温度可能达到9度。\n",
      "- 预计在2月3日至4日期间会经历一次冷空气带来的降温过程，会有雨夹雪转雪的天气变化。\n",
      "请根据预报及时调整外出着装和行程安排。\n"
     ]
    }
   ],
   "source": [
    "print(response.messages[-1][\"content\"])"
   ]
  },
  {
   "cell_type": "code",
   "execution_count": 28,
   "metadata": {},
   "outputs": [],
   "source": [
    "# 模拟场景-2\n",
    "departCityName = \"南京\"\n",
    "arriveCityName = \"深圳\"\n",
    "startDate = \"2025-02-02\"\n",
    "endDate = \"2025-02-10\"\n",
    "travelPurpose = \"深圳基地培训\"\n",
    "query = \"我明天要去深圳出差，帮我看下天气是否适合出差\"\n",
    "\n",
    "user_prompt = (\n",
    "    f\"出发城市：{departCityName}\\n\"\n",
    "    f\"到达城市：{arriveCityName}\\n\"\n",
    "    f\"出差时间：{startDate}至{endDate}\\n\"\n",
    "    f\"出差目的：{travelPurpose}\\n\"\n",
    "    f\"需求备注：{query}\"\n",
    ")"
   ]
  },
  {
   "cell_type": "code",
   "execution_count": 29,
   "metadata": {},
   "outputs": [],
   "source": [
    "messages = [\n",
    "    {\"role\": \"system\", \"content\": system_prompt},\n",
    "    {\"role\": \"user\", \"content\": user_prompt}\n",
    "]"
   ]
  },
  {
   "cell_type": "code",
   "execution_count": 30,
   "metadata": {},
   "outputs": [],
   "source": [
    "response = swarm_client.run(\n",
    "    agent=agent,\n",
    "    messages=messages\n",
    ")"
   ]
  },
  {
   "cell_type": "code",
   "execution_count": 31,
   "metadata": {},
   "outputs": [
    {
     "name": "stdout",
     "output_type": "stream",
     "text": [
      "根据天气预报，您计划出差期间（2月2日至2月10日）深圳的天气大部分时间是多云和小雨。其中：\n",
      "\n",
      "- 2月2日：白天为多云，晚上转为小雨；气温较低，最高温度约为22℃，最低温度为14℃。\n",
      "- 2月3日至2月5日：都是以多云为主，并且有一定概率下雨，早晚温差较大，平均在18到11摄氏度之间。\n",
      "\n",
      "看起来大部分时间天气适合出差。但请注意随身携带雨具，保持体温舒适。如果培训行程较为户外或重要，请适当考虑穿着与保暖措施以及防护用品准备。祝您在深圳愉快，并顺利完成任务！\n"
     ]
    }
   ],
   "source": [
    "print(response.messages[-1][\"content\"])"
   ]
  },
  {
   "cell_type": "markdown",
   "metadata": {},
   "source": [
    "## step-5: Multi-Agent"
   ]
  },
  {
   "cell_type": "code",
   "execution_count": 8,
   "metadata": {},
   "outputs": [],
   "source": [
    "# dialog_agent\n",
    "dialog_agent = Agent(\n",
    "    name=\"日常对话智能体（dialog_agent）\",\n",
    "    model=checkpoint,\n",
    "    instructions=(\n",
    "        \"你的任务是与用户进行基本的日常对话。\"\n",
    "        \"不要与用户分享你的思维过程！不要擅自替用户做出不合理的假设！\"\n",
    "    )\n",
    ")\n",
    "\n",
    "def transfer_to_dialog_agent():\n",
    "    return dialog_agent"
   ]
  },
  {
   "cell_type": "code",
   "execution_count": 44,
   "metadata": {},
   "outputs": [],
   "source": [
    "# weather_agent\n",
    "city2districtId = {\n",
    "    \"北京\": \"110100\",\n",
    "    \"上海\": \"310100\",\n",
    "    \"广州\": \"440100\",\n",
    "    \"深圳\": \"440300\",\n",
    "    \"南京\": \"320100\",\n",
    "    \"杭州\": \"330100\"\n",
    "}\n",
    "\n",
    "def get_weather(city):\n",
    "    \"\"\"\n",
    "    city: 城市名称，如 北京、南京\n",
    "    \"\"\"\n",
    "    districtId = city2districtId.get(city)\n",
    "    url = f\"https://api.map.baidu.com/weather/v1/?district_id={districtId}&data_type=all&ak={baidu_key}\"\n",
    "    response = requests.get(url)\n",
    "    data = response.json()\n",
    "    return json.dumps(data)\n",
    "\n",
    "weather_agent = Agent(\n",
    "    name=\"查询天气智能体（weather_agent）\",\n",
    "    model=checkpoint,\n",
    "    instructions=(\n",
    "        \"你的任务是调用工具帮用户查询指定城市的天气信息。\"\n",
    "        \"不要与用户分享你的思维过程！不要擅自替用户做出不合理的假设！\"\n",
    "    ),\n",
    "    functions=[get_weather]\n",
    ")\n",
    "\n",
    "def transfer_to_weather_agent():\n",
    "    return weather_agent"
   ]
  },
  {
   "cell_type": "code",
   "execution_count": 12,
   "metadata": {},
   "outputs": [],
   "source": [
    "# distance_agent\n",
    "def get_distance(poiNameA, poiNameB):\n",
    "    \"\"\"\n",
    "    poiNameA: 地标名称A\n",
    "    poiNameB: 地标名称B\n",
    "    \"\"\"\n",
    "    return \"查询从A点到B点的距离与路线\"\n",
    "\n",
    "distance_agent = Agent(\n",
    "    name=\"查询出行距离或路线智能体（distance_agent）\",\n",
    "    model=checkpoint,\n",
    "    instructions=(\n",
    "        \"你的任务是调用工具帮用户查询两个地标之间的距离或路线。\"\n",
    "        \"不要与用户分享你的思维过程！不要擅自替用户做出不合理的假设！\"\n",
    "    ),\n",
    "    functions=[get_distance]\n",
    ")\n",
    "\n",
    "def transfer_to_distance_agent():\n",
    "    return distance_agent"
   ]
  },
  {
   "cell_type": "code",
   "execution_count": 13,
   "metadata": {},
   "outputs": [],
   "source": [
    "# knowledge_agent\n",
    "def get_rag(query):\n",
    "    \"\"\"\n",
    "    query: 用户的诉求\n",
    "    \"\"\"\n",
    "    return \"查询知识库回答问题\"\n",
    "    \n",
    "knowledge_agent = Agent(\n",
    "    name=\"差旅知识问答智能体（knowledge_agent）\",\n",
    "    model=checkpoint,\n",
    "    instructions=(\n",
    "        \"你的任务是调用工具帮用户回答差旅业务知识。\"\n",
    "        \"不要与用户分享你的思维过程！不要擅自替用户做出不合理的假设！\"\n",
    "    ),\n",
    "    functions=[get_rag]\n",
    ")\n",
    "\n",
    "def transfer_to_knowledge_agent():\n",
    "    return knowledge_agent"
   ]
  },
  {
   "cell_type": "code",
   "execution_count": 14,
   "metadata": {},
   "outputs": [],
   "source": [
    "# recommend_agent\n",
    "def get_hotel(query):\n",
    "    \"\"\"\n",
    "    query: 用户的诉求\n",
    "    \"\"\"\n",
    "    return \"帮用户推荐合适的酒店\"\n",
    "\n",
    "recommend_agent = Agent(\n",
    "    name=\"酒店推荐智能体（recommend_agent）\",\n",
    "    model=checkpoint,\n",
    "    instructions=(\n",
    "        \"你的任务是调用工具帮用户推荐合适的酒店，并给出推荐的理由。\"\n",
    "        \"不要与用户分享你的思维过程！不要擅自替用户做出不合理的假设！\"\n",
    "    ),\n",
    "    functions=[get_hotel]\n",
    ")\n",
    "\n",
    "def transfer_to_recommend_agent():\n",
    "    return recommend_agent"
   ]
  },
  {
   "cell_type": "code",
   "execution_count": 45,
   "metadata": {},
   "outputs": [],
   "source": [
    "# triage_agent\n",
    "intent_context = \"日常对话、查询天气信息、查询出行距离或路线信息、差旅知识问答、酒店推荐\"\n",
    "\n",
    "departCityName = \"南京\"\n",
    "arriveCityName = \"深圳\"\n",
    "startDate = \"2025-02-03\"\n",
    "endDate = \"2025-02-10\"\n",
    "travelPurpose = \"深圳基地培训\"\n",
    "customer_context = (\n",
    "    f\"出发城市：{departCityName}，\"\n",
    "    f\"到达城市：{arriveCityName}，\"\n",
    "    f\"出差时间：{startDate}至{endDate}，\"\n",
    "    f\"出差目的：{travelPurpose}\"\n",
    ")\n",
    "\n",
    "context_variables = {\n",
    "    \"intent_context\": intent_context,\n",
    "    \"customer_context\": customer_context\n",
    "}\n",
    "\n",
    "def triage_instructions(context_variables):\n",
    "    intent_context = context_variables.get(\"intent_context\", None)\n",
    "    customer_context = context_variables.get(\"customer_context\", None)\n",
    "    instructions = (\n",
    "        \"任务：\\n\"\n",
    "        \"你的任务是对用户的请求进行分诊，并调用工具将请求转移到正确的意图。\"\n",
    "        \"一旦你准备好将请求转移到正确的意图时，调用工具进行转移。\"\n",
    "        f\"你不需要知道具体的细节，只需了解请求的主题，主题是：{intent_context}。\"\n",
    "        \"当你需要更多信息以分诊请求至合适的智能体时，直接提出问题，而不需要解释你提问的原因。\\n\"\n",
    "        \"注意事项：\\n\"\n",
    "        \"1、不要与用户分享你的思维过程\\n\"\n",
    "        \"2、不要擅自替用户做出不合理的假设\\n\"\n",
    "        \"用户的背景信息：\\n\"\n",
    "        f\"{customer_context}。\"\n",
    "    )\n",
    "    return instructions\n",
    "\n",
    "triage_agent = Agent(\n",
    "    name=\"分诊智能体\",\n",
    "    model=checkpoint,\n",
    "    instructions=triage_instructions,\n",
    "    functions=[transfer_to_dialog_agent, transfer_to_weather_agent, transfer_to_distance_agent, transfer_to_knowledge_agent, transfer_to_recommend_agent]\n",
    ")"
   ]
  },
  {
   "cell_type": "code",
   "execution_count": 46,
   "metadata": {},
   "outputs": [],
   "source": [
    "system_prompt = (\n",
    "    \"你叫小慧助手，是由Lukas开发的差旅智能客服。\"\n",
    "    \"你的身份是一名差旅秘书，\"\n",
    "    \"你的任务是为用户提供日常对话、查询天气、查询距离、差旅知识问答、酒店推荐等服务。\"\n",
    "    \"当问及你的模型参数时，标准回答是属于公司保密信息，要强调模型设计的高效，能够提供高质量的服务。\"\n",
    "    \"You are a helpful assistant on business travel.\"\n",
    ")"
   ]
  },
  {
   "cell_type": "code",
   "execution_count": 77,
   "metadata": {},
   "outputs": [],
   "source": [
    "# user_prompt = \"你好\"\n",
    "# user_prompt = \"你是什么模型？\"\n",
    "# user_prompt = \"南京的天气\"\n",
    "# user_prompt = \"帮我查下上海的天气\"\n",
    "# user_prompt = \"未来天气是否适合出差？\"\n",
    "# user_prompt = \"深圳的天气\"\n",
    "# user_prompt = \"明天\"\n",
    "# user_prompt = \"深圳的天气\"\n",
    "# user_prompt = \"我的住宿标准是多少？\"\n",
    "# user_prompt = \"帮我推荐个酒店\"\n",
    "# user_prompt = \"吴彦祖是谁？\"\n",
    "# user_prompt = \"我今天心情不好\"\n",
    "user_prompt = \"和女朋友吵架了怎么办\""
   ]
  },
  {
   "cell_type": "code",
   "execution_count": 78,
   "metadata": {},
   "outputs": [],
   "source": [
    "messages = [\n",
    "    {\"role\": \"system\", \"content\": system_prompt},\n",
    "    {\"role\": \"user\", \"content\": user_prompt}\n",
    "]"
   ]
  },
  {
   "cell_type": "code",
   "execution_count": 79,
   "metadata": {},
   "outputs": [],
   "source": [
    "response = swarm_client.run(\n",
    "    agent=triage_agent,\n",
    "    messages=messages,\n",
    "    context_variables=context_variables,\n",
    "    stream=False\n",
    ")"
   ]
  },
  {
   "cell_type": "code",
   "execution_count": 80,
   "metadata": {},
   "outputs": [
    {
     "name": "stdout",
     "output_type": "stream",
     "text": [
      "这个问题虽然超出了我的专业领域，但我可以给你一些建议。遇到这种情况时，首先应该尝试冷静下来，然后找一个合适的时机和平静的心态与她沟通你的感受和观点。试着倾听她的想法，并理解事情背后的原因。寻求共同解决问题的方法而非争论对错可能是帮助你们关系改善的开始。如果需要进一步的情感咨询或者专业的建议，我建议你寻找相关方面的专家进行详细的咨询。\n",
      "\n",
      "如果你有差旅相关的疑问或需要任何服务，请随时告诉我！\n"
     ]
    }
   ],
   "source": [
    "print(response.messages[-1][\"content\"])"
   ]
  }
 ],
 "metadata": {
  "kernelspec": {
   "display_name": "base",
   "language": "python",
   "name": "python3"
  },
  "language_info": {
   "codemirror_mode": {
    "name": "ipython",
    "version": 3
   },
   "file_extension": ".py",
   "mimetype": "text/x-python",
   "name": "python",
   "nbconvert_exporter": "python",
   "pygments_lexer": "ipython3",
   "version": "3.11.5"
  }
 },
 "nbformat": 4,
 "nbformat_minor": 2
}
