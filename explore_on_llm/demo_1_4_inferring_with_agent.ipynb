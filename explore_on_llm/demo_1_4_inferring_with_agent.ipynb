{
 "cells": [
  {
   "cell_type": "markdown",
   "metadata": {},
   "source": [
    "https://github.com/openai/swarm  "
   ]
  },
  {
   "cell_type": "code",
   "execution_count": 1,
   "metadata": {},
   "outputs": [],
   "source": [
    "import os\n",
    "import sys\n",
    "import warnings; warnings.filterwarnings(\"ignore\")\n",
    "import json\n",
    "import requests\n",
    "import torch as th\n",
    "\n",
    "from pprint import pp\n",
    "from dotenv import load_dotenv\n",
    "from openai import OpenAI\n",
    "from swarm import (Swarm, Agent)\n",
    "from IPython.display import (Markdown, display)"
   ]
  },
  {
   "cell_type": "code",
   "execution_count": 2,
   "metadata": {},
   "outputs": [
    {
     "name": "stdout",
     "output_type": "stream",
     "text": [
      "device = cuda; devive_cnt = 1\n",
      "torch = 2.5.1+cu121\n",
      "cuda = 12.1\n"
     ]
    }
   ],
   "source": [
    "if sys.platform == \"darwin\":\n",
    "    device = th.device(\"mps\")\n",
    "else:\n",
    "    device = th.device(\"cuda\" if th.cuda.is_available() else \"cpu\")\n",
    "    \n",
    "devive_cnt = th.cuda.device_count()\n",
    "print(f\"device = {device}; devive_cnt = {devive_cnt}\")\n",
    "print(f\"torch = {th.__version__}\")\n",
    "print(f\"cuda = {th.version.cuda}\")"
   ]
  },
  {
   "cell_type": "code",
   "execution_count": 3,
   "metadata": {},
   "outputs": [],
   "source": [
    "path_project = \"C:/my_project/MyGit/Machine-Learning-Column/hugging_face\"\n",
    "path_data = os.path.join(os.path.dirname(path_project), \"data\")\n",
    "path_output = os.path.join(os.path.dirname(path_project), \"output\")\n",
    "\n",
    "if sys.platform == \"darwin\":\n",
    "    path_model = \"/Users/lukasi33/project/LLM\"\n",
    "else:\n",
    "    path_model = \"F:/LLM\""
   ]
  },
  {
   "cell_type": "markdown",
   "metadata": {},
   "source": [
    "## step-1: 载入 API KEY"
   ]
  },
  {
   "cell_type": "code",
   "execution_count": 4,
   "metadata": {},
   "outputs": [],
   "source": [
    "load_dotenv(dotenv_path=\"explore.env\")\n",
    "deepseek_key = os.getenv(\"DEEPSEEK_KEY\")\n",
    "baidu_key = os.getenv(\"BAIDU_KEY\")"
   ]
  },
  {
   "cell_type": "markdown",
   "metadata": {},
   "source": [
    "## step-2: 实例化客户端"
   ]
  },
  {
   "cell_type": "code",
   "execution_count": 32,
   "metadata": {},
   "outputs": [],
   "source": [
    "# 调用模型 API\n",
    "# client = OpenAI(\n",
    "#     api_key=deepseek_key,\n",
    "#     base_url=\"https://api.deepseek.com/\"\n",
    "#     )"
   ]
  },
  {
   "cell_type": "code",
   "execution_count": 5,
   "metadata": {},
   "outputs": [],
   "source": [
    "# 本地 Ollama\n",
    "client = OpenAI(\n",
    "    base_url=\"http://127.0.0.1:11434/v1\",\n",
    "    api_key=\"EMPTY\",\n",
    "    timeout=60\n",
    "    )"
   ]
  },
  {
   "cell_type": "code",
   "execution_count": 6,
   "metadata": {},
   "outputs": [],
   "source": [
    "swarm_client = Swarm(client)"
   ]
  },
  {
   "cell_type": "markdown",
   "metadata": {},
   "source": [
    "## step-3: Agent 推理"
   ]
  },
  {
   "cell_type": "code",
   "execution_count": 7,
   "metadata": {},
   "outputs": [],
   "source": [
    "# checkpoint = \"deepseek-chat\"  # v3\n",
    "# checkpoint = \"deepseek-reasoner\"  # r1\n",
    "checkpoint = \"qwen2.5:7b\""
   ]
  },
  {
   "cell_type": "code",
   "execution_count": 14,
   "metadata": {},
   "outputs": [],
   "source": [
    "agent = Agent(\n",
    "    name=\"Master Agent\",\n",
    "    model=checkpoint,\n",
    "    instructions=\"You are a helpful assistant on business travel.\"\n",
    ")"
   ]
  },
  {
   "cell_type": "code",
   "execution_count": 15,
   "metadata": {},
   "outputs": [],
   "source": [
    "system_prompt = (\n",
    "    \"你叫小慧助手，是由Lukas开发的差旅智能客服。\"\n",
    "    \"你的身份是一名差旅秘书，\"\n",
    "    \"你的任务是为用户提供基础对话、差旅知识问答、酒店推荐服务。\"\n",
    "    \"当问及你的模型参数时，标准回答是属于公司保密信息，要强调模型设计的高效，能够提供高质量的服务。\"\n",
    "    \"You are a helpful assistant on business travel.\"\n",
    ")"
   ]
  },
  {
   "cell_type": "code",
   "execution_count": 16,
   "metadata": {},
   "outputs": [],
   "source": [
    "user_prompt = \"你好呀~\""
   ]
  },
  {
   "cell_type": "code",
   "execution_count": 17,
   "metadata": {},
   "outputs": [],
   "source": [
    "messages = [\n",
    "    {\"role\": \"system\", \"content\": system_prompt},\n",
    "    {\"role\": \"user\", \"content\": user_prompt}\n",
    "]"
   ]
  },
  {
   "cell_type": "code",
   "execution_count": 18,
   "metadata": {},
   "outputs": [],
   "source": [
    "response = swarm_client.run(\n",
    "    agent=agent,\n",
    "    messages=messages\n",
    ")"
   ]
  },
  {
   "cell_type": "code",
   "execution_count": 19,
   "metadata": {},
   "outputs": [
    {
     "name": "stdout",
     "output_type": "stream",
     "text": [
      "您好！很高兴为您服务。请问在差旅方面有什么可以帮助您的吗？无论是预订酒店、了解差旅知识还是解决问题，我都将尽力为您提供帮助。\n"
     ]
    }
   ],
   "source": [
    "print(response.messages[-1][\"content\"])"
   ]
  },
  {
   "cell_type": "markdown",
   "metadata": {},
   "source": [
    "## step-4: 工具调用"
   ]
  },
  {
   "cell_type": "code",
   "execution_count": 20,
   "metadata": {},
   "outputs": [],
   "source": [
    "cityName2districtId = {\n",
    "    \"南京\": \"320100\",\n",
    "    \"深圳\": \"440300\"\n",
    "}"
   ]
  },
  {
   "cell_type": "code",
   "execution_count": 21,
   "metadata": {},
   "outputs": [],
   "source": [
    "def get_weather(cityName):\n",
    "    districtId = cityName2districtId.get(cityName)\n",
    "    url = f\"https://api.map.baidu.com/weather/v1/?district_id={districtId}&data_type=all&ak={baidu_key}\"\n",
    "    response = requests.get(url)\n",
    "    data = response.json()\n",
    "    return json.dumps(data)"
   ]
  },
  {
   "cell_type": "code",
   "execution_count": 22,
   "metadata": {},
   "outputs": [
    {
     "data": {
      "text/plain": [
       "'{\"status\": 0, \"result\": {\"location\": {\"country\": \"\\\\u4e2d\\\\u56fd\", \"province\": \"\\\\u6c5f\\\\u82cf\\\\u7701\", \"city\": \"\\\\u5357\\\\u4eac\\\\u5e02\", \"name\": \"\\\\u5357\\\\u4eac\", \"id\": \"320100\"}, \"now\": {\"text\": \"\\\\u6674\", \"temp\": 9, \"feels_like\": 8, \"rh\": 43, \"wind_class\": \"2\\\\u7ea7\", \"wind_dir\": \"\\\\u4e1c\\\\u98ce\", \"uptime\": \"20250130203500\"}, \"forecasts\": [{\"text_day\": \"\\\\u591a\\\\u4e91\", \"text_night\": \"\\\\u9634\", \"high\": 15, \"low\": 6, \"wc_day\": \"3~4\\\\u7ea7\", \"wd_day\": \"\\\\u4e1c\\\\u5357\\\\u98ce\", \"wc_night\": \"3~4\\\\u7ea7\", \"wd_night\": \"\\\\u4e1c\\\\u98ce\", \"date\": \"2025-01-30\", \"week\": \"\\\\u661f\\\\u671f\\\\u56db\"}, {\"text_day\": \"\\\\u4e2d\\\\u96e8\", \"text_night\": \"\\\\u4e2d\\\\u96e8\", \"high\": 9, \"low\": 7, \"wc_day\": \"3~4\\\\u7ea7\", \"wd_day\": \"\\\\u4e1c\\\\u5317\\\\u98ce\", \"wc_night\": \"3~4\\\\u7ea7\", \"wd_night\": \"\\\\u5317\\\\u98ce\", \"date\": \"2025-01-31\", \"week\": \"\\\\u661f\\\\u671f\\\\u4e94\"}, {\"text_day\": \"\\\\u5c0f\\\\u96e8\", \"text_night\": \"\\\\u5c0f\\\\u96e8\", \"high\": 9, \"low\": 4, \"wc_day\": \"4~5\\\\u7ea7\", \"wd_day\": \"\\\\u5317\\\\u98ce\", \"wc_night\": \"3~4\\\\u7ea7\", \"wd_night\": \"\\\\u4e1c\\\\u5317\\\\u98ce\", \"date\": \"2025-02-01\", \"week\": \"\\\\u661f\\\\u671f\\\\u516d\"}, {\"text_day\": \"\\\\u9634\", \"text_night\": \"\\\\u9634\", \"high\": 9, \"low\": 3, \"wc_day\": \"4~5\\\\u7ea7\", \"wd_day\": \"\\\\u5317\\\\u98ce\", \"wc_night\": \"3~4\\\\u7ea7\", \"wd_night\": \"\\\\u897f\\\\u5317\\\\u98ce\", \"date\": \"2025-02-02\", \"week\": \"\\\\u661f\\\\u671f\\\\u65e5\"}, {\"text_day\": \"\\\\u591a\\\\u4e91\", \"text_night\": \"\\\\u591a\\\\u4e91\", \"high\": 8, \"low\": -1, \"wc_day\": \"3~4\\\\u7ea7\", \"wd_day\": \"\\\\u5317\\\\u98ce\", \"wc_night\": \"3~4\\\\u7ea7\", \"wd_night\": \"\\\\u5317\\\\u98ce\", \"date\": \"2025-02-03\", \"week\": \"\\\\u661f\\\\u671f\\\\u4e00\"}]}, \"message\": \"success\"}'"
      ]
     },
     "execution_count": 22,
     "metadata": {},
     "output_type": "execute_result"
    }
   ],
   "source": [
    "# test tool\n",
    "data = get_weather(cityName=\"南京\")\n",
    "data"
   ]
  },
  {
   "cell_type": "code",
   "execution_count": 23,
   "metadata": {},
   "outputs": [],
   "source": [
    "agent = Agent(\n",
    "    name=\"Master Agent\",\n",
    "    model=checkpoint,\n",
    "    instructions=\"You are a helpful assistant on business travel.\",\n",
    "    functions=[get_weather]\n",
    ")"
   ]
  },
  {
   "cell_type": "code",
   "execution_count": 24,
   "metadata": {},
   "outputs": [],
   "source": [
    "user_prompt = \"帮我查下南京的天气\"\n",
    "\n",
    "messages = [\n",
    "    {\"role\": \"system\", \"content\": system_prompt},\n",
    "    {\"role\": \"user\", \"content\": user_prompt}\n",
    "]"
   ]
  },
  {
   "cell_type": "code",
   "execution_count": 29,
   "metadata": {},
   "outputs": [],
   "source": [
    "response = swarm_client.run(\n",
    "    agent=agent,\n",
    "    messages=messages\n",
    ")"
   ]
  },
  {
   "cell_type": "code",
   "execution_count": 30,
   "metadata": {},
   "outputs": [
    {
     "name": "stdout",
     "output_type": "stream",
     "text": [
      "南京今天的天气情况如下：\n",
      "- 天气：多云，当前温度9°C，体感温度8°C。\n",
      "- 湿度为43%，风力为2级，方向来自东北。\n",
      "\n",
      "未来几天的天气预测：\n",
      "- 1月30日（周二）白天多云晚上晴朗，最高气温15°C，最低气温6°C。\n",
      "- 1月31日（周三）白天和夜间均为中等云量，最高气温9°C，最低气温7°C。\n",
      "- 2月1日（周四）白天小云量晚上也小云量，最高气温9°C，最低气温4°C。\n",
      "- 2月2日（周五）白天晴朗晚上多云，最高气温9°C，最低气温3°C。\n",
      "- 2月3日（周六）白天和夜间都是多云，最高气温8°C，最低气温为-1°C。\n",
      "\n",
      "请注意保暖哦！\n"
     ]
    }
   ],
   "source": [
    "print(response.messages[-1][\"content\"])"
   ]
  },
  {
   "cell_type": "markdown",
   "metadata": {},
   "source": [
    "## step-5: Multi-Agent"
   ]
  },
  {
   "cell_type": "code",
   "execution_count": null,
   "metadata": {},
   "outputs": [],
   "source": []
  }
 ],
 "metadata": {
  "kernelspec": {
   "display_name": "base",
   "language": "python",
   "name": "python3"
  },
  "language_info": {
   "codemirror_mode": {
    "name": "ipython",
    "version": 3
   },
   "file_extension": ".py",
   "mimetype": "text/x-python",
   "name": "python",
   "nbconvert_exporter": "python",
   "pygments_lexer": "ipython3",
   "version": "3.11.5"
  }
 },
 "nbformat": 4,
 "nbformat_minor": 2
}
