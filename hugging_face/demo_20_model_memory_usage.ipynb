{
 "cells": [
  {
   "cell_type": "code",
   "execution_count": null,
   "metadata": {},
   "outputs": [],
   "source": [
    "# https://huggingface.co/spaces/hf-accelerate/model-memory-usage\n",
    "# !pip install -i https://pypi.tuna.tsinghua.edu.cn/simple -U --user transformers accelerate"
   ]
  },
  {
   "cell_type": "markdown",
   "metadata": {},
   "source": [
    "## step-1: 基本使用方法"
   ]
  },
  {
   "cell_type": "markdown",
   "metadata": {},
   "source": [
    "accelerate estimate-memory mistralai/Mistral-7B-v0.1"
   ]
  },
  {
   "cell_type": "markdown",
   "metadata": {},
   "source": [
    "accelerate estimate-memory Qwen/Qwen1.5-7B"
   ]
  },
  {
   "cell_type": "markdown",
   "metadata": {},
   "source": [
    "## step-2: 只显示指定类型"
   ]
  },
  {
   "cell_type": "markdown",
   "metadata": {},
   "source": [
    "accelerate estimate-memory mistralai/Mistral-7B-v0.1 --dtype float16"
   ]
  },
  {
   "cell_type": "markdown",
   "metadata": {},
   "source": [
    "## step-3: 针对本地模型"
   ]
  },
  {
   "cell_type": "markdown",
   "metadata": {},
   "source": [
    "accelerate estimate-memory mistralai/Mistral-7B-v0.1 --dtype float32 float16 --library_name transformers"
   ]
  },
  {
   "cell_type": "markdown",
   "metadata": {},
   "source": [
    "## step-4: 其他参数"
   ]
  },
  {
   "cell_type": "markdown",
   "metadata": {},
   "source": [
    "accelerate estimate-memory Qwen/Qwen1.5-7B --trust_remote_code"
   ]
  }
 ],
 "metadata": {
  "kernelspec": {
   "display_name": "base",
   "language": "python",
   "name": "python3"
  },
  "language_info": {
   "codemirror_mode": {
    "name": "ipython",
    "version": 3
   },
   "file_extension": ".py",
   "mimetype": "text/x-python",
   "name": "python",
   "nbconvert_exporter": "python",
   "pygments_lexer": "ipython3",
   "version": "3.11.5"
  }
 },
 "nbformat": 4,
 "nbformat_minor": 2
}
