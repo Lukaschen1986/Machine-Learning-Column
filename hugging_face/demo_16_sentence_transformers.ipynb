{
 "cells": [
  {
   "cell_type": "code",
   "execution_count": null,
   "metadata": {},
   "outputs": [],
   "source": [
    "# !pip install -i https://pypi.tuna.tsinghua.edu.cn/simple -U optimum\n",
    "# !pip install -i https://pypi.tuna.tsinghua.edu.cn/simple -U onnxruntime\n",
    "# !pip install -i https://pypi.tuna.tsinghua.edu.cn/simple -U onnxruntime-gpu\n",
    "# !pip install -i https://pypi.tuna.tsinghua.edu.cn/simple onnx==1.16.1"
   ]
  },
  {
   "cell_type": "code",
   "execution_count": 1,
   "metadata": {},
   "outputs": [],
   "source": [
    "import warnings; warnings.filterwarnings(\"ignore\")\n",
    "import os\n",
    "import sys\n",
    "import numpy as np\n",
    "import pandas as pd\n",
    "import torch as th\n",
    "from transformers import (AutoTokenizer, AutoModel, AutoModelForSequenceClassification)\n",
    "from optimum.onnxruntime import ORTModelForSequenceClassification\n",
    "from sentence_transformers import (SentenceTransformer, util, CrossEncoder)\n",
    "from langchain.embeddings import HuggingFaceEmbeddings\n",
    "from langchain.vectorstores import (FAISS, LanceDB)\n",
    "from cross_encoder_ort import CrossEncoderOrt"
   ]
  },
  {
   "cell_type": "code",
   "execution_count": 2,
   "metadata": {},
   "outputs": [
    {
     "name": "stdout",
     "output_type": "stream",
     "text": [
      "device = cuda; devive_cnt = 1\n",
      "2.2.0+cu118\n",
      "11.8\n"
     ]
    }
   ],
   "source": [
    "device = th.device(\"cuda\" if th.cuda.is_available() else \"cpu\")\n",
    "devive_cnt = th.cuda.device_count()\n",
    "print(f\"device = {device}; devive_cnt = {devive_cnt}\")\n",
    "print(th.__version__)\n",
    "print(th.version.cuda)"
   ]
  },
  {
   "cell_type": "code",
   "execution_count": 3,
   "metadata": {},
   "outputs": [],
   "source": [
    "path_project = \"C:/my_project/MyGit/Machine-Learning-Column/hugging_face\"\n",
    "path_data = os.path.join(os.path.dirname(path_project), \"data\")\n",
    "path_model = \"F:/LLM/sentence-transformers\"\n",
    "path_output = os.path.join(os.path.dirname(path_project), \"output\")"
   ]
  },
  {
   "cell_type": "markdown",
   "metadata": {},
   "source": [
    "## step-1: 设置 checkpoint 和样本"
   ]
  },
  {
   "cell_type": "code",
   "execution_count": 8,
   "metadata": {},
   "outputs": [],
   "source": [
    "checkpoint = \"m3e-base\""
   ]
  },
  {
   "cell_type": "code",
   "execution_count": 4,
   "metadata": {},
   "outputs": [],
   "source": [
    "corpus = [\n",
    "    \"南京师范大学\",\n",
    "    \"南京大学\",\n",
    "    \"南京中医药大学\",\n",
    "    \"南京医科大学\",\n",
    "    \"南京林业大学\",\n",
    "    \"北京师范大学\"\n",
    "]"
   ]
  },
  {
   "cell_type": "code",
   "execution_count": 5,
   "metadata": {},
   "outputs": [],
   "source": [
    "query = [\"南师大\"]"
   ]
  },
  {
   "cell_type": "markdown",
   "metadata": {},
   "source": [
    "## step-2: Using Transformers"
   ]
  },
  {
   "cell_type": "code",
   "execution_count": 9,
   "metadata": {},
   "outputs": [],
   "source": [
    "tokenizer = AutoTokenizer.from_pretrained(\n",
    "    pretrained_model_name_or_path=os.path.join(path_model, checkpoint),\n",
    "    cache_dir=path_model,\n",
    "    force_download=False,\n",
    "    local_files_only=True\n",
    ")"
   ]
  },
  {
   "cell_type": "code",
   "execution_count": 10,
   "metadata": {},
   "outputs": [
    {
     "name": "stdout",
     "output_type": "stream",
     "text": [
      "checkpoint = m3e-base, vocab_size = 21128\n"
     ]
    }
   ],
   "source": [
    "print(f\"checkpoint = {checkpoint}, vocab_size = {tokenizer.vocab_size}\")  # checkpoint = m3e-base, vocab_size = 21128"
   ]
  },
  {
   "cell_type": "code",
   "execution_count": 14,
   "metadata": {},
   "outputs": [],
   "source": [
    "model = AutoModel.from_pretrained(\n",
    "    pretrained_model_name_or_path=os.path.join(path_model, checkpoint),\n",
    "    cache_dir=path_model,\n",
    "    force_download=False,\n",
    "    local_files_only=True,\n",
    "    device_map=device,\n",
    "    # torch_dtype=th.bfloat16\n",
    ")"
   ]
  },
  {
   "cell_type": "code",
   "execution_count": 15,
   "metadata": {},
   "outputs": [
    {
     "name": "stdout",
     "output_type": "stream",
     "text": [
      "BertModel(\n",
      "  (embeddings): BertEmbeddings(\n",
      "    (word_embeddings): Embedding(21128, 768, padding_idx=0)\n",
      "    (position_embeddings): Embedding(512, 768)\n",
      "    (token_type_embeddings): Embedding(2, 768)\n",
      "    (LayerNorm): LayerNorm((768,), eps=1e-12, elementwise_affine=True)\n",
      "    (dropout): Dropout(p=0.1, inplace=False)\n",
      "  )\n",
      "  (encoder): BertEncoder(\n",
      "    (layer): ModuleList(\n",
      "      (0-11): 12 x BertLayer(\n",
      "        (attention): BertAttention(\n",
      "          (self): BertSdpaSelfAttention(\n",
      "            (query): Linear(in_features=768, out_features=768, bias=True)\n",
      "            (key): Linear(in_features=768, out_features=768, bias=True)\n",
      "            (value): Linear(in_features=768, out_features=768, bias=True)\n",
      "            (dropout): Dropout(p=0.1, inplace=False)\n",
      "          )\n",
      "          (output): BertSelfOutput(\n",
      "            (dense): Linear(in_features=768, out_features=768, bias=True)\n",
      "            (LayerNorm): LayerNorm((768,), eps=1e-12, elementwise_affine=True)\n",
      "            (dropout): Dropout(p=0.1, inplace=False)\n",
      "          )\n",
      "        )\n",
      "        (intermediate): BertIntermediate(\n",
      "          (dense): Linear(in_features=768, out_features=3072, bias=True)\n",
      "          (intermediate_act_fn): GELUActivation()\n",
      "        )\n",
      "        (output): BertOutput(\n",
      "          (dense): Linear(in_features=3072, out_features=768, bias=True)\n",
      "          (LayerNorm): LayerNorm((768,), eps=1e-12, elementwise_affine=True)\n",
      "          (dropout): Dropout(p=0.1, inplace=False)\n",
      "        )\n",
      "      )\n",
      "    )\n",
      "  )\n",
      "  (pooler): BertPooler(\n",
      "    (dense): Linear(in_features=768, out_features=768, bias=True)\n",
      "    (activation): Tanh()\n",
      "  )\n",
      ")\n"
     ]
    }
   ],
   "source": [
    "print(model)"
   ]
  },
  {
   "cell_type": "code",
   "execution_count": null,
   "metadata": {},
   "outputs": [],
   "source": [
    "for i, (name, parm) in enumerate(model.named_parameters()):\n",
    "    print(f\"{i}  name: {name};  shape: {parm.shape};  dtype: {parm.dtype};  device: {parm.device}\")"
   ]
  },
  {
   "cell_type": "code",
   "execution_count": 131,
   "metadata": {},
   "outputs": [
    {
     "name": "stdout",
     "output_type": "stream",
     "text": [
      "tensor([[ 0.0150,  0.0156,  0.0373,  ..., -0.0377, -0.0717, -0.0500],\n",
      "        [ 0.0097,  0.0089,  0.0240,  ..., -0.0496, -0.0785, -0.0489],\n",
      "        [-0.0049,  0.0205,  0.0228,  ..., -0.0178, -0.0746, -0.0377],\n",
      "        [-0.0036,  0.0248,  0.0386,  ..., -0.0368, -0.0726, -0.0307],\n",
      "        [ 0.0206,  0.0230,  0.0008,  ..., -0.0454, -0.0869, -0.0372],\n",
      "        [ 0.0115,  0.0254,  0.0153,  ..., -0.0032, -0.0607, -0.0427]],\n",
      "       device='cuda:0')\n"
     ]
    }
   ],
   "source": [
    "inputs_corpus = tokenizer(corpus, padding=True, truncation=True, return_tensors=\"pt\").to(device)\n",
    "\n",
    "model.eval()\n",
    "with th.inference_mode():\n",
    "    # model_outputs = model(**inputs_corpus)\n",
    "    model_outputs = model(\n",
    "        input_ids=inputs_corpus.input_ids,\n",
    "        attention_mask=inputs_corpus.attention_mask,\n",
    "        token_type_ids=inputs_corpus.token_type_ids\n",
    "    )\n",
    "    \n",
    "embeddings_corpus = model_outputs.last_hidden_state[:, 0, :]\n",
    "embeddings_corpus = th.nn.functional.normalize(embeddings_corpus, p=2, dim=1)\n",
    "print(embeddings_corpus)"
   ]
  },
  {
   "cell_type": "code",
   "execution_count": 132,
   "metadata": {},
   "outputs": [],
   "source": [
    "inputs_query = tokenizer(query, padding=True, truncation=True, return_tensors=\"pt\").to(device)\n",
    "\n",
    "model.eval()\n",
    "with th.inference_mode():\n",
    "    # model_outputs = model(**inputs_corpus)\n",
    "    model_outputs = model(\n",
    "        input_ids=inputs_query.input_ids,\n",
    "        attention_mask=inputs_query.attention_mask,\n",
    "        token_type_ids=inputs_query.token_type_ids\n",
    "    )\n",
    "    \n",
    "embeddings_query = model_outputs.last_hidden_state[:, 0, :]\n",
    "embeddings_query = th.nn.functional.normalize(embeddings_query, p=2, dim=1)"
   ]
  },
  {
   "cell_type": "code",
   "execution_count": 133,
   "metadata": {},
   "outputs": [
    {
     "name": "stdout",
     "output_type": "stream",
     "text": [
      "tensor([[0.9358],\n",
      "        [0.8700],\n",
      "        [0.8453],\n",
      "        [0.8400],\n",
      "        [0.8443],\n",
      "        [0.8788]], device='cuda:0')\n"
     ]
    }
   ],
   "source": [
    "# sim = embeddings_corpus @ embeddings_query.T\n",
    "sim = util.cos_sim(embeddings_corpus, embeddings_query)\n",
    "print(sim)"
   ]
  },
  {
   "cell_type": "markdown",
   "metadata": {},
   "source": [
    "## step-3: Using Sentence-Transformers"
   ]
  },
  {
   "cell_type": "code",
   "execution_count": 16,
   "metadata": {},
   "outputs": [],
   "source": [
    "model = SentenceTransformer(\n",
    "    model_name_or_path=os.path.join(path_model, checkpoint),\n",
    "    cache_folder=path_model,\n",
    "    local_files_only=True,\n",
    "    device=device\n",
    ")"
   ]
  },
  {
   "cell_type": "code",
   "execution_count": 10,
   "metadata": {},
   "outputs": [
    {
     "name": "stdout",
     "output_type": "stream",
     "text": [
      "SentenceTransformer(\n",
      "  (0): Transformer({'max_seq_length': 512, 'do_lower_case': False}) with Transformer model: BertModel \n",
      "  (1): Pooling({'word_embedding_dimension': 768, 'pooling_mode_cls_token': False, 'pooling_mode_mean_tokens': True, 'pooling_mode_max_tokens': False, 'pooling_mode_mean_sqrt_len_tokens': False, 'pooling_mode_weightedmean_tokens': False, 'pooling_mode_lasttoken': False, 'include_prompt': True})\n",
      ")\n"
     ]
    }
   ],
   "source": [
    "print(model)"
   ]
  },
  {
   "cell_type": "code",
   "execution_count": 11,
   "metadata": {},
   "outputs": [
    {
     "name": "stdout",
     "output_type": "stream",
     "text": [
      "tensor([[ 0.0121,  0.0173,  0.0365,  ..., -0.0422, -0.0780, -0.0438],\n",
      "        [ 0.0066,  0.0114,  0.0244,  ..., -0.0549, -0.0730, -0.0457],\n",
      "        [-0.0117,  0.0155,  0.0126,  ..., -0.0173, -0.0743, -0.0304],\n",
      "        [-0.0159,  0.0265,  0.0340,  ..., -0.0397, -0.0739, -0.0302],\n",
      "        [ 0.0146,  0.0214,  0.0036,  ..., -0.0383, -0.0861, -0.0367],\n",
      "        [ 0.0092,  0.0280,  0.0147,  ..., -0.0139, -0.0672, -0.0323]],\n",
      "       device='cuda:0')\n"
     ]
    }
   ],
   "source": [
    "embeddings_corpus = model.encode(sentences=corpus, convert_to_tensor=True, normalize_embeddings=True).to(device)\n",
    "print(embeddings_corpus)"
   ]
  },
  {
   "cell_type": "code",
   "execution_count": 12,
   "metadata": {},
   "outputs": [],
   "source": [
    "embeddings_query = model.encode(sentences=query, convert_to_tensor=True, normalize_embeddings=True).to(device)"
   ]
  },
  {
   "cell_type": "code",
   "execution_count": 14,
   "metadata": {},
   "outputs": [
    {
     "name": "stdout",
     "output_type": "stream",
     "text": [
      "tensor([[0.9308],\n",
      "        [0.8779],\n",
      "        [0.8395],\n",
      "        [0.8445],\n",
      "        [0.8517],\n",
      "        [0.8650]], device='cuda:0')\n"
     ]
    }
   ],
   "source": [
    "sim = util.cos_sim(embeddings_corpus, embeddings_query)\n",
    "print(sim)"
   ]
  },
  {
   "cell_type": "code",
   "execution_count": 20,
   "metadata": {},
   "outputs": [
    {
     "name": "stdout",
     "output_type": "stream",
     "text": [
      "[[{'corpus_id': 0, 'score': 0.9308120012283325}]]\n"
     ]
    }
   ],
   "source": [
    "hits = util.semantic_search(query_embeddings=embeddings_query, corpus_embeddings=embeddings_corpus, top_k=1)\n",
    "print(hits)"
   ]
  },
  {
   "cell_type": "markdown",
   "metadata": {},
   "source": [
    "## step-4: Using Langchain"
   ]
  },
  {
   "cell_type": "code",
   "execution_count": 145,
   "metadata": {},
   "outputs": [],
   "source": [
    "model = HuggingFaceEmbeddings(\n",
    "    model_name=os.path.join(path_model, checkpoint),\n",
    "    cache_folder=os.path.join(path_model, checkpoint),\n",
    "    model_kwargs={\"device\": \"cuda\"},\n",
    "    encode_kwargs={\"normalize_embeddings\": True}\n",
    "    )"
   ]
  },
  {
   "cell_type": "code",
   "execution_count": 146,
   "metadata": {},
   "outputs": [
    {
     "name": "stdout",
     "output_type": "stream",
     "text": [
      "client=SentenceTransformer(\n",
      "  (0): Transformer({'max_seq_length': 512, 'do_lower_case': False}) with Transformer model: BertModel \n",
      "  (1): Pooling({'word_embedding_dimension': 768, 'pooling_mode_cls_token': False, 'pooling_mode_mean_tokens': True, 'pooling_mode_max_tokens': False, 'pooling_mode_mean_sqrt_len_tokens': False, 'pooling_mode_weightedmean_tokens': False, 'pooling_mode_lasttoken': False, 'include_prompt': True})\n",
      ") model_name='C:/my_project/MyGit/Machine-Learning-Column\\\\model/sentence-transformers\\\\m3e-base' cache_folder='C:/my_project/MyGit/Machine-Learning-Column\\\\model/sentence-transformers\\\\m3e-base' model_kwargs={'device': 'cuda'} encode_kwargs={'normalize_embeddings': True} multi_process=False show_progress=False\n"
     ]
    }
   ],
   "source": [
    "print(model)"
   ]
  },
  {
   "cell_type": "markdown",
   "metadata": {},
   "source": [
    "## step-5: Testing Onnx"
   ]
  },
  {
   "cell_type": "markdown",
   "metadata": {},
   "source": [
    "https://blog.csdn.net/pipisorry/article/details/131519708?ops_request_misc=%257B%2522request%255Fid%2522%253A%25225B8B1CBE-4598-41BE-BDAF-33C4615991B4%2522%252C%2522scm%2522%253A%252220140713.130102334.pc%255Fall.%2522%257D&request_id=5B8B1CBE-4598-41BE-BDAF-33C4615991B4&biz_id=0&utm_medium=distribute.pc_search_result.none-task-blog-2~all~first_rank_ecpm_v1~rank_v31_ecpm-5-131519708-null-null.142^v100^pc_search_result_base8&utm_term=optimum%20%E6%8E%A8%E7%90%86%E5%8A%A0%E9%80%9F&spm=1018.2226.3001.4187"
   ]
  },
  {
   "cell_type": "markdown",
   "metadata": {},
   "source": [
    "HuggingFace Optimum 是 Transformers 的扩展，它提供了性能优化工具的统一 API，以实现在加速硬件上训练和运行模型的最高效率，包括在Graphcore IPU和Habana Gaudi上优化性能的工具包。Optimum可通过其模块将模型从 PyTorch 或 TensorFlow 导出为序列化格式，例如 ONNX 和 TFLite exporters。"
   ]
  },
  {
   "cell_type": "code",
   "execution_count": 24,
   "metadata": {},
   "outputs": [],
   "source": [
    "device = th.device(\"cpu\")\n",
    "# device = th.device(\"cuda\")"
   ]
  },
  {
   "cell_type": "code",
   "execution_count": 25,
   "metadata": {},
   "outputs": [],
   "source": [
    "checkpoint = \"BAAI/bge-reranker-large\""
   ]
  },
  {
   "cell_type": "code",
   "execution_count": 26,
   "metadata": {},
   "outputs": [],
   "source": [
    "tokenizer = AutoTokenizer.from_pretrained(\n",
    "    pretrained_model_name_or_path=os.path.join(path_model, checkpoint),\n",
    "    cache_dir=path_model,\n",
    "    force_download=False,\n",
    "    local_files_only=True\n",
    ")"
   ]
  },
  {
   "cell_type": "code",
   "execution_count": 13,
   "metadata": {},
   "outputs": [],
   "source": [
    "model = AutoModelForSequenceClassification.from_pretrained(\n",
    "    pretrained_model_name_or_path=os.path.join(path_model, checkpoint),\n",
    "    cache_dir=path_model,\n",
    "    force_download=False,\n",
    "    local_files_only=True,\n",
    "    device_map=device,\n",
    "    # torch_dtype=th.float32\n",
    ")"
   ]
  },
  {
   "cell_type": "code",
   "execution_count": 19,
   "metadata": {},
   "outputs": [],
   "source": [
    "model_ort = ORTModelForSequenceClassification.from_pretrained(\n",
    "    model_id=os.path.join(path_model, checkpoint),\n",
    "    cache_dir=path_model,\n",
    "    force_download=False,\n",
    "    local_files_only=True,\n",
    "    use_merged=True,  # 如下\n",
    "    # file_name=os.path.join(path_model, checkpoint, \"model.onnx\"),\n",
    ")\n",
    "model_ort = model_ort.to(device)"
   ]
  },
  {
   "cell_type": "markdown",
   "metadata": {},
   "source": [
    "use_merged (`Optional[bool]`, defaults to `None`):\n",
    "    whether or not to use a single ONNX that handles both the decoding without and with past key values reuse. This option defaults\n",
    "    to `True` if loading from a local repository and a merged decoder is found. When exporting with `export=True`,\n",
    "    defaults to `False`. This option should be set to `True` to minimize memory usage."
   ]
  },
  {
   "cell_type": "code",
   "execution_count": 20,
   "metadata": {},
   "outputs": [],
   "source": [
    "pairs = [\n",
    "\t(\"酒店名称：格林豪泰酒店上海虹桥机场动物园地铁站店；酒店地址：上海长宁区哈密路1721号\", \"酒店名称：格林豪泰虹桥动物园店；酒店地址：位于长宁区哈密路1721号，近青溪路，距离地铁10号线上海动物园站动物园不远\"),\n",
    "\t(\"酒店名称：格林豪泰酒店上海虹桥机场动物园地铁站店；酒店地址：上海长宁区哈密路1721号\", \"酒店名称：格林豪泰动物园地铁站店原上海虹桥店；酒店地址：长宁区哈密路\"),\n",
    "\t(\"酒店名称：格林豪泰酒店上海虹桥机场动物园地铁站店；酒店地址：上海长宁区哈密路1721号\", \"酒店名称：格林豪泰上海虹桥机场店原名动物园地铁站店；酒店地址：长宁区哈密路1721号，青溪路与哈密路交叉口\")\n",
    "\t]"
   ]
  },
  {
   "cell_type": "code",
   "execution_count": 27,
   "metadata": {},
   "outputs": [],
   "source": [
    "model_inputs = tokenizer(pairs, padding=True, truncation=True, return_tensors=\"pt\").to(device)"
   ]
  },
  {
   "cell_type": "code",
   "execution_count": 106,
   "metadata": {},
   "outputs": [
    {
     "name": "stdout",
     "output_type": "stream",
     "text": [
      "623 ms ± 18.2 ms per loop (mean ± std. dev. of 7 runs, 1 loop each)\n"
     ]
    }
   ],
   "source": [
    "%%timeit\n",
    "with th.inference_mode():\n",
    "    scores = model(**model_inputs, return_dict=True).logits.view(-1, ).float()"
   ]
  },
  {
   "cell_type": "code",
   "execution_count": 28,
   "metadata": {},
   "outputs": [
    {
     "name": "stdout",
     "output_type": "stream",
     "text": [
      "408 ms ± 24.6 ms per loop (mean ± std. dev. of 7 runs, 1 loop each)\n"
     ]
    }
   ],
   "source": [
    "%%timeit\n",
    "with th.inference_mode():\n",
    "    scores_ort = model_ort(**model_inputs, return_dict=True).logits.view(-1, ).float()"
   ]
  },
  {
   "cell_type": "code",
   "execution_count": 48,
   "metadata": {},
   "outputs": [
    {
     "name": "stdout",
     "output_type": "stream",
     "text": [
      "tensor([7.4298, 2.8237, 8.6251])\n",
      "tensor([7.4298, 2.8237, 8.6251])\n"
     ]
    }
   ],
   "source": [
    "# 推理结果相同\n",
    "print(scores)\n",
    "print(scores_ort)"
   ]
  },
  {
   "cell_type": "markdown",
   "metadata": {},
   "source": [
    "## step-6: Testing Onnx On CrossEncoder"
   ]
  },
  {
   "cell_type": "code",
   "execution_count": 3,
   "metadata": {},
   "outputs": [],
   "source": [
    "device = th.device(\"cpu\")\n",
    "# device = th.device(\"cuda\")"
   ]
  },
  {
   "cell_type": "code",
   "execution_count": 4,
   "metadata": {},
   "outputs": [],
   "source": [
    "checkpoint = \"BAAI/bge-reranker-large\""
   ]
  },
  {
   "cell_type": "code",
   "execution_count": 15,
   "metadata": {},
   "outputs": [],
   "source": [
    "model = CrossEncoder(\n",
    "    model_name=os.path.join(path_model, checkpoint),\n",
    "    device=device,\n",
    "    local_files_only=True,\n",
    "    # trust_remote_code=False,\n",
    "    # automodel_args={\"torch_dtype\": th.float32},\n",
    ")"
   ]
  },
  {
   "cell_type": "code",
   "execution_count": 5,
   "metadata": {},
   "outputs": [],
   "source": [
    "model_ort = CrossEncoderOrt(\n",
    "    model_name=os.path.join(path_model, checkpoint),\n",
    "    device=device,\n",
    "    local_files_only=True,\n",
    "    # trust_remote_code=False,\n",
    "    # automodel_args={\"torch_dtype\": th.float32},\n",
    ")"
   ]
  },
  {
   "cell_type": "code",
   "execution_count": 6,
   "metadata": {},
   "outputs": [],
   "source": [
    "a = \"酒店名称：格林豪泰酒店上海虹桥机场动物园地铁站店；酒店地址：上海长宁区哈密路1721号\"\n",
    "b_list = [\n",
    "    \"酒店名称：格林豪泰虹桥动物园店；酒店地址：位于长宁区哈密路1721号，近青溪路，距离地铁10号线上海动物园站动物园不远\",\n",
    "    \"酒店名称：格林豪泰动物园地铁站店原上海虹桥店；酒店地址：长宁区哈密路\",\n",
    "    \"酒店名称：格林豪泰上海虹桥机场店原名动物园地铁站店；酒店地址：长宁区哈密路1721号，青溪路与哈密路交叉口\"\n",
    "]"
   ]
  },
  {
   "cell_type": "code",
   "execution_count": 17,
   "metadata": {},
   "outputs": [
    {
     "name": "stdout",
     "output_type": "stream",
     "text": [
      "659 ms ± 15.5 ms per loop (mean ± std. dev. of 7 runs, 1 loop each)\n"
     ]
    }
   ],
   "source": [
    "%%timeit\n",
    "response = model.rank(query=a, documents=b_list, top_k=1)"
   ]
  },
  {
   "cell_type": "code",
   "execution_count": 10,
   "metadata": {},
   "outputs": [
    {
     "name": "stdout",
     "output_type": "stream",
     "text": [
      "416 ms ± 16 ms per loop (mean ± std. dev. of 7 runs, 1 loop each)\n"
     ]
    }
   ],
   "source": [
    "%%timeit\n",
    "response_ort = model_ort.rank(query=a, documents=b_list, top_k=1)"
   ]
  },
  {
   "cell_type": "markdown",
   "metadata": {},
   "source": [
    "device = cpu  \n",
    "- use AutoModelForSequenceClassification = 640 ms  \n",
    "- use ORTModelForSequenceClassification = 425 ms\n",
    "- use CrossEncoder.rank = 642 ms\n",
    "- use CrossEncoderOrt.rank = 413 ms"
   ]
  },
  {
   "cell_type": "markdown",
   "metadata": {},
   "source": [
    "## step-7: Testing GPU Used"
   ]
  },
  {
   "cell_type": "code",
   "execution_count": 4,
   "metadata": {},
   "outputs": [
    {
     "name": "stdout",
     "output_type": "stream",
     "text": [
      "已缓存的显存：0.00G\n"
     ]
    }
   ],
   "source": [
    "cached_memory_t0 = th.cuda.memory_cached(device)\n",
    "print(f\"已缓存的显存：{cached_memory_t0 / 1024**3:.2f}G\")"
   ]
  },
  {
   "cell_type": "code",
   "execution_count": 5,
   "metadata": {},
   "outputs": [],
   "source": [
    "embedding_model = AutoModel.from_pretrained(\n",
    "    pretrained_model_name_or_path=os.path.join(path_model, \"BAAI/bge-base-zh-v1.5\"),\n",
    "    cache_dir=path_model,\n",
    "    force_download=False,\n",
    "    local_files_only=True,\n",
    "    device_map=device,\n",
    "    # torch_dtype=th.bfloat16\n",
    ")"
   ]
  },
  {
   "cell_type": "code",
   "execution_count": 6,
   "metadata": {},
   "outputs": [
    {
     "name": "stdout",
     "output_type": "stream",
     "text": [
      "Embedding Model 消耗显存：0.43G\n"
     ]
    }
   ],
   "source": [
    "cached_memory_t1 = th.cuda.memory_cached(device)\n",
    "print(f\"Embedding Model 消耗显存：{(cached_memory_t1 - cached_memory_t0) / 1024**3:.2f}G\")"
   ]
  },
  {
   "cell_type": "code",
   "execution_count": 7,
   "metadata": {},
   "outputs": [],
   "source": [
    "ranking_model = AutoModelForSequenceClassification.from_pretrained(\n",
    "    pretrained_model_name_or_path=os.path.join(path_model, \"BAAI/bge-reranker-large\"),\n",
    "    cache_dir=path_model,\n",
    "    force_download=False,\n",
    "    local_files_only=True,\n",
    "    device_map=device,\n",
    "    # torch_dtype=th.bfloat16\n",
    ")"
   ]
  },
  {
   "cell_type": "code",
   "execution_count": 8,
   "metadata": {},
   "outputs": [
    {
     "name": "stdout",
     "output_type": "stream",
     "text": [
      "Ranking Model 消耗显存：2.08G\n"
     ]
    }
   ],
   "source": [
    "cached_memory_t2 = th.cuda.memory_cached(device)\n",
    "print(f\"Ranking Model 消耗显存：{(cached_memory_t2 - cached_memory_t1 - cached_memory_t0) / 1024**3:.2f}G\")"
   ]
  }
 ],
 "metadata": {
  "kernelspec": {
   "display_name": "base",
   "language": "python",
   "name": "python3"
  },
  "language_info": {
   "codemirror_mode": {
    "name": "ipython",
    "version": 3
   },
   "file_extension": ".py",
   "mimetype": "text/x-python",
   "name": "python",
   "nbconvert_exporter": "python",
   "pygments_lexer": "ipython3",
   "version": "3.11.5"
  }
 },
 "nbformat": 4,
 "nbformat_minor": 2
}
