{
 "cells": [
  {
   "cell_type": "code",
   "execution_count": null,
   "metadata": {},
   "outputs": [],
   "source": [
    "# pip install -i https://pypi.tuna.tsinghua.edu.cn/simple agentscope --pre --user\n",
    "# https://doc.agentscope.io/zh_CN/tutorial/103-example.html\n",
    "# https://github.com/modelscope/agentscope/blob/main/README_ZH.md"
   ]
  },
  {
   "cell_type": "code",
   "execution_count": 1,
   "metadata": {},
   "outputs": [],
   "source": [
    "import os\n",
    "import sys\n",
    "from typing import Any\n",
    "import json\n",
    "import warnings; warnings.filterwarnings(\"ignore\")\n",
    "import numpy as np\n",
    "import pandas as pd\n",
    "import torch as th\n",
    "import agentscope\n",
    "from agentscope import msghub\n",
    "from agentscope.agents import (UserAgent, DialogAgent)\n",
    "from agentscope.message import Msg\n",
    "from agentscope.service import (ServiceToolkit, ServiceResponse)"
   ]
  },
  {
   "cell_type": "code",
   "execution_count": 2,
   "metadata": {},
   "outputs": [
    {
     "name": "stdout",
     "output_type": "stream",
     "text": [
      "device = cuda; devive_cnt = 1\n",
      "2.2.0+cu118\n",
      "11.8\n",
      "0.0.6alpha2\n"
     ]
    }
   ],
   "source": [
    "device = th.device(\"cuda\" if th.cuda.is_available() else \"cpu\")\n",
    "devive_cnt = th.cuda.device_count()\n",
    "print(f\"device = {device}; devive_cnt = {devive_cnt}\")\n",
    "print(th.__version__)\n",
    "print(th.version.cuda)\n",
    "print(agentscope.__version__)"
   ]
  },
  {
   "cell_type": "markdown",
   "metadata": {},
   "source": [
    "## step-1: 准备模型配置文件"
   ]
  },
  {
   "cell_type": "code",
   "execution_count": 7,
   "metadata": {},
   "outputs": [],
   "source": [
    "lst_model_config = [\n",
    "    {\n",
    "        \"config_name\": \"ollama_chat-qwen2:7b\",\n",
    "        \"model_type\": \"ollama_chat\",\n",
    "        \"model_name\": \"qwen2:7b\",\n",
    "        \"options\": {\"temperature\": 1.0},\n",
    "        \"keep_alive\": \"5m\",\n",
    "        # \"api_key\": \"xxx\",\n",
    "        # \"organization\": \"xxx\",\n",
    "    }\n",
    "]  # 可配置多个模型"
   ]
  },
  {
   "cell_type": "code",
   "execution_count": 8,
   "metadata": {},
   "outputs": [
    {
     "name": "stdout",
     "output_type": "stream",
     "text": [
      "2024-08-18 20:45:10.300 | WARNING  | agentscope.models:read_model_configs:179 - config_name [ollama_chat-qwen2:7b] already exists.\n",
      "2024-08-18 20:45:10.302 | INFO     | agentscope.models:read_model_configs:186 - Load configs for model wrapper: ollama_chat-qwen2:7b\n"
     ]
    },
    {
     "data": {
      "text/plain": [
       "[]"
      ]
     },
     "execution_count": 8,
     "metadata": {},
     "output_type": "execute_result"
    }
   ],
   "source": [
    "agentscope.init(model_configs=lst_model_config)"
   ]
  },
  {
   "cell_type": "markdown",
   "metadata": {},
   "source": [
    "## step-2: 连接 AgentScope"
   ]
  },
  {
   "cell_type": "code",
   "execution_count": 13,
   "metadata": {},
   "outputs": [
    {
     "name": "stdout",
     "output_type": "stream",
     "text": [
      "2024-08-18 20:46:32.246 | INFO     | agentscope.models.model:__init__:201 - Initialize model by configuration [ollama_chat-qwen2:7b]\n"
     ]
    }
   ],
   "source": [
    "agent = DialogAgent(\n",
    "    name=\"assistant\",\n",
    "    sys_prompt=\"You are a helpful assistant.\",\n",
    "    model_config_name=\"ollama_chat-qwen2:7b\"\n",
    ")"
   ]
  },
  {
   "cell_type": "code",
   "execution_count": 14,
   "metadata": {},
   "outputs": [
    {
     "name": "stdout",
     "output_type": "stream",
     "text": [
      "\u001b[91m\u001b[1massistant\u001b[0m\u001b[0m: 我是一个大模型，可以回答各种问题、提供信息和进行对话。有什么我可以帮助你的吗？\n"
     ]
    }
   ],
   "source": [
    "msg = Msg(name=\"user\", content=\"你是谁？\", role=\"user\")\n",
    "res = agent(msg)"
   ]
  },
  {
   "cell_type": "code",
   "execution_count": 15,
   "metadata": {},
   "outputs": [
    {
     "data": {
      "text/plain": [
       "{'id': 'd7ef50340fbc4cbdabd34942e1812d52',\n",
       " 'timestamp': '2024-08-18 20:46:33',\n",
       " 'name': 'user',\n",
       " 'content': '你是谁？',\n",
       " 'role': 'user',\n",
       " 'url': None,\n",
       " 'metadata': None}"
      ]
     },
     "execution_count": 15,
     "metadata": {},
     "output_type": "execute_result"
    }
   ],
   "source": [
    "msg"
   ]
  },
  {
   "cell_type": "code",
   "execution_count": 16,
   "metadata": {},
   "outputs": [
    {
     "data": {
      "text/plain": [
       "{'id': '7b17455dddb7465790f2b1adad37023c',\n",
       " 'timestamp': '2024-08-18 20:46:36',\n",
       " 'name': 'assistant',\n",
       " 'content': '我是一个大模型，可以回答各种问题、提供信息和进行对话。有什么我可以帮助你的吗？',\n",
       " 'role': 'assistant',\n",
       " 'url': None,\n",
       " 'metadata': None}"
      ]
     },
     "execution_count": 16,
     "metadata": {},
     "output_type": "execute_result"
    }
   ],
   "source": [
    "res"
   ]
  },
  {
   "cell_type": "code",
   "execution_count": 17,
   "metadata": {},
   "outputs": [
    {
     "name": "stdout",
     "output_type": "stream",
     "text": [
      "\u001b[91m\u001b[1massistant\u001b[0m\u001b[0m: \"大模型\"通常指的是在人工智能领域中用于处理自然语言任务的复杂算法或机器学习模型。这些模型能够通过大量的数据训练来理解和生成人类语言，从而实现诸如回答问题、提供建议、解释概念、撰写文本等任务。\n",
      "\n",
      "具体到我这个例子，“大模型”可能是指像通义千问这样的超大规模预训练模型。这类模型在处理自然语言理解与生成时具有较高的性能和能力，能够适应多种应用场景，并且通过微调可以针对特定领域或任务进行优化。我的目标是为用户提供准确、有用的信息和支持。\n",
      "\n",
      "如果您有任何具体问题需要解答或者想要了解某个主题，请随时告诉我！我会尽力提供帮助。\n"
     ]
    }
   ],
   "source": [
    "msg = Msg(name=\"user\", content=\"你指的大模型是什么意思？\", role=\"user\")\n",
    "res = agent(msg)"
   ]
  },
  {
   "cell_type": "code",
   "execution_count": 18,
   "metadata": {},
   "outputs": [
    {
     "name": "stdout",
     "output_type": "stream",
     "text": [
      "\u001b[91m\u001b[1massistant\u001b[0m\u001b[0m: 当然，除了回答问题和提供信息之外，我还可以：\n",
      "\n",
      "1. **解释概念**：对于复杂的科学、技术或学术概念，我可以尝试用简单易懂的语言进行解释。\n",
      "\n",
      "2. **提供建议**：在某些情况下，比如学习方法、时间管理或是职业规划方面，我可以根据现有的知识和经验给出建议。\n",
      "\n",
      "3. **撰写文本**：无论是文章、报告、故事还是邮件等，我都可以帮助生成相应的文本内容。\n",
      "\n",
      "4. **翻译**：虽然我的能力有限，但我可以尝试将文本从一种语言翻译成另一种语言。\n",
      "\n",
      "5. **进行对话**：与您进行自然流畅的对话，讨论各种话题，并提供相关的信息或观点。\n",
      "\n",
      "如果您有任何具体需求或者想要了解某个特定主题，请随时告诉我。我会根据您的请求来调整回答的内容和方式，以满足您的需求。\n"
     ]
    }
   ],
   "source": [
    "msg = Msg(name=\"user\", content=\"还有呢？\", role=\"user\")\n",
    "res = agent(msg)"
   ]
  },
  {
   "cell_type": "code",
   "execution_count": 21,
   "metadata": {},
   "outputs": [
    {
     "data": {
      "text/plain": [
       "[{'id': 'd7ef50340fbc4cbdabd34942e1812d52',\n",
       "  'timestamp': '2024-08-18 20:46:33',\n",
       "  'name': 'user',\n",
       "  'content': '你是谁？',\n",
       "  'role': 'user',\n",
       "  'url': None,\n",
       "  'metadata': None},\n",
       " {'id': '7b17455dddb7465790f2b1adad37023c',\n",
       "  'timestamp': '2024-08-18 20:46:36',\n",
       "  'name': 'assistant',\n",
       "  'content': '我是一个大模型，可以回答各种问题、提供信息和进行对话。有什么我可以帮助你的吗？',\n",
       "  'role': 'assistant',\n",
       "  'url': None,\n",
       "  'metadata': None},\n",
       " {'id': '7b34ed0a091f463eb76064450866e58d',\n",
       "  'timestamp': '2024-08-18 20:48:35',\n",
       "  'name': 'user',\n",
       "  'content': '你指的大模型是什么意思？',\n",
       "  'role': 'user',\n",
       "  'url': None,\n",
       "  'metadata': None},\n",
       " {'id': '35585e260fc54b9a98b6e80cba15baee',\n",
       "  'timestamp': '2024-08-18 20:48:55',\n",
       "  'name': 'assistant',\n",
       "  'content': '\"大模型\"通常指的是在人工智能领域中用于处理自然语言任务的复杂算法或机器学习模型。这些模型能够通过大量的数据训练来理解和生成人类语言，从而实现诸如回答问题、提供建议、解释概念、撰写文本等任务。\\n\\n具体到我这个例子，“大模型”可能是指像通义千问这样的超大规模预训练模型。这类模型在处理自然语言理解与生成时具有较高的性能和能力，能够适应多种应用场景，并且通过微调可以针对特定领域或任务进行优化。我的目标是为用户提供准确、有用的信息和支持。\\n\\n如果您有任何具体问题需要解答或者想要了解某个主题，请随时告诉我！我会尽力提供帮助。',\n",
       "  'role': 'assistant',\n",
       "  'url': None,\n",
       "  'metadata': None},\n",
       " {'id': '1e6bf3e6ad414147b6bde0186998040d',\n",
       "  'timestamp': '2024-08-18 20:49:12',\n",
       "  'name': 'user',\n",
       "  'content': '还有呢？',\n",
       "  'role': 'user',\n",
       "  'url': None,\n",
       "  'metadata': None},\n",
       " {'id': 'dd0daac377204d369714d5503733afa4',\n",
       "  'timestamp': '2024-08-18 20:49:38',\n",
       "  'name': 'assistant',\n",
       "  'content': '当然，除了回答问题和提供信息之外，我还可以：\\n\\n1. **解释概念**：对于复杂的科学、技术或学术概念，我可以尝试用简单易懂的语言进行解释。\\n\\n2. **提供建议**：在某些情况下，比如学习方法、时间管理或是职业规划方面，我可以根据现有的知识和经验给出建议。\\n\\n3. **撰写文本**：无论是文章、报告、故事还是邮件等，我都可以帮助生成相应的文本内容。\\n\\n4. **翻译**：虽然我的能力有限，但我可以尝试将文本从一种语言翻译成另一种语言。\\n\\n5. **进行对话**：与您进行自然流畅的对话，讨论各种话题，并提供相关的信息或观点。\\n\\n如果您有任何具体需求或者想要了解某个特定主题，请随时告诉我。我会根据您的请求来调整回答的内容和方式，以满足您的需求。',\n",
       "  'role': 'assistant',\n",
       "  'url': None,\n",
       "  'metadata': None}]"
      ]
     },
     "execution_count": 21,
     "metadata": {},
     "output_type": "execute_result"
    }
   ],
   "source": [
    "agent.memory.get_memory()"
   ]
  }
 ],
 "metadata": {
  "kernelspec": {
   "display_name": "base",
   "language": "python",
   "name": "python3"
  },
  "language_info": {
   "codemirror_mode": {
    "name": "ipython",
    "version": 3
   },
   "file_extension": ".py",
   "mimetype": "text/x-python",
   "name": "python",
   "nbconvert_exporter": "python",
   "pygments_lexer": "ipython3",
   "version": "3.11.5"
  }
 },
 "nbformat": 4,
 "nbformat_minor": 2
}
