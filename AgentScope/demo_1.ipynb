{
 "cells": [
  {
   "cell_type": "code",
   "execution_count": 1,
   "metadata": {},
   "outputs": [],
   "source": [
    "# pip install -i https://pypi.tuna.tsinghua.edu.cn/simple agentscope --pre --user\n",
    "# https://www.bilibili.com/video/BV14z421Q7DN/?spm_id_from=333.880.my_history.page.click&vd_source=fac9279bd4e33309b405d472b24286a8"
   ]
  },
  {
   "cell_type": "code",
   "execution_count": 50,
   "metadata": {},
   "outputs": [],
   "source": [
    "import os\n",
    "import sys\n",
    "from typing import Any\n",
    "import json\n",
    "import warnings; warnings.filterwarnings(\"ignore\")\n",
    "import numpy as np\n",
    "import pandas as pd\n",
    "import torch as th\n",
    "import agentscope\n",
    "from agentscope import msghub\n",
    "from agentscope.agents import (UserAgent, DialogAgent)\n",
    "from agentscope.message import Msg\n",
    "from agentscope.service import (ServiceToolkit, ServiceResponse)"
   ]
  },
  {
   "cell_type": "code",
   "execution_count": 2,
   "metadata": {},
   "outputs": [
    {
     "name": "stdout",
     "output_type": "stream",
     "text": [
      "device = cuda; devive_cnt = 1\n",
      "2.2.0+cu118\n",
      "11.8\n",
      "0.0.6alpha2\n"
     ]
    }
   ],
   "source": [
    "device = th.device(\"cuda\" if th.cuda.is_available() else \"cpu\")\n",
    "devive_cnt = th.cuda.device_count()\n",
    "print(f\"device = {device}; devive_cnt = {devive_cnt}\")\n",
    "print(th.__version__)\n",
    "print(th.version.cuda)\n",
    "print(agentscope.__version__)"
   ]
  },
  {
   "cell_type": "markdown",
   "metadata": {},
   "source": [
    "## step-1: 准备模型配置文件"
   ]
  },
  {
   "cell_type": "code",
   "execution_count": 9,
   "metadata": {},
   "outputs": [],
   "source": [
    "lst_model_config = [\n",
    "    {\n",
    "        \"config_name\": \"ollama_chat-qwen2:7b\",\n",
    "        \"model_type\": \"ollama_chat\",\n",
    "        \"model_name\": \"qwen2:7b\",\n",
    "        \"options\": {\"temperature\": 0.7},\n",
    "        \"keep_alive\": \"5m\",\n",
    "        # \"api_key\": \"xxx\",\n",
    "        # \"organization\": \"xxx\",\n",
    "    }\n",
    "]  # 可配置多个模型"
   ]
  },
  {
   "cell_type": "code",
   "execution_count": 10,
   "metadata": {},
   "outputs": [
    {
     "name": "stdout",
     "output_type": "stream",
     "text": [
      "2024-08-18 13:49:45.294 | WARNING  | agentscope.models:read_model_configs:179 - config_name [ollama_chat-qwen2:7b] already exists.\n",
      "2024-08-18 13:49:45.295 | INFO     | agentscope.models:read_model_configs:186 - Load configs for model wrapper: ollama_chat-qwen2:7b\n"
     ]
    },
    {
     "data": {
      "text/plain": [
       "[]"
      ]
     },
     "execution_count": 10,
     "metadata": {},
     "output_type": "execute_result"
    }
   ],
   "source": [
    "agentscope.init(model_configs=lst_model_config)\n",
    "# agentscope.init(model_configs=\"./model_config.json\")"
   ]
  },
  {
   "cell_type": "markdown",
   "metadata": {},
   "source": [
    "## step-2: 连接 AgentScope"
   ]
  },
  {
   "cell_type": "code",
   "execution_count": 11,
   "metadata": {},
   "outputs": [
    {
     "name": "stdout",
     "output_type": "stream",
     "text": [
      "2024-08-18 13:52:32.909 | INFO     | agentscope.models.model:__init__:201 - Initialize model by configuration [ollama_chat-qwen2:7b]\n"
     ]
    }
   ],
   "source": [
    "agent = DialogAgent(\n",
    "    name=\"assistant\",\n",
    "    sys_prompt=\"You are a helpful assistant.\",\n",
    "    model_config_name=\"ollama_chat-qwen2:7b\"\n",
    ")"
   ]
  },
  {
   "cell_type": "code",
   "execution_count": 48,
   "metadata": {},
   "outputs": [
    {
     "name": "stdout",
     "output_type": "stream",
     "text": [
      "\u001b[91m\u001b[1massistant\u001b[0m\u001b[0m: 我是一个人工智能助手，专门用来提供信息、解答问题和进行日常对话。如果您对制定出行计划还有其他疑问或者需要进一步的建议，请随时告诉我。祝您旅途愉快！\n"
     ]
    }
   ],
   "source": [
    "request = Msg(name=\"Lukas\", content=\"你是谁？\", role=\"user\")\n",
    "# request = Msg(name=\"Bob\", content=\"What about this picture I took?\", url=\"/path/to/picture.jpg\")\n",
    "response = agent(request)"
   ]
  },
  {
   "cell_type": "code",
   "execution_count": 36,
   "metadata": {},
   "outputs": [
    {
     "name": "stdout",
     "output_type": "stream",
     "text": [
      "{\n",
      "    \"id\": \"cfc1de10d1f942ed8788827ddb7f0470\",\n",
      "    \"timestamp\": \"2024-08-18 14:00:07\",\n",
      "    \"name\": \"assistant\",\n",
      "    \"content\": \"\\u6211\\u662f\\u60a8\\u7684\\u667a\\u80fd\\u52a9\\u624b\\uff0c\\u4e00\\u4e2a\\u63d0\\u4f9b\\u5e2e\\u52a9\\u3001\\u89e3\\u7b54\\u95ee\\u9898\\u4ee5\\u53ca\\u4e0e\\u60a8\\u8fdb\\u884c\\u7b80\\u5355\\u5bf9\\u8bdd\\u7684\\u4eba\\u5de5\\u667a\\u80fd\\u7cfb\\u7edf\\u3002\\u8bf7\\u95ee\\u60a8\\u9700\\u8981\\u4ec0\\u4e48\\u5e2e\\u52a9\\u5462\\uff1f\",\n",
      "    \"role\": \"assistant\",\n",
      "    \"url\": null,\n",
      "    \"metadata\": null\n",
      "}\n"
     ]
    }
   ],
   "source": [
    "print(json.dumps(response, indent=4))"
   ]
  },
  {
   "cell_type": "markdown",
   "metadata": {},
   "source": [
    "## step-3: 工具调用（未完）"
   ]
  },
  {
   "cell_type": "code",
   "execution_count": 43,
   "metadata": {},
   "outputs": [],
   "source": [
    "def bing_search(\n",
    "    query: str, \n",
    "    api_key: str, \n",
    "    num_results: int = 10, \n",
    "    **kwargs: Any\n",
    "    ) -> ServiceResponse:\n",
    "    \"\"\"Search question in Bing Search API and return the searching results.\n",
    "\n",
    "    Args:\n",
    "        query (str): The search query string.\n",
    "        api_key (str): The API key provided for authenticating with the Bing Search API.\n",
    "        num_results (int, optional): The number of searching results. Defaults to 10.\n",
    "\n",
    "    Returns:\n",
    "        ServiceResponse: _description_\n",
    "    \"\"\"\n",
    "    print(f\"Calling web_search function with query {query}\")\n",
    "    "
   ]
  },
  {
   "cell_type": "code",
   "execution_count": 44,
   "metadata": {},
   "outputs": [],
   "source": [
    "service_toolkit = ServiceToolkit()"
   ]
  },
  {
   "cell_type": "code",
   "execution_count": 45,
   "metadata": {},
   "outputs": [],
   "source": [
    "service_toolkit.add(\n",
    "    bing_search,\n",
    "    api_key=\"xxx\",\n",
    "    num_results=10\n",
    ")"
   ]
  },
  {
   "cell_type": "markdown",
   "metadata": {},
   "source": [
    "## step-4: Agent 间通信"
   ]
  },
  {
   "cell_type": "code",
   "execution_count": 49,
   "metadata": {},
   "outputs": [
    {
     "name": "stdout",
     "output_type": "stream",
     "text": [
      "2024-08-18 14:37:40.854 | INFO     | agentscope.models.model:__init__:201 - Initialize model by configuration [ollama_chat-qwen2:7b]\n",
      "2024-08-18 14:37:40.859 | INFO     | agentscope.models.model:__init__:201 - Initialize model by configuration [ollama_chat-qwen2:7b]\n"
     ]
    }
   ],
   "source": [
    "agent_lukas = DialogAgent(\n",
    "    name=\"Lukas\",\n",
    "    sys_prompt=\"You are husband.\",\n",
    "    model_config_name=\"ollama_chat-qwen2:7b\"\n",
    ")\n",
    "\n",
    "agent_s33 = DialogAgent(\n",
    "    name=\"S33\",\n",
    "    sys_prompt=\"You are wife.\",\n",
    "    model_config_name=\"ollama_chat-qwen2:7b\"\n",
    ")"
   ]
  },
  {
   "cell_type": "code",
   "execution_count": 51,
   "metadata": {},
   "outputs": [
    {
     "name": "stdout",
     "output_type": "stream",
     "text": [
      "2024-08-18 14:42:22.442 | WARNING  | agentscope.message:__init__:150 - A new field `role` is newly added to the message. Please specify the role of the message. Currently we use a default \"assistant\" value.\n",
      "\u001b[92m\u001b[1mLukas\u001b[0m\u001b[0m: Welcome home, son! How was your day? Did anything interesting happen while you were out?\n",
      "\u001b[93m\u001b[1mS33\u001b[0m\u001b[0m: Hello, sweetheart. It's nice to see you again. Your dad and I were just talking about how your day went. Is there something specific you want to share or should we wait until you're ready to talk about it?\n"
     ]
    }
   ],
   "source": [
    "msg = Msg(name=\"son\", content=\"Dad, Mum, I'm back.\")\n",
    "\n",
    "with msghub(participants=[agent_lukas, agent_s33], announcement=msg) as hub:\n",
    "    agent_lukas()\n",
    "    agent_s33()"
   ]
  },
  {
   "cell_type": "code",
   "execution_count": 53,
   "metadata": {},
   "outputs": [
    {
     "name": "stdout",
     "output_type": "stream",
     "text": [
      "[\n",
      "    {\n",
      "        \"id\": \"267cb91344954d84b04cd76dfb290edd\",\n",
      "        \"timestamp\": \"2024-08-18 14:42:22\",\n",
      "        \"name\": \"son\",\n",
      "        \"content\": \"Dad, Mum, I'm back.\",\n",
      "        \"role\": \"assistant\",\n",
      "        \"url\": null,\n",
      "        \"metadata\": null\n",
      "    },\n",
      "    {\n",
      "        \"id\": \"1f3bdffea40a45dd859ad037eda00ccf\",\n",
      "        \"timestamp\": \"2024-08-18 14:42:25\",\n",
      "        \"name\": \"Lukas\",\n",
      "        \"content\": \"Welcome home, son! How was your day? Did anything interesting happen while you were out?\",\n",
      "        \"role\": \"assistant\",\n",
      "        \"url\": null,\n",
      "        \"metadata\": null\n",
      "    },\n",
      "    {\n",
      "        \"id\": \"41dc14178dd445e5a8a8ada825d0e7c6\",\n",
      "        \"timestamp\": \"2024-08-18 14:42:26\",\n",
      "        \"name\": \"S33\",\n",
      "        \"content\": \"Hello, sweetheart. It's nice to see you again. Your dad and I were just talking about how your day went. Is there something specific you want to share or should we wait until you're ready to talk about it?\",\n",
      "        \"role\": \"assistant\",\n",
      "        \"url\": null,\n",
      "        \"metadata\": null\n",
      "    }\n",
      "]\n"
     ]
    }
   ],
   "source": [
    "print(json.dumps(agent_lukas.memory.get_memory(), indent=4))"
   ]
  },
  {
   "cell_type": "code",
   "execution_count": null,
   "metadata": {},
   "outputs": [],
   "source": [
    "with msghub(participants=[agent_lukas, agent_s33], announcement=request) as hub:\n",
    "    agent_lukas()\n",
    "    agent_s33()\n",
    "    \n",
    "    hub.add(agent_3)\n",
    "    hub.delete(agent_s33)\n",
    "    hub.broadcast(msg=Msg(name=\"son\", content=\"Dad, Mum, I'm leaving.\"))\n",
    "    \n",
    "    agent_3()"
   ]
  }
 ],
 "metadata": {
  "kernelspec": {
   "display_name": "base",
   "language": "python",
   "name": "python3"
  },
  "language_info": {
   "codemirror_mode": {
    "name": "ipython",
    "version": 3
   },
   "file_extension": ".py",
   "mimetype": "text/x-python",
   "name": "python",
   "nbconvert_exporter": "python",
   "pygments_lexer": "ipython3",
   "version": "3.11.5"
  }
 },
 "nbformat": 4,
 "nbformat_minor": 2
}
