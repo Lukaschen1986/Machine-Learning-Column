{
 "cells": [
  {
   "cell_type": "code",
   "execution_count": 6,
   "metadata": {},
   "outputs": [],
   "source": [
    "import os\n",
    "import warnings; warnings.filterwarnings(\"ignore\")\n",
    "import torch as th\n",
    "from crewai import (Agent, Task, Crew)\n",
    "from langchain.llms import Ollama\n",
    "from crewai_tools import SerperDevTool"
   ]
  },
  {
   "cell_type": "code",
   "execution_count": 2,
   "metadata": {},
   "outputs": [
    {
     "name": "stdout",
     "output_type": "stream",
     "text": [
      "device = cuda; devive_cnt = 1\n",
      "torch version = 2.0.1+cu118\n",
      "cuda version = 11.8\n"
     ]
    }
   ],
   "source": [
    "device = th.device(\"cuda\" if th.cuda.is_available() else \"cpu\")\n",
    "devive_cnt = th.cuda.device_count()\n",
    "print(f\"device = {device}; devive_cnt = {devive_cnt}\")\n",
    "print(f\"torch version = {th.__version__}\")\n",
    "print(f\"cuda version = {th.version.cuda}\")"
   ]
  },
  {
   "cell_type": "markdown",
   "metadata": {},
   "source": [
    "## step-1: 配置默认大模型（OpenAI）"
   ]
  },
  {
   "cell_type": "code",
   "execution_count": 3,
   "metadata": {},
   "outputs": [],
   "source": [
    "os.environ[\"OPENAI_API_KEY\"] = \"\"\n",
    "os.environ[\"OPENAI_MODEL_NAME\"] = \"gpt-3.5-turbo\"  # gpt-4"
   ]
  },
  {
   "cell_type": "markdown",
   "metadata": {},
   "source": [
    "## step-1: 配置本地大模型（Ollama）"
   ]
  },
  {
   "cell_type": "code",
   "execution_count": 3,
   "metadata": {},
   "outputs": [],
   "source": [
    "ollama_openhermes = Ollama(model=\"openhermes\")\n",
    "ollama_solar = Ollama(model=\"Solar\")"
   ]
  },
  {
   "cell_type": "markdown",
   "metadata": {},
   "source": [
    "## step-2: Agent"
   ]
  },
  {
   "cell_type": "code",
   "execution_count": 4,
   "metadata": {},
   "outputs": [],
   "source": [
    "agent = Agent(\n",
    "    role=\"Data Analyst\",\n",
    "    goal=\"Extract actionable insights\",\n",
    "    backstory=(\n",
    "       \"You're a data analyst at a large company.\"\n",
    "       \"You're responsible for analyzing data and providing insights to the business.\"\n",
    "       \"You're currently working on a project to analyze the performance of our marketing campaigns.\"\n",
    "   ),\n",
    "    llm=ollama_openhermes,  # Optional, defaulting to \"gpt-4\" if not specified\n",
    "    # tools=[my_tool1, my_tool2],  # Optional, defaults to an empty list\n",
    "    allow_delegation=False,  # Optional, Default is True.\n",
    "    verbose=True,  # Optional\n",
    "    # cache=True  # Optional, Default is True.\n",
    "    # function_calling_llm=my_llm,  # Optional\n",
    "    # max_iter=25,  # Optional\n",
    "    # max_rpm=None, # Optional\n",
    "    # step_callback=my_intermediate_step_callback,  # Optional\n",
    ")"
   ]
  },
  {
   "cell_type": "code",
   "execution_count": 8,
   "metadata": {},
   "outputs": [],
   "source": [
    "research_agent = Agent(\n",
    "    role=\"Researcher\",\n",
    "    goal=\"Find and summarize the latest AI news\",\n",
    "    backstory=(\n",
    "        \"You're a researcher at a large company.\"\n",
    "        \"You're responsible for analyzing data and providing insights to the business.\"\n",
    "    ),\n",
    "    llm=ollama_openhermes,\n",
    "    allow_delegation=False,\n",
    "    verbose=True\n",
    ")"
   ]
  },
  {
   "cell_type": "markdown",
   "metadata": {},
   "source": [
    "## step-3: Task"
   ]
  },
  {
   "cell_type": "markdown",
   "metadata": {},
   "source": [
    "### 确保每个任务只设置一种输出类型，以保持清晰的输出"
   ]
  },
  {
   "cell_type": "code",
   "execution_count": null,
   "metadata": {},
   "outputs": [],
   "source": [
    "search_tool = SerperDevTool()"
   ]
  },
  {
   "cell_type": "code",
   "execution_count": 11,
   "metadata": {},
   "outputs": [],
   "source": [
    "task = Task(\n",
    "  description=\"Find and summarize the latest AI news\",\n",
    "  expected_output=\"A bullet list summary of the top 5 most important AI news\",\n",
    "  agent=research_agent,\n",
    "  tools=[search_tool],\n",
    "#   context=[task_2, task_3],\n",
    "#   async_execution=False,\n",
    "#   output_json=class,\n",
    "#   output_file=\"xxx.json\",\n",
    "#   human_input=False\n",
    ")"
   ]
  },
  {
   "cell_type": "code",
   "execution_count": 14,
   "metadata": {},
   "outputs": [],
   "source": [
    "research_ai_task = Task(\n",
    "    description=\"Find and summarize the latest AI news\",\n",
    "    expected_output=\"A bullet list summary of the top 5 most important AI news\",\n",
    "    agent=research_agent,\n",
    "    async_execution=True,\n",
    "    tools=[search_tool]\n",
    ")"
   ]
  },
  {
   "cell_type": "code",
   "execution_count": 15,
   "metadata": {},
   "outputs": [],
   "source": [
    "research_ops_task = Task(\n",
    "    description=\"Find and summarize the latest AI news\",\n",
    "    expected_output=\"A bullet list summary of the top 5 most important AI news\",\n",
    "    agent=research_agent,\n",
    "    async_execution=True,\n",
    "    tools=[search_tool]\n",
    ")"
   ]
  },
  {
   "cell_type": "code",
   "execution_count": null,
   "metadata": {},
   "outputs": [],
   "source": [
    "write_blog_task = Task(\n",
    "    description=\"Write a full blog post about the importance of AI and its latest news\",\n",
    "    expected_output=\"Full blog post that is 4 paragraphs long\",\n",
    "    agent=writer_agent,\n",
    "    context=[research_ai_task, research_ops_task]\n",
    ")"
   ]
  },
  {
   "cell_type": "code",
   "execution_count": null,
   "metadata": {},
   "outputs": [],
   "source": [
    "# The callback function is executed after the task is completed\n",
    "def callback_function(output):\n",
    "    # Do something after the task is completed\n",
    "    # Example: Send an email to the manager\n",
    "    print(f\"\"\"\n",
    "        Task completed!\n",
    "        Task: {output.description}\n",
    "        Output: {output.raw_output}\n",
    "    \"\"\")\n",
    "\n",
    "research_task = Task(\n",
    "    description=\"Find and summarize the latest AI news\",\n",
    "    expected_output=\"A bullet list summary of the top 5 most important AI news\",\n",
    "    agent=research_agent,\n",
    "    tools=[search_tool],\n",
    "    callback=callback_function\n",
    ")"
   ]
  },
  {
   "cell_type": "code",
   "execution_count": 12,
   "metadata": {},
   "outputs": [],
   "source": [
    "crew = Crew(\n",
    "    agents=[research_agent],\n",
    "    tasks=[research_ai_task, research_ops_task, write_blog_task],\n",
    "    verbose=2\n",
    ")"
   ]
  },
  {
   "cell_type": "code",
   "execution_count": null,
   "metadata": {},
   "outputs": [],
   "source": [
    "result = crew.kickoff()\n",
    "print(result)"
   ]
  },
  {
   "cell_type": "code",
   "execution_count": null,
   "metadata": {},
   "outputs": [],
   "source": [
    "print(\n",
    "    \"Task completed!\"\n",
    "    f\"Task: {research_ai_task.output.description}\"\n",
    "    f\"Output: {research_ai_task.output.raw_output}\"\n",
    ")"
   ]
  },
  {
   "cell_type": "markdown",
   "metadata": {},
   "source": [
    "## step-4: Tools"
   ]
  },
  {
   "cell_type": "code",
   "execution_count": null,
   "metadata": {},
   "outputs": [],
   "source": []
  }
 ],
 "metadata": {
  "kernelspec": {
   "display_name": "base",
   "language": "python",
   "name": "python3"
  },
  "language_info": {
   "codemirror_mode": {
    "name": "ipython",
    "version": 3
   },
   "file_extension": ".py",
   "mimetype": "text/x-python",
   "name": "python",
   "nbconvert_exporter": "python",
   "pygments_lexer": "ipython3",
   "version": "3.11.5"
  }
 },
 "nbformat": 4,
 "nbformat_minor": 2
}
