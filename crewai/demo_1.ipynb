{
 "cells": [
  {
   "cell_type": "code",
   "execution_count": 7,
   "metadata": {},
   "outputs": [],
   "source": [
    "import os\n",
    "import warnings; warnings.filterwarnings(\"ignore\")\n",
    "import torch as th\n",
    "from crewai import (Agent, Task, Crew)\n",
    "from langchain.llms import Ollama\n",
    "from crewai_tools import (BaseTool, tool, DirectoryReadTool, FileReadTool, SerperDevTool, WebsiteSearchTool)\n",
    "from crewai.process import Process\n",
    "from langchain_openai import ChatOpenAI"
   ]
  },
  {
   "cell_type": "code",
   "execution_count": 2,
   "metadata": {},
   "outputs": [
    {
     "name": "stdout",
     "output_type": "stream",
     "text": [
      "device = cuda; devive_cnt = 1\n",
      "torch version = 2.0.1+cu118\n",
      "cuda version = 11.8\n"
     ]
    }
   ],
   "source": [
    "device = th.device(\"cuda\" if th.cuda.is_available() else \"cpu\")\n",
    "devive_cnt = th.cuda.device_count()\n",
    "print(f\"device = {device}; devive_cnt = {devive_cnt}\")\n",
    "print(f\"torch version = {th.__version__}\")\n",
    "print(f\"cuda version = {th.version.cuda}\")"
   ]
  },
  {
   "cell_type": "markdown",
   "metadata": {},
   "source": [
    "## step-1: 配置默认大模型（OpenAI）"
   ]
  },
  {
   "cell_type": "code",
   "execution_count": 3,
   "metadata": {},
   "outputs": [],
   "source": [
    "os.environ[\"OPENAI_API_KEY\"] = \"Your Key\"\n",
    "os.environ[\"OPENAI_MODEL_NAME\"] = \"gpt-3.5-turbo\"  # gpt-4\n",
    "os.environ[\"SERPER_API_KEY\"] = \"Your Key\""
   ]
  },
  {
   "cell_type": "markdown",
   "metadata": {},
   "source": [
    "## step-1: 配置本地大模型（Ollama）"
   ]
  },
  {
   "cell_type": "code",
   "execution_count": 3,
   "metadata": {},
   "outputs": [],
   "source": [
    "ollama_openhermes = Ollama(model=\"openhermes\")\n",
    "ollama_solar = Ollama(model=\"Solar\")"
   ]
  },
  {
   "cell_type": "markdown",
   "metadata": {},
   "source": [
    "## step-2: Agent"
   ]
  },
  {
   "cell_type": "markdown",
   "metadata": {},
   "source": [
    "### An agent is an autonomous unit programmed to:\n",
    "- Perform tasks\n",
    "- Make decisions\n",
    "- Communicate with other agents"
   ]
  },
  {
   "cell_type": "code",
   "execution_count": 4,
   "metadata": {},
   "outputs": [],
   "source": [
    "agent = Agent(\n",
    "    role=\"Data Analyst\",\n",
    "    goal=\"Extract actionable insights\",\n",
    "    backstory=(\n",
    "       \"You're a data analyst at a large company.\"\n",
    "       \"You're responsible for analyzing data and providing insights to the business.\"\n",
    "       \"You're currently working on a project to analyze the performance of our marketing campaigns.\"\n",
    "   ),\n",
    "    llm=ollama_openhermes,  # Optional, defaulting to \"gpt-4\" if not specified\n",
    "    # tools=[my_tool1, my_tool2],  # Optional, defaults to an empty list\n",
    "    allow_delegation=False,  # Optional, Default is True.\n",
    "    verbose=True,  # Optional\n",
    "    # cache=True  # Optional, Default is True.\n",
    "    # function_calling_llm=my_llm,  # Optional\n",
    "    # max_iter=25,  # Optional\n",
    "    # max_rpm=None, # Optional\n",
    "    # step_callback=my_intermediate_step_callback,  # Optional\n",
    ")"
   ]
  },
  {
   "cell_type": "code",
   "execution_count": 8,
   "metadata": {},
   "outputs": [],
   "source": [
    "research_agent = Agent(\n",
    "    role=\"Researcher\",\n",
    "    goal=\"Find and summarize the latest AI news\",\n",
    "    backstory=(\n",
    "        \"You're a researcher at a large company.\"\n",
    "        \"You're responsible for analyzing data and providing insights to the business.\"\n",
    "    ),\n",
    "    llm=ollama_openhermes,\n",
    "    allow_delegation=False,\n",
    "    verbose=True\n",
    ")"
   ]
  },
  {
   "cell_type": "markdown",
   "metadata": {},
   "source": [
    "## step-3: Task"
   ]
  },
  {
   "cell_type": "markdown",
   "metadata": {},
   "source": [
    "### 确保每个任务只设置一种输出类型，以保持清晰的输出"
   ]
  },
  {
   "cell_type": "code",
   "execution_count": null,
   "metadata": {},
   "outputs": [],
   "source": [
    "search_tool = SerperDevTool()"
   ]
  },
  {
   "cell_type": "code",
   "execution_count": 11,
   "metadata": {},
   "outputs": [],
   "source": [
    "task = Task(\n",
    "  description=\"Find and summarize the latest AI news\",\n",
    "  expected_output=\"A bullet list summary of the top 5 most important AI news\",\n",
    "  agent=research_agent,\n",
    "  tools=[search_tool],\n",
    "#   context=[task_2, task_3],\n",
    "#   async_execution=False,\n",
    "#   output_json=class,\n",
    "#   output_file=\"xxx.json\",\n",
    "#   human_input=False\n",
    ")"
   ]
  },
  {
   "cell_type": "code",
   "execution_count": 14,
   "metadata": {},
   "outputs": [],
   "source": [
    "research_ai_task = Task(\n",
    "    description=\"Find and summarize the latest AI news\",\n",
    "    expected_output=\"A bullet list summary of the top 5 most important AI news\",\n",
    "    agent=research_agent,\n",
    "    async_execution=True,\n",
    "    tools=[search_tool]\n",
    ")"
   ]
  },
  {
   "cell_type": "code",
   "execution_count": 15,
   "metadata": {},
   "outputs": [],
   "source": [
    "research_ops_task = Task(\n",
    "    description=\"Find and summarize the latest AI news\",\n",
    "    expected_output=\"A bullet list summary of the top 5 most important AI news\",\n",
    "    agent=research_agent,\n",
    "    async_execution=True,\n",
    "    tools=[search_tool]\n",
    ")"
   ]
  },
  {
   "cell_type": "code",
   "execution_count": null,
   "metadata": {},
   "outputs": [],
   "source": [
    "write_blog_task = Task(\n",
    "    description=\"Write a full blog post about the importance of AI and its latest news\",\n",
    "    expected_output=\"Full blog post that is 4 paragraphs long\",\n",
    "    agent=writer_agent,\n",
    "    context=[research_ai_task, research_ops_task]\n",
    ")"
   ]
  },
  {
   "cell_type": "code",
   "execution_count": null,
   "metadata": {},
   "outputs": [],
   "source": [
    "# The callback function is executed after the task is completed\n",
    "def callback_function(output):\n",
    "    # Do something after the task is completed\n",
    "    # Example: Send an email to the manager\n",
    "    print(f\"\"\"\n",
    "        Task completed!\n",
    "        Task: {output.description}\n",
    "        Output: {output.raw_output}\n",
    "    \"\"\")\n",
    "\n",
    "research_task = Task(\n",
    "    description=\"Find and summarize the latest AI news\",\n",
    "    expected_output=\"A bullet list summary of the top 5 most important AI news\",\n",
    "    agent=research_agent,\n",
    "    tools=[search_tool],\n",
    "    callback=callback_function\n",
    ")"
   ]
  },
  {
   "cell_type": "code",
   "execution_count": 12,
   "metadata": {},
   "outputs": [],
   "source": [
    "crew = Crew(\n",
    "    agents=[research_agent],\n",
    "    tasks=[research_ai_task, research_ops_task, write_blog_task],\n",
    "    verbose=2,\n",
    "    # full_output=True\n",
    ")"
   ]
  },
  {
   "cell_type": "code",
   "execution_count": null,
   "metadata": {},
   "outputs": [],
   "source": [
    "result = crew.kickoff()\n",
    "print(result)"
   ]
  },
  {
   "cell_type": "code",
   "execution_count": null,
   "metadata": {},
   "outputs": [],
   "source": [
    "print(\n",
    "    \"Task completed!\"\n",
    "    f\"Task: {research_ai_task.output.description}\"\n",
    "    f\"Output: {research_ai_task.output.raw_output}\"\n",
    ")"
   ]
  },
  {
   "cell_type": "markdown",
   "metadata": {},
   "source": [
    "## step-4: Tools"
   ]
  },
  {
   "cell_type": "markdown",
   "metadata": {},
   "source": [
    "### 工具的主要特点\n",
    "- Utility: 专为web搜索、数据分析、内容生成 和 代理协作 等任务而设计。\n",
    "- Integration: 通过无缝地将工具集成到 工作流 中，提高 Agent 的能力。\n",
    "- Customizability: 提供开发定制工具或利用现有工具的灵活性，以满足 Agent 的特定需求。\n",
    "- Error Handling: 包含强大的错误处理机制，以确保平稳运行。\n",
    "- Caching Mechanism: 智能缓存功能，优化性能，减少冗余操作。"
   ]
  },
  {
   "cell_type": "markdown",
   "metadata": {},
   "source": [
    "### 工具列表\n",
    "#### Search\n",
    "- DirectorySearchTool: 用于在目录中搜索的RAG工具，用于在文件系统中导航。\n",
    "- CodeDocsSearchTool: 为搜索代码文档和相关技术文档而优化的RAG工具。\n",
    "- GithubSearchTool: 一个用于在GitHub存储库中搜索的RAG工具，用于代码和文档搜索。\n",
    "- DOCXSearchTool: 一个RAG工具，用于在DOCX文档中搜索，非常适合处理Word文件。\n",
    "- CSVSearchTool: 一个为在CSV文件中搜索而设计的RAG工具，专门用于处理结构化数据。\n",
    "- JSONSearchTool: 一个为在JSON文件中搜索而设计的RAG工具，用于结构化数据处理。\n",
    "- XMLSearchTool: 一个为在XML文件中搜索而设计的RAG工具，适用于结构化数据格式。\n",
    "- TXTSearchTool: 一个专注于在文本(.txt)文件中搜索的RAG工具，适用于非结构化数据。\n",
    "- MDXSearchTool: 一个专门用于在Markdown (MDX)文件中搜索的RAG工具，对文档编制很有用。\n",
    "- PDFSearchTool: 一个用于搜索PDF文档的RAG工具，非常适合处理扫描文档。\n",
    "- PGSearchTool: 一个优化了在PostgreSQL数据库中搜索的RAG工具，适用于数据库查询。\n",
    "- RagTool: 一种通用的RAG工具，能够处理各种数据源和类型。\n",
    "- WebsiteSearchTool: 一个搜索网站内容的RAG工具，优化了网络数据提取。\n",
    "- YoutubeChannelSearchTool: 一个搜索YouTube频道的RAG工具，用于视频内容分析。\n",
    "- YoutubeVideoSearchTool: 一个RAG工具，旨在搜索YouTube视频，理想的视频数据提取。\n",
    "- SerperDevTool: 用于开发目的的专用工具，具有正在开发的特定功能。\n",
    "#### Scrape\n",
    "- ScrapeElementFromWebsiteTool: 允许从网站上抓取特定元素，用于目标数据提取。\n",
    "- ScrapeWebsiteTool: 方便抓取整个网站，理想的全面的数据收集。\n",
    "#### Read\n",
    "- DirectoryReadTool: 便于读取和处理目录结构及其内容。\n",
    "- FileReadTool: 支持从文件中读取和提取数据，支持各种文件格式。"
   ]
  },
  {
   "cell_type": "code",
   "execution_count": null,
   "metadata": {},
   "outputs": [],
   "source": [
    "# Instantiate tools\n",
    "docs_tool = DirectoryReadTool(directory='./blog-posts')\n",
    "file_tool = FileReadTool()\n",
    "search_tool = SerperDevTool()\n",
    "web_rag_tool = WebsiteSearchTool()"
   ]
  },
  {
   "cell_type": "code",
   "execution_count": null,
   "metadata": {},
   "outputs": [],
   "source": [
    "# Create agents\n",
    "researcher = Agent(\n",
    "    role='Market Research Analyst',\n",
    "    goal='Provide up-to-date market analysis of the AI industry',\n",
    "    backstory='An expert analyst with a keen eye for market trends.',\n",
    "    tools=[search_tool, web_rag_tool],\n",
    "    verbose=True\n",
    ")\n",
    "\n",
    "writer = Agent(\n",
    "    role='Content Writer',\n",
    "    goal='Craft engaging blog posts about the AI industry',\n",
    "    backstory='A skilled writer with a passion for technology.',\n",
    "    tools=[docs_tool, file_tool],\n",
    "    verbose=True\n",
    ")"
   ]
  },
  {
   "cell_type": "code",
   "execution_count": null,
   "metadata": {},
   "outputs": [],
   "source": [
    "# Define tasks\n",
    "research = Task(\n",
    "    description='Research the latest trends in the AI industry and provide a summary.',\n",
    "    expected_output='A summary of the top 3 trending developments in the AI industry with a unique perspective on their significance.',\n",
    "    agent=researcher\n",
    ")\n",
    "\n",
    "write = Task(\n",
    "    description='Write an engaging blog post about the AI industry, based on the research analyst’s summary. Draw inspiration from the latest blog posts in the directory.',\n",
    "    expected_output='A 4-paragraph blog post formatted in markdown with engaging, informative, and accessible content, avoiding complex jargon.',\n",
    "    agent=writer,\n",
    "    output_file='blog-posts/new_post.md'  # The final blog post will be saved here\n",
    ")"
   ]
  },
  {
   "cell_type": "code",
   "execution_count": null,
   "metadata": {},
   "outputs": [],
   "source": [
    "# Assemble a crew\n",
    "crew = Crew(\n",
    "    agents=[researcher, writer],\n",
    "    tasks=[research, write],\n",
    "    verbose=2\n",
    ")"
   ]
  },
  {
   "cell_type": "code",
   "execution_count": null,
   "metadata": {},
   "outputs": [],
   "source": [
    "# Execute tasks\n",
    "crew.kickoff()"
   ]
  },
  {
   "cell_type": "code",
   "execution_count": null,
   "metadata": {},
   "outputs": [],
   "source": [
    "# Creating your own Tools - 1\n",
    "class MyCustomTool(BaseTool):\n",
    "    name: str = \"Name of my tool\"\n",
    "    description: str = \"Clear description for what this tool is useful for, you agent will need this information to use it.\"\n",
    "\n",
    "    def _run(self, argument: str) -> str:\n",
    "        # Implementation goes here\n",
    "        return \"Result from custom tool\"\n",
    "\n",
    "# Creating your own Tools - 2\n",
    "@tool(\"Name of my tool\")\n",
    "def my_tool(question: str) -> str:\n",
    "    \"\"\"Clear description for what this tool is useful for, you agent will need this information to use it.\"\"\"\n",
    "    # Function logic here\n",
    "    return \"Result from your custom tool\""
   ]
  },
  {
   "cell_type": "markdown",
   "metadata": {},
   "source": [
    "## step-5: Processes"
   ]
  },
  {
   "cell_type": "markdown",
   "metadata": {},
   "source": [
    "### Process 的实现\n",
    "- Sequential: 按顺序执行任务，确保任务按顺序完成。\n",
    "- Hierarchical: 在管理层次结构中组织任务，其中任务根据结构化的命令链进行委派和执行。必须在团队中指定一个管理器语言模型(manager_llm)，以启用分层流程，促进管理器创建和管理任务。\n",
    "- Consensual Process (Planned): 针对任务执行过程中各代理之间的协作决策，这种流程类型在CrewAI中引入了一种民主的任务管理方法。它计划用于未来的开发，目前还没有在代码库中实现。"
   ]
  },
  {
   "cell_type": "code",
   "execution_count": null,
   "metadata": {},
   "outputs": [],
   "source": [
    "# Example: Creating a crew with a sequential process\n",
    "crew = Crew(\n",
    "    agents=my_agents,\n",
    "    tasks=my_tasks,\n",
    "    process=Process.sequential,\n",
    "    manager_llm=None\n",
    ")"
   ]
  },
  {
   "cell_type": "code",
   "execution_count": null,
   "metadata": {},
   "outputs": [],
   "source": [
    "# Example: Creating a crew with a hierarchical process\n",
    "# Ensure to provide a manager_llm\n",
    "crew = Crew(\n",
    "    agents=my_agents,\n",
    "    tasks=my_tasks,\n",
    "    process=Process.hierarchical,\n",
    "    manager_llm=ChatOpenAI(model=\"gpt-4\")  # hierarchical 必选\n",
    ")"
   ]
  },
  {
   "cell_type": "markdown",
   "metadata": {},
   "source": [
    "## step-6: Crew"
   ]
  },
  {
   "cell_type": "code",
   "execution_count": null,
   "metadata": {},
   "outputs": [],
   "source": [
    "# Assemble the crew with a sequential process\n",
    "my_crew = Crew(\n",
    "    agents=[researcher, writer],\n",
    "    tasks=[research_task, write_article_task],\n",
    "    process=Process.sequential,\n",
    "    memory=True,\n",
    "    Cache=True,\n",
    "    full_output=True,\n",
    "    verbose=True\n",
    ")"
   ]
  },
  {
   "cell_type": "markdown",
   "metadata": {},
   "source": [
    "## step-7: Collaboration"
   ]
  },
  {
   "cell_type": "markdown",
   "metadata": {},
   "source": [
    "## step-8: Memory"
   ]
  }
 ],
 "metadata": {
  "kernelspec": {
   "display_name": "base",
   "language": "python",
   "name": "python3"
  },
  "language_info": {
   "codemirror_mode": {
    "name": "ipython",
    "version": 3
   },
   "file_extension": ".py",
   "mimetype": "text/x-python",
   "name": "python",
   "nbconvert_exporter": "python",
   "pygments_lexer": "ipython3",
   "version": "3.11.5"
  }
 },
 "nbformat": 4,
 "nbformat_minor": 2
}
