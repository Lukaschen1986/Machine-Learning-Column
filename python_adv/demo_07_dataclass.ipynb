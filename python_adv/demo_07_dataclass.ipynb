{
 "cells": [
  {
   "cell_type": "code",
   "execution_count": 15,
   "metadata": {},
   "outputs": [],
   "source": [
    "import random as rd\n",
    "from dataclasses import (dataclass, field)\n",
    "from typing import ClassVar"
   ]
  },
  {
   "cell_type": "markdown",
   "metadata": {},
   "source": [
    "## step-1: 与基本类比较"
   ]
  },
  {
   "cell_type": "code",
   "execution_count": 1,
   "metadata": {},
   "outputs": [],
   "source": [
    "class NormalPerson(object):\n",
    "    def __init__(self, name, age):\n",
    "        self.name = name\n",
    "        self.age = age"
   ]
  },
  {
   "cell_type": "code",
   "execution_count": 3,
   "metadata": {},
   "outputs": [],
   "source": [
    "@dataclass\n",
    "class DataPerson:\n",
    "    name: str\n",
    "    age: int"
   ]
  },
  {
   "cell_type": "code",
   "execution_count": 4,
   "metadata": {},
   "outputs": [
    {
     "name": "stdout",
     "output_type": "stream",
     "text": [
      "<__main__.NormalPerson object at 0x0000019FFCB04B50>\n",
      "DataPerson(name='Alice', age=20)\n"
     ]
    }
   ],
   "source": [
    "person1 = NormalPerson(name=\"Alice\", age=20)\n",
    "person2 = DataPerson(name=\"Alice\", age=20)\n",
    "print(person1)\n",
    "print(person2)"
   ]
  },
  {
   "cell_type": "markdown",
   "metadata": {},
   "source": [
    "## step-2: order 参数"
   ]
  },
  {
   "cell_type": "code",
   "execution_count": null,
   "metadata": {},
   "outputs": [],
   "source": [
    "@dataclass(order=True)\n",
    "class DataPerson:\n",
    "    name: str\n",
    "    age: int"
   ]
  },
  {
   "cell_type": "code",
   "execution_count": 10,
   "metadata": {},
   "outputs": [
    {
     "name": "stdout",
     "output_type": "stream",
     "text": [
      "True\n"
     ]
    }
   ],
   "source": [
    "person1 = DataPerson(name=\"Alice\", age=30)\n",
    "person2 = DataPerson(name=\"Alice\", age=20)\n",
    "print(person1 > person2)  # 默认对第一个可比较大小的字段进行"
   ]
  },
  {
   "cell_type": "markdown",
   "metadata": {},
   "source": [
    "## step-3: 高阶方法"
   ]
  },
  {
   "cell_type": "code",
   "execution_count": 13,
   "metadata": {},
   "outputs": [],
   "source": [
    "@dataclass(order=True)\n",
    "class DataPerson:\n",
    "    name: str\n",
    "    age: int\n",
    "    height: int = field(default_factory=lambda: rd.randint(150, 200))"
   ]
  },
  {
   "cell_type": "code",
   "execution_count": 14,
   "metadata": {},
   "outputs": [
    {
     "name": "stdout",
     "output_type": "stream",
     "text": [
      "185\n"
     ]
    }
   ],
   "source": [
    "person1 = DataPerson(name=\"Alice\", age=30)\n",
    "print(person1.height)"
   ]
  },
  {
   "cell_type": "code",
   "execution_count": 16,
   "metadata": {},
   "outputs": [],
   "source": [
    "@dataclass(order=True)\n",
    "class DataPerson:\n",
    "    name: str\n",
    "    age: int\n",
    "    height: int = field(default_factory=lambda: rd.randint(150, 200))\n",
    "    person_num: ClassVar[int] = 0\n",
    "\n",
    "    def __post_init__(self):\n",
    "        DataPerson.person_num += 1"
   ]
  },
  {
   "cell_type": "code",
   "execution_count": 17,
   "metadata": {},
   "outputs": [
    {
     "name": "stdout",
     "output_type": "stream",
     "text": [
      "2\n"
     ]
    }
   ],
   "source": [
    "person1 = DataPerson(name=\"Alice\", age=30)\n",
    "person2 = DataPerson(name=\"Alice\", age=20)\n",
    "print(DataPerson.person_num)"
   ]
  },
  {
   "cell_type": "markdown",
   "metadata": {},
   "source": [
    "## step-4: 应用场景"
   ]
  },
  {
   "cell_type": "code",
   "execution_count": null,
   "metadata": {},
   "outputs": [],
   "source": [
    "# 配置的类\n",
    "@dataclass\n",
    "class AppConfig:\n",
    "    db_host: str = \"localhost\"\n",
    "    db_port: int = 8080\n",
    "    debug_mode: bool = False\n",
    "    max_connections: int = 100"
   ]
  }
 ],
 "metadata": {
  "kernelspec": {
   "display_name": "base",
   "language": "python",
   "name": "python3"
  },
  "language_info": {
   "codemirror_mode": {
    "name": "ipython",
    "version": 3
   },
   "file_extension": ".py",
   "mimetype": "text/x-python",
   "name": "python",
   "nbconvert_exporter": "python",
   "pygments_lexer": "ipython3",
   "version": "3.11.5"
  }
 },
 "nbformat": 4,
 "nbformat_minor": 2
}
