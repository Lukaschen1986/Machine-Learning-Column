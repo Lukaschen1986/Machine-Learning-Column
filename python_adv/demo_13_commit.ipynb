{
 "cells": [
  {
   "cell_type": "markdown",
   "id": "2966dfbb",
   "metadata": {},
   "source": [
    "好的 commit  \n",
    "1 - 类型  \n",
    "2 - 作用域  \n",
    "3 - 主题  \n",
    "4 - 正文  "
   ]
  },
  {
   "cell_type": "code",
   "execution_count": null,
   "id": "200b227e",
   "metadata": {},
   "outputs": [],
   "source": [
    "'''\n",
    "样例：\n",
    "1 - 类型: fix\n",
    "2 - 作用域: data_process\n",
    "3 - 主题: 修复数据预处理xxx问题\n",
    "4 - 正文: 具体的，修复了xxx\n",
    "'''"
   ]
  },
  {
   "cell_type": "markdown",
   "id": "4a43dc9b",
   "metadata": {},
   "source": [
    "![commit类型](C:/my_project/MyGit/Machine-Learning-Column/python_adv/pic/微信截图_20250706142843.png)"
   ]
  }
 ],
 "metadata": {
  "language_info": {
   "name": "python"
  }
 },
 "nbformat": 4,
 "nbformat_minor": 5
}
